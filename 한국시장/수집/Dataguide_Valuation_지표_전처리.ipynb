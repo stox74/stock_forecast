{
 "cells": [
  {
   "cell_type": "code",
   "id": "initial_id",
   "metadata": {
    "collapsed": true,
    "ExecuteTime": {
     "end_time": "2025-06-15T02:32:11.620623Z",
     "start_time": "2025-06-15T02:32:11.387424Z"
    }
   },
   "source": [
    "import  pandas as pd\n",
    "import numpy as np\n",
    "from sqlalchemy import create_engine, text"
   ],
   "outputs": [],
   "execution_count": 8
  },
  {
   "metadata": {
    "ExecuteTime": {
     "end_time": "2025-06-15T02:31:38.705445Z",
     "start_time": "2025-06-15T02:31:22.288784Z"
    }
   },
   "cell_type": "code",
   "source": [
    "# 1. 파일 로드\n",
    "path = r\"C:\\Users\\MetaM\\PycharmProjects\\investment\\data\\DataGuide_Ratio.xlsx\"\n",
    "raw_df = pd.read_excel(path, sheet_name='PSR', header=None)\n",
    "\n",
    "# 2. Symbol, Name, Indicator 추출\n",
    "symbol_row = 8\n",
    "name_row = 9\n",
    "item_name_row = 12\n",
    "start_data_row = 13\n",
    "\n",
    "symbols = raw_df.iloc[symbol_row, 2:].values\n",
    "names = raw_df.iloc[name_row, 2:].values\n",
    "indicators = raw_df.iloc[item_name_row, 2:].values\n",
    "\n",
    "# 3. 날짜 데이터 추출 + to_datetime 처리 (오류 무시)\n",
    "raw_dates = raw_df.iloc[start_data_row:, 0]\n",
    "parsed_dates = pd.to_datetime(raw_dates, format=\"%Y-%m-%d\", errors='coerce')\n",
    "\n",
    "# 4. long format으로 정리\n",
    "records = []\n",
    "for col_idx, symbol in enumerate(symbols):\n",
    "    if pd.isna(symbol):\n",
    "        continue\n",
    "    name = names[col_idx]\n",
    "    indicator = indicators[col_idx]\n",
    "    values = raw_df.iloc[start_data_row:, col_idx + 2].values\n",
    "    for date, value in zip(parsed_dates, values):\n",
    "        if pd.isna(date) or pd.isna(value):\n",
    "            continue\n",
    "        records.append({\n",
    "            'date': date,\n",
    "            'symbol': symbol,\n",
    "            'company_name': name,\n",
    "            'indicator': indicator,\n",
    "            'value': value\n",
    "        })\n",
    "\n",
    "# 5. 결과 DataFrame\n",
    "clean_df = pd.DataFrame(records)\n",
    "print(clean_df.head())\n",
    "\n",
    "\n",
    "# [[\"symbol\", \"company_name\", \"date\", \"indicator\", \"value\"]]"
   ],
   "id": "6846eb28d60bc2a0",
   "outputs": [
    {
     "name": "stdout",
     "output_type": "stream",
     "text": [
      "        date   symbol company_name      indicator    value\n",
      "0 2004-01-31  A000660       SK하이닉스  수정PSR(연율화)(배)  0.76583\n",
      "1 2004-02-29  A000660       SK하이닉스  수정PSR(연율화)(배)  0.76754\n",
      "2 2004-03-31  A000660       SK하이닉스  수정PSR(연율화)(배)  1.04821\n",
      "3 2004-04-30  A000660       SK하이닉스  수정PSR(연율화)(배)  0.78614\n",
      "4 2004-05-31  A000660       SK하이닉스  수정PSR(연율화)(배)  0.74320\n"
     ]
    }
   ],
   "execution_count": 7
  },
  {
   "metadata": {
    "ExecuteTime": {
     "end_time": "2025-06-15T02:47:51.443388Z",
     "start_time": "2025-06-15T02:47:49.086936Z"
    }
   },
   "cell_type": "code",
   "source": [
    "## valuation 지표 DB 업로드\n",
    "def upload_fs_data_to_db(df: pd.DataFrame, db_info: dict, table_name: str = \"korea_fs_data\", chunk_size: int = 1000):\n",
    "    # ✅ 날짜 변환\n",
    "    df['date'] = pd.to_datetime(df['date'])\n",
    "\n",
    "    # ✅ 결측치 및 inf 처리\n",
    "    df = df.replace([np.inf, -np.inf], np.nan)\n",
    "    df = df.where(pd.notnull(df), None)\n",
    "\n",
    "    # ✅ DB 연결\n",
    "    engine = create_engine(\n",
    "        f\"mysql+pymysql://{db_info['user']}:{db_info['password']}@{db_info['host']}:{db_info['port']}/{db_info['database']}\"\n",
    "    )\n",
    "    conn = engine.raw_connection()\n",
    "    cursor = conn.cursor()\n",
    "\n",
    "    # ✅ 테이블 생성 쿼리\n",
    "    create_table_sql = f\"\"\"\n",
    "    CREATE TABLE IF NOT EXISTS `{table_name}` (\n",
    "        `date` DATE,\n",
    "        `symbol` VARCHAR(20),\n",
    "        `company_name` VARCHAR(50),\n",
    "        `indicator` VARCHAR(100),\n",
    "        `value` FLOAT,\n",
    "        PRIMARY KEY (`date`, `symbol`, `indicator`)\n",
    "    );\n",
    "    \"\"\"\n",
    "    cursor.execute(create_table_sql)\n",
    "    conn.commit()\n",
    "\n",
    "    # ✅ 데이터 삽입 쿼리\n",
    "    insert_sql = f\"\"\"\n",
    "    INSERT INTO `{table_name}` (`date`, `symbol`, `ccmpany_name`, `indicator`, `value`)\n",
    "    VALUES (%s, %s, %s, %s, %s)\n",
    "    ON DUPLICATE KEY UPDATE\n",
    "        `name` = VALUES(`name`),\n",
    "        `value` = VALUES(`value`);\n",
    "    \"\"\"\n",
    "\n",
    "    data_tuples = df[['date', 'symbol', 'company_name', 'indicator', 'value']].values.tolist()\n",
    "\n",
    "    # ✅ Chunk 단위로 업로드\n",
    "    for i in range(0, len(data_tuples), chunk_size):\n",
    "        chunk = data_tuples[i:i+chunk_size]\n",
    "        cursor.executemany(insert_sql, chunk)\n",
    "        conn.commit()\n",
    "\n",
    "    cursor.close()\n",
    "    conn.close()\n",
    "    print(f\"✅ {len(df)} rows uploaded to `{table_name}`.\")\n",
    "\n",
    "\n",
    "# DB 정보\n",
    "db_info = {\n",
    "    'host': 'hystox74.synology.me',\n",
    "    # 'host': '192.168.0.230',\n",
    "    'port': 3307,\n",
    "    'user': 'stox7412',\n",
    "    'password': 'Apt106503!~',\n",
    "    'database': 'investar'\n",
    "}\n",
    "\n",
    "upload_fs_data_to_db(clean_df, db_info)"
   ],
   "id": "b19e6ba4debeacd5",
   "outputs": [
    {
     "ename": "OperationalError",
     "evalue": "(1054, \"Unknown column 'ccmpany_name' in 'field list'\")",
     "output_type": "error",
     "traceback": [
      "\u001B[1;31m---------------------------------------------------------------------------\u001B[0m",
      "\u001B[1;31mOperationalError\u001B[0m                          Traceback (most recent call last)",
      "Cell \u001B[1;32mIn[11], line 63\u001B[0m\n\u001B[0;32m     53\u001B[0m \u001B[38;5;66;03m# DB 정보\u001B[39;00m\n\u001B[0;32m     54\u001B[0m db_info \u001B[38;5;241m=\u001B[39m {\n\u001B[0;32m     55\u001B[0m     \u001B[38;5;124m'\u001B[39m\u001B[38;5;124mhost\u001B[39m\u001B[38;5;124m'\u001B[39m: \u001B[38;5;124m'\u001B[39m\u001B[38;5;124mhystox74.synology.me\u001B[39m\u001B[38;5;124m'\u001B[39m,\n\u001B[0;32m     56\u001B[0m     \u001B[38;5;66;03m# 'host': '192.168.0.230',\u001B[39;00m\n\u001B[1;32m   (...)\u001B[0m\n\u001B[0;32m     60\u001B[0m     \u001B[38;5;124m'\u001B[39m\u001B[38;5;124mdatabase\u001B[39m\u001B[38;5;124m'\u001B[39m: \u001B[38;5;124m'\u001B[39m\u001B[38;5;124minvestar\u001B[39m\u001B[38;5;124m'\u001B[39m\n\u001B[0;32m     61\u001B[0m }\n\u001B[1;32m---> 63\u001B[0m \u001B[43mupload_fs_data_to_db\u001B[49m\u001B[43m(\u001B[49m\u001B[43mclean_df\u001B[49m\u001B[43m,\u001B[49m\u001B[43m \u001B[49m\u001B[43mdb_info\u001B[49m\u001B[43m)\u001B[49m\n",
      "Cell \u001B[1;32mIn[11], line 45\u001B[0m, in \u001B[0;36mupload_fs_data_to_db\u001B[1;34m(df, db_info, table_name, chunk_size)\u001B[0m\n\u001B[0;32m     43\u001B[0m \u001B[38;5;28;01mfor\u001B[39;00m i \u001B[38;5;129;01min\u001B[39;00m \u001B[38;5;28mrange\u001B[39m(\u001B[38;5;241m0\u001B[39m, \u001B[38;5;28mlen\u001B[39m(data_tuples), chunk_size):\n\u001B[0;32m     44\u001B[0m     chunk \u001B[38;5;241m=\u001B[39m data_tuples[i:i\u001B[38;5;241m+\u001B[39mchunk_size]\n\u001B[1;32m---> 45\u001B[0m     \u001B[43mcursor\u001B[49m\u001B[38;5;241;43m.\u001B[39;49m\u001B[43mexecutemany\u001B[49m\u001B[43m(\u001B[49m\u001B[43minsert_sql\u001B[49m\u001B[43m,\u001B[49m\u001B[43m \u001B[49m\u001B[43mchunk\u001B[49m\u001B[43m)\u001B[49m\n\u001B[0;32m     46\u001B[0m     conn\u001B[38;5;241m.\u001B[39mcommit()\n\u001B[0;32m     48\u001B[0m cursor\u001B[38;5;241m.\u001B[39mclose()\n",
      "File \u001B[1;32m~\\PycharmProjects\\pythonProject3\\Factor_Model_US\\pythonProject1\\.venv\\lib\\site-packages\\pymysql\\cursors.py:182\u001B[0m, in \u001B[0;36mCursor.executemany\u001B[1;34m(self, query, args)\u001B[0m\n\u001B[0;32m    180\u001B[0m     q_postfix \u001B[38;5;241m=\u001B[39m m\u001B[38;5;241m.\u001B[39mgroup(\u001B[38;5;241m3\u001B[39m) \u001B[38;5;129;01mor\u001B[39;00m \u001B[38;5;124m\"\u001B[39m\u001B[38;5;124m\"\u001B[39m\n\u001B[0;32m    181\u001B[0m     \u001B[38;5;28;01massert\u001B[39;00m q_values[\u001B[38;5;241m0\u001B[39m] \u001B[38;5;241m==\u001B[39m \u001B[38;5;124m\"\u001B[39m\u001B[38;5;124m(\u001B[39m\u001B[38;5;124m\"\u001B[39m \u001B[38;5;129;01mand\u001B[39;00m q_values[\u001B[38;5;241m-\u001B[39m\u001B[38;5;241m1\u001B[39m] \u001B[38;5;241m==\u001B[39m \u001B[38;5;124m\"\u001B[39m\u001B[38;5;124m)\u001B[39m\u001B[38;5;124m\"\u001B[39m\n\u001B[1;32m--> 182\u001B[0m     \u001B[38;5;28;01mreturn\u001B[39;00m \u001B[38;5;28;43mself\u001B[39;49m\u001B[38;5;241;43m.\u001B[39;49m\u001B[43m_do_execute_many\u001B[49m\u001B[43m(\u001B[49m\n\u001B[0;32m    183\u001B[0m \u001B[43m        \u001B[49m\u001B[43mq_prefix\u001B[49m\u001B[43m,\u001B[49m\n\u001B[0;32m    184\u001B[0m \u001B[43m        \u001B[49m\u001B[43mq_values\u001B[49m\u001B[43m,\u001B[49m\n\u001B[0;32m    185\u001B[0m \u001B[43m        \u001B[49m\u001B[43mq_postfix\u001B[49m\u001B[43m,\u001B[49m\n\u001B[0;32m    186\u001B[0m \u001B[43m        \u001B[49m\u001B[43margs\u001B[49m\u001B[43m,\u001B[49m\n\u001B[0;32m    187\u001B[0m \u001B[43m        \u001B[49m\u001B[38;5;28;43mself\u001B[39;49m\u001B[38;5;241;43m.\u001B[39;49m\u001B[43mmax_stmt_length\u001B[49m\u001B[43m,\u001B[49m\n\u001B[0;32m    188\u001B[0m \u001B[43m        \u001B[49m\u001B[38;5;28;43mself\u001B[39;49m\u001B[38;5;241;43m.\u001B[39;49m\u001B[43m_get_db\u001B[49m\u001B[43m(\u001B[49m\u001B[43m)\u001B[49m\u001B[38;5;241;43m.\u001B[39;49m\u001B[43mencoding\u001B[49m\u001B[43m,\u001B[49m\n\u001B[0;32m    189\u001B[0m \u001B[43m    \u001B[49m\u001B[43m)\u001B[49m\n\u001B[0;32m    191\u001B[0m \u001B[38;5;28mself\u001B[39m\u001B[38;5;241m.\u001B[39mrowcount \u001B[38;5;241m=\u001B[39m \u001B[38;5;28msum\u001B[39m(\u001B[38;5;28mself\u001B[39m\u001B[38;5;241m.\u001B[39mexecute(query, arg) \u001B[38;5;28;01mfor\u001B[39;00m arg \u001B[38;5;129;01min\u001B[39;00m args)\n\u001B[0;32m    192\u001B[0m \u001B[38;5;28;01mreturn\u001B[39;00m \u001B[38;5;28mself\u001B[39m\u001B[38;5;241m.\u001B[39mrowcount\n",
      "File \u001B[1;32m~\\PycharmProjects\\pythonProject3\\Factor_Model_US\\pythonProject1\\.venv\\lib\\site-packages\\pymysql\\cursors.py:220\u001B[0m, in \u001B[0;36mCursor._do_execute_many\u001B[1;34m(self, prefix, values, postfix, args, max_stmt_length, encoding)\u001B[0m\n\u001B[0;32m    218\u001B[0m         sql \u001B[38;5;241m+\u001B[39m\u001B[38;5;241m=\u001B[39m \u001B[38;5;124mb\u001B[39m\u001B[38;5;124m\"\u001B[39m\u001B[38;5;124m,\u001B[39m\u001B[38;5;124m\"\u001B[39m\n\u001B[0;32m    219\u001B[0m     sql \u001B[38;5;241m+\u001B[39m\u001B[38;5;241m=\u001B[39m v\n\u001B[1;32m--> 220\u001B[0m rows \u001B[38;5;241m+\u001B[39m\u001B[38;5;241m=\u001B[39m \u001B[38;5;28;43mself\u001B[39;49m\u001B[38;5;241;43m.\u001B[39;49m\u001B[43mexecute\u001B[49m\u001B[43m(\u001B[49m\u001B[43msql\u001B[49m\u001B[43m \u001B[49m\u001B[38;5;241;43m+\u001B[39;49m\u001B[43m \u001B[49m\u001B[43mpostfix\u001B[49m\u001B[43m)\u001B[49m\n\u001B[0;32m    221\u001B[0m \u001B[38;5;28mself\u001B[39m\u001B[38;5;241m.\u001B[39mrowcount \u001B[38;5;241m=\u001B[39m rows\n\u001B[0;32m    222\u001B[0m \u001B[38;5;28;01mreturn\u001B[39;00m rows\n",
      "File \u001B[1;32m~\\PycharmProjects\\pythonProject3\\Factor_Model_US\\pythonProject1\\.venv\\lib\\site-packages\\pymysql\\cursors.py:153\u001B[0m, in \u001B[0;36mCursor.execute\u001B[1;34m(self, query, args)\u001B[0m\n\u001B[0;32m    149\u001B[0m     \u001B[38;5;28;01mpass\u001B[39;00m\n\u001B[0;32m    151\u001B[0m query \u001B[38;5;241m=\u001B[39m \u001B[38;5;28mself\u001B[39m\u001B[38;5;241m.\u001B[39mmogrify(query, args)\n\u001B[1;32m--> 153\u001B[0m result \u001B[38;5;241m=\u001B[39m \u001B[38;5;28;43mself\u001B[39;49m\u001B[38;5;241;43m.\u001B[39;49m\u001B[43m_query\u001B[49m\u001B[43m(\u001B[49m\u001B[43mquery\u001B[49m\u001B[43m)\u001B[49m\n\u001B[0;32m    154\u001B[0m \u001B[38;5;28mself\u001B[39m\u001B[38;5;241m.\u001B[39m_executed \u001B[38;5;241m=\u001B[39m query\n\u001B[0;32m    155\u001B[0m \u001B[38;5;28;01mreturn\u001B[39;00m result\n",
      "File \u001B[1;32m~\\PycharmProjects\\pythonProject3\\Factor_Model_US\\pythonProject1\\.venv\\lib\\site-packages\\pymysql\\cursors.py:322\u001B[0m, in \u001B[0;36mCursor._query\u001B[1;34m(self, q)\u001B[0m\n\u001B[0;32m    320\u001B[0m conn \u001B[38;5;241m=\u001B[39m \u001B[38;5;28mself\u001B[39m\u001B[38;5;241m.\u001B[39m_get_db()\n\u001B[0;32m    321\u001B[0m \u001B[38;5;28mself\u001B[39m\u001B[38;5;241m.\u001B[39m_clear_result()\n\u001B[1;32m--> 322\u001B[0m \u001B[43mconn\u001B[49m\u001B[38;5;241;43m.\u001B[39;49m\u001B[43mquery\u001B[49m\u001B[43m(\u001B[49m\u001B[43mq\u001B[49m\u001B[43m)\u001B[49m\n\u001B[0;32m    323\u001B[0m \u001B[38;5;28mself\u001B[39m\u001B[38;5;241m.\u001B[39m_do_get_result()\n\u001B[0;32m    324\u001B[0m \u001B[38;5;28;01mreturn\u001B[39;00m \u001B[38;5;28mself\u001B[39m\u001B[38;5;241m.\u001B[39mrowcount\n",
      "File \u001B[1;32m~\\PycharmProjects\\pythonProject3\\Factor_Model_US\\pythonProject1\\.venv\\lib\\site-packages\\pymysql\\connections.py:563\u001B[0m, in \u001B[0;36mConnection.query\u001B[1;34m(self, sql, unbuffered)\u001B[0m\n\u001B[0;32m    561\u001B[0m     sql \u001B[38;5;241m=\u001B[39m sql\u001B[38;5;241m.\u001B[39mencode(\u001B[38;5;28mself\u001B[39m\u001B[38;5;241m.\u001B[39mencoding, \u001B[38;5;124m\"\u001B[39m\u001B[38;5;124msurrogateescape\u001B[39m\u001B[38;5;124m\"\u001B[39m)\n\u001B[0;32m    562\u001B[0m \u001B[38;5;28mself\u001B[39m\u001B[38;5;241m.\u001B[39m_execute_command(COMMAND\u001B[38;5;241m.\u001B[39mCOM_QUERY, sql)\n\u001B[1;32m--> 563\u001B[0m \u001B[38;5;28mself\u001B[39m\u001B[38;5;241m.\u001B[39m_affected_rows \u001B[38;5;241m=\u001B[39m \u001B[38;5;28;43mself\u001B[39;49m\u001B[38;5;241;43m.\u001B[39;49m\u001B[43m_read_query_result\u001B[49m\u001B[43m(\u001B[49m\u001B[43munbuffered\u001B[49m\u001B[38;5;241;43m=\u001B[39;49m\u001B[43munbuffered\u001B[49m\u001B[43m)\u001B[49m\n\u001B[0;32m    564\u001B[0m \u001B[38;5;28;01mreturn\u001B[39;00m \u001B[38;5;28mself\u001B[39m\u001B[38;5;241m.\u001B[39m_affected_rows\n",
      "File \u001B[1;32m~\\PycharmProjects\\pythonProject3\\Factor_Model_US\\pythonProject1\\.venv\\lib\\site-packages\\pymysql\\connections.py:825\u001B[0m, in \u001B[0;36mConnection._read_query_result\u001B[1;34m(self, unbuffered)\u001B[0m\n\u001B[0;32m    823\u001B[0m \u001B[38;5;28;01melse\u001B[39;00m:\n\u001B[0;32m    824\u001B[0m     result \u001B[38;5;241m=\u001B[39m MySQLResult(\u001B[38;5;28mself\u001B[39m)\n\u001B[1;32m--> 825\u001B[0m     \u001B[43mresult\u001B[49m\u001B[38;5;241;43m.\u001B[39;49m\u001B[43mread\u001B[49m\u001B[43m(\u001B[49m\u001B[43m)\u001B[49m\n\u001B[0;32m    826\u001B[0m \u001B[38;5;28mself\u001B[39m\u001B[38;5;241m.\u001B[39m_result \u001B[38;5;241m=\u001B[39m result\n\u001B[0;32m    827\u001B[0m \u001B[38;5;28;01mif\u001B[39;00m result\u001B[38;5;241m.\u001B[39mserver_status \u001B[38;5;129;01mis\u001B[39;00m \u001B[38;5;129;01mnot\u001B[39;00m \u001B[38;5;28;01mNone\u001B[39;00m:\n",
      "File \u001B[1;32m~\\PycharmProjects\\pythonProject3\\Factor_Model_US\\pythonProject1\\.venv\\lib\\site-packages\\pymysql\\connections.py:1199\u001B[0m, in \u001B[0;36mMySQLResult.read\u001B[1;34m(self)\u001B[0m\n\u001B[0;32m   1197\u001B[0m \u001B[38;5;28;01mdef\u001B[39;00m \u001B[38;5;21mread\u001B[39m(\u001B[38;5;28mself\u001B[39m):\n\u001B[0;32m   1198\u001B[0m     \u001B[38;5;28;01mtry\u001B[39;00m:\n\u001B[1;32m-> 1199\u001B[0m         first_packet \u001B[38;5;241m=\u001B[39m \u001B[38;5;28;43mself\u001B[39;49m\u001B[38;5;241;43m.\u001B[39;49m\u001B[43mconnection\u001B[49m\u001B[38;5;241;43m.\u001B[39;49m\u001B[43m_read_packet\u001B[49m\u001B[43m(\u001B[49m\u001B[43m)\u001B[49m\n\u001B[0;32m   1201\u001B[0m         \u001B[38;5;28;01mif\u001B[39;00m first_packet\u001B[38;5;241m.\u001B[39mis_ok_packet():\n\u001B[0;32m   1202\u001B[0m             \u001B[38;5;28mself\u001B[39m\u001B[38;5;241m.\u001B[39m_read_ok_packet(first_packet)\n",
      "File \u001B[1;32m~\\PycharmProjects\\pythonProject3\\Factor_Model_US\\pythonProject1\\.venv\\lib\\site-packages\\pymysql\\connections.py:775\u001B[0m, in \u001B[0;36mConnection._read_packet\u001B[1;34m(self, packet_type)\u001B[0m\n\u001B[0;32m    773\u001B[0m     \u001B[38;5;28;01mif\u001B[39;00m \u001B[38;5;28mself\u001B[39m\u001B[38;5;241m.\u001B[39m_result \u001B[38;5;129;01mis\u001B[39;00m \u001B[38;5;129;01mnot\u001B[39;00m \u001B[38;5;28;01mNone\u001B[39;00m \u001B[38;5;129;01mand\u001B[39;00m \u001B[38;5;28mself\u001B[39m\u001B[38;5;241m.\u001B[39m_result\u001B[38;5;241m.\u001B[39munbuffered_active \u001B[38;5;129;01mis\u001B[39;00m \u001B[38;5;28;01mTrue\u001B[39;00m:\n\u001B[0;32m    774\u001B[0m         \u001B[38;5;28mself\u001B[39m\u001B[38;5;241m.\u001B[39m_result\u001B[38;5;241m.\u001B[39munbuffered_active \u001B[38;5;241m=\u001B[39m \u001B[38;5;28;01mFalse\u001B[39;00m\n\u001B[1;32m--> 775\u001B[0m     \u001B[43mpacket\u001B[49m\u001B[38;5;241;43m.\u001B[39;49m\u001B[43mraise_for_error\u001B[49m\u001B[43m(\u001B[49m\u001B[43m)\u001B[49m\n\u001B[0;32m    776\u001B[0m \u001B[38;5;28;01mreturn\u001B[39;00m packet\n",
      "File \u001B[1;32m~\\PycharmProjects\\pythonProject3\\Factor_Model_US\\pythonProject1\\.venv\\lib\\site-packages\\pymysql\\protocol.py:219\u001B[0m, in \u001B[0;36mMysqlPacket.raise_for_error\u001B[1;34m(self)\u001B[0m\n\u001B[0;32m    217\u001B[0m \u001B[38;5;28;01mif\u001B[39;00m DEBUG:\n\u001B[0;32m    218\u001B[0m     \u001B[38;5;28mprint\u001B[39m(\u001B[38;5;124m\"\u001B[39m\u001B[38;5;124merrno =\u001B[39m\u001B[38;5;124m\"\u001B[39m, errno)\n\u001B[1;32m--> 219\u001B[0m \u001B[43merr\u001B[49m\u001B[38;5;241;43m.\u001B[39;49m\u001B[43mraise_mysql_exception\u001B[49m\u001B[43m(\u001B[49m\u001B[38;5;28;43mself\u001B[39;49m\u001B[38;5;241;43m.\u001B[39;49m\u001B[43m_data\u001B[49m\u001B[43m)\u001B[49m\n",
      "File \u001B[1;32m~\\PycharmProjects\\pythonProject3\\Factor_Model_US\\pythonProject1\\.venv\\lib\\site-packages\\pymysql\\err.py:150\u001B[0m, in \u001B[0;36mraise_mysql_exception\u001B[1;34m(data)\u001B[0m\n\u001B[0;32m    148\u001B[0m \u001B[38;5;28;01mif\u001B[39;00m errorclass \u001B[38;5;129;01mis\u001B[39;00m \u001B[38;5;28;01mNone\u001B[39;00m:\n\u001B[0;32m    149\u001B[0m     errorclass \u001B[38;5;241m=\u001B[39m InternalError \u001B[38;5;28;01mif\u001B[39;00m errno \u001B[38;5;241m<\u001B[39m \u001B[38;5;241m1000\u001B[39m \u001B[38;5;28;01melse\u001B[39;00m OperationalError\n\u001B[1;32m--> 150\u001B[0m \u001B[38;5;28;01mraise\u001B[39;00m errorclass(errno, errval)\n",
      "\u001B[1;31mOperationalError\u001B[0m: (1054, \"Unknown column 'ccmpany_name' in 'field list'\")"
     ]
    }
   ],
   "execution_count": 11
  },
  {
   "metadata": {},
   "cell_type": "code",
   "outputs": [],
   "execution_count": null,
   "source": "",
   "id": "8f5ff8c5bd2a35c0"
  }
 ],
 "metadata": {
  "kernelspec": {
   "display_name": "Python 3",
   "language": "python",
   "name": "python3"
  },
  "language_info": {
   "codemirror_mode": {
    "name": "ipython",
    "version": 2
   },
   "file_extension": ".py",
   "mimetype": "text/x-python",
   "name": "python",
   "nbconvert_exporter": "python",
   "pygments_lexer": "ipython2",
   "version": "2.7.6"
  }
 },
 "nbformat": 4,
 "nbformat_minor": 5
}
