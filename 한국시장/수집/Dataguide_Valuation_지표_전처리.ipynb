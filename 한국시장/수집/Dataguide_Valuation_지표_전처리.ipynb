{
 "cells": [
  {
   "cell_type": "code",
   "id": "initial_id",
   "metadata": {
    "collapsed": true,
    "ExecuteTime": {
     "end_time": "2025-06-13T08:46:31.873368Z",
     "start_time": "2025-06-13T08:46:31.029223Z"
    }
   },
   "source": [
    "import  pandas as pd\n",
    "import numpy as np"
   ],
   "outputs": [],
   "execution_count": 1
  },
  {
   "metadata": {
    "ExecuteTime": {
     "end_time": "2025-06-13T09:07:53.769657Z",
     "start_time": "2025-06-13T09:07:41.206907Z"
    }
   },
   "cell_type": "code",
   "source": [
    "# 1. 파일 로드\n",
    "path = r\"C:\\Users\\MetaM\\PycharmProjects\\investment\\data\\DataGuide_Ratio.xlsx\"\n",
    "raw_df = pd.read_excel(path, sheet_name='PSR', header=None)\n",
    "\n",
    "# 2. Symbol, Name, Indicator 추출\n",
    "symbol_row = 7\n",
    "name_row = 8\n",
    "item_name_row = 11\n",
    "start_data_row = 13\n",
    "\n",
    "symbols = raw_df.iloc[symbol_row, 2:].values\n",
    "names = raw_df.iloc[name_row, 2:].values\n",
    "indicators = raw_df.iloc[item_name_row, 2:].values\n",
    "\n",
    "# 3. 날짜 데이터 추출 + to_datetime 처리 (오류 무시)\n",
    "raw_dates = raw_df.iloc[start_data_row:, 0]\n",
    "parsed_dates = pd.to_datetime(raw_dates, errors='coerce')  # 에러 무시하고 NaT로\n",
    "\n",
    "# 4. long format으로 정리\n",
    "records = []\n",
    "for col_idx, symbol in enumerate(symbols):\n",
    "    if pd.isna(symbol):\n",
    "        continue\n",
    "    name = names[col_idx]\n",
    "    indicator = indicators[col_idx]\n",
    "    values = raw_df.iloc[start_data_row:, col_idx + 2].values\n",
    "    for date, value in zip(parsed_dates, values):\n",
    "        if pd.isna(date) or pd.isna(value):\n",
    "            continue\n",
    "        records.append({\n",
    "            'date': date,\n",
    "            'symbol': symbol,\n",
    "            'name': name,\n",
    "            'indicator': indicator,\n",
    "            'value': value\n",
    "        })\n",
    "\n",
    "# 5. 결과 DataFrame\n",
    "clean_df = pd.DataFrame(records)\n",
    "print(clean_df.head())\n"
   ],
   "id": "6846eb28d60bc2a0",
   "outputs": [
    {
     "name": "stdout",
     "output_type": "stream",
     "text": [
      "        date             symbol     name   indicator    value\n",
      "0 2004-01-31  Current(20250605)  A000660  M001790002  0.76583\n",
      "1 2004-02-29  Current(20250605)  A000660  M001790002  0.76754\n",
      "2 2004-03-31  Current(20250605)  A000660  M001790002  1.04821\n",
      "3 2004-04-30  Current(20250605)  A000660  M001790002  0.78614\n",
      "4 2004-05-31  Current(20250605)  A000660  M001790002  0.74320\n"
     ]
    },
    {
     "name": "stderr",
     "output_type": "stream",
     "text": [
      "C:\\Users\\MetaM\\AppData\\Local\\Temp\\ipykernel_19720\\896053432.py:17: UserWarning: Could not infer format, so each element will be parsed individually, falling back to `dateutil`. To ensure parsing is consistent and as-expected, please specify a format.\n",
      "  parsed_dates = pd.to_datetime(raw_dates, errors='coerce')  # 에러 무시하고 NaT로\n"
     ]
    }
   ],
   "execution_count": 5
  },
  {
   "metadata": {},
   "cell_type": "code",
   "outputs": [],
   "execution_count": null,
   "source": "",
   "id": "b19e6ba4debeacd5"
  }
 ],
 "metadata": {
  "kernelspec": {
   "display_name": "Python 3",
   "language": "python",
   "name": "python3"
  },
  "language_info": {
   "codemirror_mode": {
    "name": "ipython",
    "version": 2
   },
   "file_extension": ".py",
   "mimetype": "text/x-python",
   "name": "python",
   "nbconvert_exporter": "python",
   "pygments_lexer": "ipython2",
   "version": "2.7.6"
  }
 },
 "nbformat": 4,
 "nbformat_minor": 5
}
