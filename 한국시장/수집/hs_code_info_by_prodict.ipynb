{
 "cells": [
  {
   "cell_type": "code",
   "id": "initial_id",
   "metadata": {
    "collapsed": true,
    "ExecuteTime": {
     "end_time": "2025-06-07T05:52:18.990889Z",
     "start_time": "2025-06-07T05:52:17.213434Z"
    }
   },
   "source": [
    "import pandas as pd\n",
    "from sqlalchemy import create_engine"
   ],
   "outputs": [],
   "execution_count": 2
  },
  {
   "metadata": {
    "ExecuteTime": {
     "end_time": "2025-06-07T05:52:28.727989Z",
     "start_time": "2025-06-07T05:52:28.626958Z"
    }
   },
   "cell_type": "code",
   "source": [
    "# 엑셀 파일 경로\n",
    "file_path1 = r'C:\\Users\\82108\\OneDrive\\바탕 화면\\investment\\investment_strategy\\DATA\\toptier_company_HS_Code_2022_VER1.xlsx'\n",
    "file_path2 = r\"C:\\Users\\82108\\OneDrive\\바탕 화면\\investment\\investment_strategy\\DATA\\korea_hscode_list.csv\"\n",
    "\n",
    "# 시트 이름이 있다면 명시, 없으면 첫 시트 사용\n",
    "df = pd.read_excel(file_path1)\n",
    "\n",
    "# 전처리 예시 (필요 시 수정하세요)\n",
    "df.columns = df.columns.str.strip()              # 컬럼 이름 공백 제거\n",
    "df = df.dropna(how='all')                        # 모든 값이 NaN인 행 제거\n",
    "df = df.drop_duplicates() \n",
    "\n",
    "# 1. hs_code가 문자열로 변환된 후, 길이가 6 이상인 행만 추출\n",
    "df['hs_code'] = df['hs_code'].astype(str)\n",
    "df_filtered = df[df['hs_code'].str.len() >= 6].copy()\n",
    "\n",
    "# 2. 앞 6자리만 추출하여 새 컬럼 'hs_code_6d' 생성\n",
    "df_filtered['hs_code_6d'] = df_filtered['hs_code'].str[:6]"
   ],
   "id": "107bc97efeced5db",
   "outputs": [],
   "execution_count": 4
  },
  {
   "metadata": {
    "ExecuteTime": {
     "end_time": "2025-06-07T05:52:29.135885Z",
     "start_time": "2025-06-07T05:52:29.113885Z"
    }
   },
   "cell_type": "code",
   "source": [
    "# 시트 이름이 있다면 명시, 없으면 첫 시트 사용\n",
    "hs_code_500 = pd.read_csv(file_path2)\n",
    "\n",
    "# 두 시리즈를 모두 문자열로 변환\n",
    "hs_code_from_csv = hs_code_500['HS_Code'].astype(str)\n",
    "hs_code_from_excel = df_filtered['hs_code_6d'].astype(str)\n",
    "\n",
    "# 두 시리즈를 합치고 중복 제거\n",
    "combined_hs_codes = pd.concat([hs_code_from_csv, hs_code_from_excel]).drop_duplicates().reset_index(drop=True)\n",
    "\n",
    "# 새로운 DataFrame 생성\n",
    "hs_code_df = pd.DataFrame({'hs_code': combined_hs_codes})\n",
    "\n",
    "# 결과 확인\n",
    "print(hs_code_df.head())\n",
    "print(f\"총 {len(hs_code_df)}개의 고유 hs_code가 있습니다.\")"
   ],
   "id": "96da017a00e88b0",
   "outputs": [
    {
     "name": "stdout",
     "output_type": "stream",
     "text": [
      "  hs_code\n",
      "0  121120\n",
      "1  121221\n",
      "2  170199\n",
      "3  190230\n",
      "4  190590\n",
      "총 567개의 고유 hs_code가 있습니다.\n"
     ]
    }
   ],
   "execution_count": 5
  },
  {
   "metadata": {
    "ExecuteTime": {
     "end_time": "2025-06-07T05:52:30.310905Z",
     "start_time": "2025-06-07T05:52:30.069482Z"
    }
   },
   "cell_type": "code",
   "source": [
    "# DB 접속 정보 설정\n",
    "db_info = {\n",
    "    'user': 'stox7412',           # 예: 'root'\n",
    "    'password': 'Apt106503!~',   # 예: '1234'\n",
    "    'host': '192.168.0.230',           # 예: 'localhost'\n",
    "    'port': '3307',                # 예: '3306'\n",
    "    'database': 'investar'    # 예: 'trade_data'\n",
    "    \n",
    "}\n",
    "\n",
    "# SQLAlchemy 엔진 생성\n",
    "engine = create_engine(\n",
    "    f\"mysql+pymysql://{db_info['user']}:{db_info['password']}@{db_info['host']}:{db_info['port']}/{db_info['database']}\"\n",
    ")\n",
    "\n",
    "# 테이블 이름 지정\n",
    "table_name = 'target_hs_code'\n",
    "\n",
    "# DB에 업로드 (기존 테이블 덮어씀 → 'replace', 추가는 'append')\n",
    "hs_code_df.to_sql(name=table_name, con=engine, index=False, if_exists='replace')\n",
    "\n",
    "print(f\"✅ {table_name} 테이블에 {len(hs_code_df)}개의 행이 업로드되었습니다.\")"
   ],
   "id": "d9f9ec6d96d66620",
   "outputs": [
    {
     "name": "stdout",
     "output_type": "stream",
     "text": [
      "✅ target_hs_code 테이블에 567개의 행이 업로드되었습니다.\n"
     ]
    }
   ],
   "execution_count": 6
  },
  {
   "metadata": {
    "ExecuteTime": {
     "end_time": "2025-06-07T05:55:36.675735Z",
     "start_time": "2025-06-07T05:55:36.514017Z"
    }
   },
   "cell_type": "code",
   "source": [
    "### 주요 수출기업의 주력상품 HS 코드 정보를 입력하고 출력하는 파이썬 코드를 만들다 \n",
    "\n",
    "# SQLAlchemy 엔진 생성\n",
    "engine = create_engine(\n",
    "    f\"mysql+pymysql://{db_info['user']}:{db_info['password']}@{db_info['host']}:{db_info['port']}/{db_info['database']}\"\n",
    ")\n",
    "\n",
    "# 테이블 이름 지정\n",
    "table_name = 'hs_code_by_kr_monster_company'\n",
    "\n",
    "# DB에 업로드 (기존 테이블 덮어씀 → 'replace', 추가는 'append')\n",
    "df_filtered.to_sql(name=table_name, con=engine, index=False, if_exists='replace')\n",
    "\n",
    "print(f\"✅ {table_name} 테이블에 {len(hs_code_df)}개의 행이 업로드되었습니다.\")"
   ],
   "id": "7e527d033f9c4bf4",
   "outputs": [
    {
     "name": "stdout",
     "output_type": "stream",
     "text": [
      "✅ hs_code_by_kr_monster_company 테이블에 567개의 행이 업로드되었습니다.\n"
     ]
    }
   ],
   "execution_count": 9
  },
  {
   "metadata": {
    "ExecuteTime": {
     "end_time": "2025-06-07T05:55:18.407939Z",
     "start_time": "2025-06-07T05:55:18.391941Z"
    }
   },
   "cell_type": "code",
   "source": "df_filtered ",
   "id": "57e8528d8368b81",
   "outputs": [
    {
     "data": {
      "text/plain": [
       "        hs_code              품목명     Code      Name hs_code_6d\n",
       "15       392321           엘씨디카세트  A089980    상아프론테크     392321\n",
       "16       470710             폐골판지  A016590     신대양제지     470710\n",
       "17       480511              골심지  A016590     신대양제지     480511\n",
       "18       560394        폴리우레탄합성피혁  A035150        백산     560394\n",
       "19       630293           극세사클리너  A065950       웰크론     630293\n",
       "..          ...              ...      ...       ...        ...\n",
       "195  9031809091       반도체오버레이계측기  A322310  오로스테크놀로지     903180\n",
       "196  9401309000  디지털구강내엑스선영상획득장치  A228850      레이언스     940130\n",
       "197  9403309000            사무용의자  A016800       퍼시스     940330\n",
       "198  9405409000         선박용형광등기구  A108380    대양전기공업     940540\n",
       "199  9503002100            캐릭터완구  A039830       오로라     950300\n",
       "\n",
       "[185 rows x 5 columns]"
      ],
      "text/html": [
       "<div>\n",
       "<style scoped>\n",
       "    .dataframe tbody tr th:only-of-type {\n",
       "        vertical-align: middle;\n",
       "    }\n",
       "\n",
       "    .dataframe tbody tr th {\n",
       "        vertical-align: top;\n",
       "    }\n",
       "\n",
       "    .dataframe thead th {\n",
       "        text-align: right;\n",
       "    }\n",
       "</style>\n",
       "<table border=\"1\" class=\"dataframe\">\n",
       "  <thead>\n",
       "    <tr style=\"text-align: right;\">\n",
       "      <th></th>\n",
       "      <th>hs_code</th>\n",
       "      <th>품목명</th>\n",
       "      <th>Code</th>\n",
       "      <th>Name</th>\n",
       "      <th>hs_code_6d</th>\n",
       "    </tr>\n",
       "  </thead>\n",
       "  <tbody>\n",
       "    <tr>\n",
       "      <th>15</th>\n",
       "      <td>392321</td>\n",
       "      <td>엘씨디카세트</td>\n",
       "      <td>A089980</td>\n",
       "      <td>상아프론테크</td>\n",
       "      <td>392321</td>\n",
       "    </tr>\n",
       "    <tr>\n",
       "      <th>16</th>\n",
       "      <td>470710</td>\n",
       "      <td>폐골판지</td>\n",
       "      <td>A016590</td>\n",
       "      <td>신대양제지</td>\n",
       "      <td>470710</td>\n",
       "    </tr>\n",
       "    <tr>\n",
       "      <th>17</th>\n",
       "      <td>480511</td>\n",
       "      <td>골심지</td>\n",
       "      <td>A016590</td>\n",
       "      <td>신대양제지</td>\n",
       "      <td>480511</td>\n",
       "    </tr>\n",
       "    <tr>\n",
       "      <th>18</th>\n",
       "      <td>560394</td>\n",
       "      <td>폴리우레탄합성피혁</td>\n",
       "      <td>A035150</td>\n",
       "      <td>백산</td>\n",
       "      <td>560394</td>\n",
       "    </tr>\n",
       "    <tr>\n",
       "      <th>19</th>\n",
       "      <td>630293</td>\n",
       "      <td>극세사클리너</td>\n",
       "      <td>A065950</td>\n",
       "      <td>웰크론</td>\n",
       "      <td>630293</td>\n",
       "    </tr>\n",
       "    <tr>\n",
       "      <th>...</th>\n",
       "      <td>...</td>\n",
       "      <td>...</td>\n",
       "      <td>...</td>\n",
       "      <td>...</td>\n",
       "      <td>...</td>\n",
       "    </tr>\n",
       "    <tr>\n",
       "      <th>195</th>\n",
       "      <td>9031809091</td>\n",
       "      <td>반도체오버레이계측기</td>\n",
       "      <td>A322310</td>\n",
       "      <td>오로스테크놀로지</td>\n",
       "      <td>903180</td>\n",
       "    </tr>\n",
       "    <tr>\n",
       "      <th>196</th>\n",
       "      <td>9401309000</td>\n",
       "      <td>디지털구강내엑스선영상획득장치</td>\n",
       "      <td>A228850</td>\n",
       "      <td>레이언스</td>\n",
       "      <td>940130</td>\n",
       "    </tr>\n",
       "    <tr>\n",
       "      <th>197</th>\n",
       "      <td>9403309000</td>\n",
       "      <td>사무용의자</td>\n",
       "      <td>A016800</td>\n",
       "      <td>퍼시스</td>\n",
       "      <td>940330</td>\n",
       "    </tr>\n",
       "    <tr>\n",
       "      <th>198</th>\n",
       "      <td>9405409000</td>\n",
       "      <td>선박용형광등기구</td>\n",
       "      <td>A108380</td>\n",
       "      <td>대양전기공업</td>\n",
       "      <td>940540</td>\n",
       "    </tr>\n",
       "    <tr>\n",
       "      <th>199</th>\n",
       "      <td>9503002100</td>\n",
       "      <td>캐릭터완구</td>\n",
       "      <td>A039830</td>\n",
       "      <td>오로라</td>\n",
       "      <td>950300</td>\n",
       "    </tr>\n",
       "  </tbody>\n",
       "</table>\n",
       "<p>185 rows × 5 columns</p>\n",
       "</div>"
      ]
     },
     "execution_count": 8,
     "metadata": {},
     "output_type": "execute_result"
    }
   ],
   "execution_count": 8
  },
  {
   "metadata": {},
   "cell_type": "code",
   "outputs": [],
   "execution_count": null,
   "source": "",
   "id": "7230589f656694c8"
  }
 ],
 "metadata": {
  "kernelspec": {
   "display_name": "Python 3",
   "language": "python",
   "name": "python3"
  },
  "language_info": {
   "codemirror_mode": {
    "name": "ipython",
    "version": 2
   },
   "file_extension": ".py",
   "mimetype": "text/x-python",
   "name": "python",
   "nbconvert_exporter": "python",
   "pygments_lexer": "ipython2",
   "version": "2.7.6"
  }
 },
 "nbformat": 4,
 "nbformat_minor": 5
}
