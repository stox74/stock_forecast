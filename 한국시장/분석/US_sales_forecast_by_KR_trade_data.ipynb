{
 "cells": [
  {
   "metadata": {
    "ExecuteTime": {
     "end_time": "2025-06-04T15:22:12.726126Z",
     "start_time": "2025-06-04T15:22:09.652201Z"
    }
   },
   "cell_type": "code",
   "source": "!pip install git-filter-repo",
   "id": "85997817bcd55816",
   "outputs": [
    {
     "name": "stdout",
     "output_type": "stream",
     "text": [
      "Collecting git-filter-repo\n",
      "  Downloading git_filter_repo-2.47.0-py3-none-any.whl.metadata (31 kB)\n",
      "Downloading git_filter_repo-2.47.0-py3-none-any.whl (76 kB)\n",
      "Installing collected packages: git-filter-repo\n",
      "Successfully installed git-filter-repo-2.47.0\n"
     ]
    }
   ],
   "execution_count": 21
  },
  {
   "metadata": {},
   "cell_type": "code",
   "outputs": [],
   "execution_count": 16,
   "source": [
    "import pandas as pd\n",
    "import numpy as np\n",
    "import ssl\n",
    "import certifi\n",
    "import json\n",
    "import statsmodels.api as sm\n",
    "from urllib.request import urlopen\n",
    "from tqdm import tqdm\n",
    "from sqlalchemy import create_engine\n",
    "\n",
    "\n",
    "def load_monthly_export_forecast(db_info, table_name='trade_forecast_by_month'):\n",
    "    \"\"\"\n",
    "    수출 예측 데이터 전체를 월별 원형 그대로 불러오는 함수 (root_hs_code 조건 없이 전체)\n",
    "\n",
    "    Parameters:\n",
    "    - db_info (dict): {\n",
    "        'host': DB 주소 (str),\n",
    "        'port': 포트 번호 (int),\n",
    "        'user': 사용자명 (str),\n",
    "        'password': 비밀번호 (str),\n",
    "        'database': 데이터베이스명 (str)\n",
    "      }\n",
    "    - table_name (str): 테이블 이름 (기본값: 'trade_forecast_by_month')\n",
    "\n",
    "    Returns:\n",
    "    - pd.DataFrame: 월별 수출 예측 원본 데이터프레임\n",
    "    \"\"\"\n",
    "    try:\n",
    "        engine = create_engine(\n",
    "            f\"mysql+pymysql://{db_info['user']}:{db_info['password']}@{db_info['host']}:{db_info['port']}/{db_info['database']}\"\n",
    "        )\n",
    "\n",
    "        query = f\"\"\"\n",
    "            SELECT *\n",
    "            FROM {table_name}\n",
    "            ORDER BY root_hs_code, period\n",
    "        \"\"\"\n",
    "\n",
    "        df = pd.read_sql(query, con=engine)\n",
    "        df = df.drop_duplicates(subset=['root_hs_code', 'period'])\n",
    "        df['period'] = pd.to_datetime(df['period'])\n",
    "\n",
    "        return df\n",
    "\n",
    "    except Exception as e:\n",
    "        print(f\"❌ 월별 데이터 로딩 실패: {e}\")\n",
    "        return pd.DataFrame()\n",
    "\n",
    "\n",
    "\n",
    "# 수출 예측 데이터를 불러오고 가공하는 함수 정의\n",
    "def load_quarterly_export_forecast(db_info, root_hs_code, table_name='trade_forecast_by_month'):\n",
    "    \"\"\"\n",
    "    특정 HS 코드를 기준으로 수출 예측 데이터를 분기별로 집계하고 변화율(pct_change)을 포함하여 반환하는 함수\n",
    "\n",
    "    Parameters:\n",
    "    - db_info (dict): DB 접속 정보\n",
    "    - root_hs_code (str): 대상 HS 코드\n",
    "    - table_name (str): DB 테이블명 (기본값: 'trade_forecast_by_month')\n",
    "\n",
    "    Returns:\n",
    "    - pd.DataFrame: 분기별 수출 예측 변화율 포함 데이터프레임\n",
    "    \"\"\"\n",
    "    try:\n",
    "        engine = create_engine(\n",
    "            f\"mysql+pymysql://{db_info['user']}:{db_info['password']}@{db_info['host']}:{db_info['port']}/{db_info['database']}\"\n",
    "        )\n",
    "\n",
    "        query = f\"\"\"\n",
    "            SELECT *\n",
    "            FROM {table_name}\n",
    "            WHERE root_hs_code = '{root_hs_code}'\n",
    "            ORDER BY period\n",
    "        \"\"\"\n",
    "        df = pd.read_sql(query, con=engine)\n",
    "        df = df.drop_duplicates(subset=['period'])\n",
    "        df['period'] = pd.to_datetime(df['period'])\n",
    "        df['quarter'] = df['period'].dt.to_period('Q')\n",
    "        quarterly_sum_df = df.groupby('quarter')['expDlr_forecast_12m'].sum().reset_index()\n",
    "        quarterly_sum_df['quarter'] = quarterly_sum_df['quarter'].dt.to_timestamp()\n",
    "        quarterly_sum_df['export_qoq_change'] = quarterly_sum_df['expDlr_forecast_12m'].pct_change(periods=1)\n",
    "        quarterly_sum_df['export_yoy_change'] = quarterly_sum_df['expDlr_forecast_12m'].pct_change(periods=4)\n",
    "        quarterly_sum_df['date_month'] = quarterly_sum_df['quarter'] + pd.offsets.QuarterEnd(0)\n",
    "        quarterly_sum_df['root_hs_code'] = root_hs_code  # ✅ 구분자 추가\n",
    "        return quarterly_sum_df\n",
    "\n",
    "    except Exception as e:\n",
    "        print(f\"❌ 데이터 처리 실패: {e}\")\n",
    "        return pd.DataFrame()\n",
    "\n",
    "\n",
    "# JSON 데이터를 불러오는 함수\n",
    "def get_jsonparsed_data(url):\n",
    "    context = ssl.create_default_context(cafile=certifi.where())\n",
    "    with urlopen(url, context=context) as response:\n",
    "        data = response.read().decode(\"utf-8\")\n",
    "        return json.loads(data)\n",
    "\n",
    "# 주요 수치 변환용 컬럼 정의\n",
    "compustat_is = ['report_date', 'ticker', 'period', 'sale', 'cogs', 'gp', 'xrd', 'xsga', 'idit', 'xint', 'dp', 'ebitda',\n",
    "                'xopr', 'opiti', 'opir', 'pi', 'pir', 'txt', 'ni', 'nir', 'eps', 'epsdi', 'shrout', 'shroutdi']\n",
    "\n",
    "## JSON 데이터를 불러오는 함수\n",
    "def get_jsonparsed_data(url):\n",
    "    context = ssl.create_default_context(cafile=certifi.where())\n",
    "    with urlopen(url, context=context) as response:\n",
    "        data = response.read().decode(\"utf-8\")\n",
    "        return json.loads(data)\n",
    "\n",
    "# 주요 수치 변환용 컬럼 정의\n",
    "compustat_is = ['report_date', 'ticker', 'period', 'sale', 'cogs', 'gp', 'xrd', 'xsga', 'idit', 'xint', 'dp', 'ebitda',\n",
    "                'xopr', 'opiti', 'opir', 'pi', 'pir', 'txt', 'ni', 'nir', 'eps', 'epsdi', 'shrout', 'shroutdi']\n",
    "\n",
    "# 진단용 로그 포함 함수\n",
    "def forecast_sales_by_export_growth(ticker_list, forecast_quarters, quarterly_export_df):\n",
    "    is_list = []\n",
    "    results = []\n",
    "\n",
    "    for ticker in tqdm(ticker_list, desc=\"Processing Tickers\"):\n",
    "        try:\n",
    "            print(f\"\\n🔍 Processing {ticker}...\")\n",
    "            url = (\"https://financialmodelingprep.com/api/v3/income-statement/{}?period=quarter&apikey=hT0gAk87j9xZx4PlBApvBqfVL5IahvgV\".format(ticker))\n",
    "            fs_raw = get_jsonparsed_data(url)\n",
    "            print(f\"✅ API 응답 수: {len(fs_raw)}\")\n",
    "\n",
    "            temp_df = pd.DataFrame(fs_raw)\n",
    "            if temp_df.empty:\n",
    "                print(\"❌ API 결과가 비어 있음.\")\n",
    "                continue\n",
    "\n",
    "            is_df = temp_df[['date', 'symbol','period', 'revenue', 'costOfRevenue', 'grossProfit',\n",
    "                             'researchAndDevelopmentExpenses', 'sellingGeneralAndAdministrativeExpenses',\n",
    "                             'interestIncome', 'interestExpense', 'depreciationAndAmortization', 'ebitda',\n",
    "                             'operatingExpenses', 'operatingIncome', 'operatingIncomeRatio', 'incomeBeforeTax',\n",
    "                             'incomeBeforeTaxRatio','incomeTaxExpense', 'netIncome', 'netIncomeRatio', 'eps',\n",
    "                             'epsdiluted', 'weightedAverageShsOut','weightedAverageShsOutDil']]\n",
    "            is_df.columns = compustat_is\n",
    "        except Exception as e:\n",
    "            print(f\"❌ 예외 발생: {e}\")\n",
    "            continue\n",
    "\n",
    "        is_df_sorted = is_df.sort_values(by='report_date')\n",
    "        is_df_sorted['report_date'] = pd.to_datetime(is_df_sorted['report_date'], errors='coerce')\n",
    "        is_df_sorted['date_month'] = is_df_sorted['report_date'].dt.to_period('M').astype(str)\n",
    "        is_df_sorted['date'] = pd.to_datetime(is_df_sorted['date_month']) + pd.offsets.MonthEnd(0)\n",
    "        \n",
    "        # 오늘 날짜 기준 2달 전 말일을 계산\n",
    "        end_date = pd.Timestamp.today() - pd.DateOffset(months=2)\n",
    "        end_date = end_date + pd.offsets.MonthEnd(0)\n",
    "        \n",
    "        # 날짜 범위 생성\n",
    "        dates_list = pd.date_range('2004-01-31', end_date, freq='ME')\n",
    "        date_df = pd.DataFrame(dates_list, columns=['date'])\n",
    "        temp_is = pd.merge(date_df, is_df_sorted, on='date', how='left').ffill()\n",
    "\n",
    "        target_data = temp_is[['date', 'date_month', 'ticker', 'period', 'sale', 'gp', 'ni']].copy()\n",
    "        target_data_drop = target_data.drop_duplicates(subset=['date_month', 'period'], keep='last').copy()\n",
    "        target_data_drop['date_month'] = pd.to_datetime(target_data_drop['date_month'])\n",
    "        target_data_drop = target_data_drop.sort_values(['ticker', 'date_month']).reset_index(drop=True)\n",
    "\n",
    "        for col in ['sale', 'gp', 'ni']:\n",
    "            target_data_drop[f'{col}_yoy'] = target_data_drop.groupby('ticker')[col].transform(lambda x: x.pct_change(4))\n",
    "\n",
    "        # 날짜 NaT 제거\n",
    "        quarterly_export_df['date_month'] = pd.to_datetime(quarterly_export_df['date_month'])\n",
    "        target_data_drop['date_month'] = pd.to_datetime(target_data_drop['date_month'])\n",
    "        target_data_drop = target_data_drop[target_data_drop['date_month'].notna()].copy()\n",
    "        quarterly_export_df = quarterly_export_df[quarterly_export_df['date_month'].notna()].copy()\n",
    "\n",
    "        # 날짜 정렬\n",
    "        target_data_drop = target_data_drop.sort_values('date_month')\n",
    "        quarterly_export_df = quarterly_export_df.sort_values('date_month')\n",
    "\n",
    "        print(\"📌 최근 매출 데이터:\")\n",
    "        print(target_data_drop[['date_month', 'sale']].tail())\n",
    "\n",
    "        regression_table = pd.merge_asof(\n",
    "            target_data_drop,\n",
    "            quarterly_export_df[['date_month', 'export_yoy_change']],\n",
    "            on='date_month',\n",
    "            direction='nearest'\n",
    "        )\n",
    "\n",
    "        reg_df = regression_table[['export_yoy_change', 'sale_yoy']].copy()\n",
    "        reg_df = reg_df.replace([np.inf, -np.inf], np.nan).dropna()\n",
    "\n",
    "        print(f\"📊 회귀분석 데이터 크기: {len(reg_df)}\")\n",
    "        if len(reg_df) < 5:\n",
    "            print(\"⚠️ 유효한 회귀 데이터 부족. 건너뜀.\")\n",
    "            continue\n",
    "\n",
    "        X = sm.add_constant(reg_df['export_yoy_change'])\n",
    "        Y = reg_df['sale_yoy']\n",
    "        model = sm.OLS(Y, X).fit()\n",
    "\n",
    "        intercept = model.params['const']\n",
    "        slope = model.params['export_yoy_change']\n",
    "        p_value = model.pvalues['export_yoy_change']\n",
    "\n",
    "        if target_data_drop['sale'].notna().sum() == 0:\n",
    "            print(\"⚠️ 최근 매출 데이터 없음. 건너뜀.\")\n",
    "            continue\n",
    "\n",
    "        last_sale = target_data_drop[target_data_drop['sale'].notna()].iloc[-1]['sale']\n",
    "        current_sale = last_sale\n",
    "\n",
    "        for f_date in forecast_quarters:\n",
    "            export_yoy = quarterly_export_df[quarterly_export_df['date_month'] == pd.to_datetime(f_date)]['export_yoy_change']\n",
    "            if export_yoy.empty:\n",
    "                print(f\"⛔ export_yoy_change 데이터 없음: {f_date}\")\n",
    "                continue\n",
    "\n",
    "            export_yoy_val = export_yoy.values[0]\n",
    "            predicted_growth = intercept + slope * export_yoy_val\n",
    "            predicted_sale = current_sale * (1 + predicted_growth)\n",
    "\n",
    "            results.append({\n",
    "                'ticker': ticker,\n",
    "                'forecated_salse': predicted_sale,\n",
    "                'forecated_growth': predicted_growth,\n",
    "                'slop': slope,\n",
    "                'intercept': intercept,\n",
    "                'p_value': p_value,\n",
    "                'date_month': f_date, \n",
    "                'last_real_sale': last_sale \n",
    "            })\n",
    "\n",
    "            current_sale = predicted_sale\n",
    "\n",
    "        print(f\"✅ {ticker} 예측 결과 {len(results)}건 누적\")\n",
    "\n",
    "    result_df = pd.DataFrame(results)\n",
    "    \n",
    "    # result_df_sum = result_df.groupby('ticker').apply(lambda df: df['forecated_salse'].sum() + df['last_real_sale'].iloc[0])\n",
    "    \n",
    "    return result_df\n"
   ],
   "id": "initial_id"
  },
  {
   "metadata": {
    "ExecuteTime": {
     "end_time": "2025-06-04T14:44:42.220457Z",
     "start_time": "2025-06-04T14:44:39.223383Z"
    }
   },
   "cell_type": "code",
   "source": [
    "## 월별 추출입 데이터를 추출해 낸다 \n",
    "\n",
    "# db_info = {\n",
    "#     'host': '192.168.0.230',\n",
    "#     'port': 3307,\n",
    "#     'user': 'stox7412',\n",
    "#     'password': 'Apt106503!~',\n",
    "#     'database': 'investar'\n",
    "# }\n",
    "# \n",
    "# df_monthly = load_monthly_export_forecast(db_info)\n",
    "# print(df_monthly.head())\n",
    "# hscode_list = df_monthly['root_hs_code'].unique().tolist()\n",
    "# pd.DataFrame(hscode_list).to_csv('korea_hscode_list.csv', index=False)"
   ],
   "id": "eb332ddecbec7b59",
   "outputs": [
    {
     "name": "stdout",
     "output_type": "stream",
     "text": [
      "      period root_hs_code  final_expDlr_yoy  expDlr_forecast_12m\n",
      "0 2007-01-01       121120               NaN                  NaN\n",
      "1 2007-02-01       121120               NaN                  NaN\n",
      "2 2007-03-01       121120               NaN                  NaN\n",
      "3 2007-04-01       121120               NaN                  NaN\n",
      "4 2007-05-01       121120               NaN                  NaN\n"
     ]
    }
   ],
   "execution_count": 17
  },
  {
   "metadata": {
    "ExecuteTime": {
     "end_time": "2025-06-04T14:34:01.159228Z",
     "start_time": "2025-06-04T14:34:00.981692Z"
    }
   },
   "cell_type": "code",
   "source": [
    "# 결합 테스트 (함수 실행 예시)\n",
    "quarterly_export_all_df = load_quarterly_export_forecast(\n",
    "    db_info={\n",
    "        'host': '192.168.0.230',\n",
    "        'port': 3307,\n",
    "        'user': 'stox7412',\n",
    "        'password': 'Apt106503!~',\n",
    "        'database': 'investar'\n",
    "    },\n",
    "    root_hs_code = '854232'\n",
    ")"
   ],
   "id": "527628f1c0abab10",
   "outputs": [],
   "execution_count": 13
  },
  {
   "metadata": {
    "ExecuteTime": {
     "end_time": "2025-06-01T16:21:04.763653Z",
     "start_time": "2025-06-01T16:20:47.954823Z"
    }
   },
   "cell_type": "code",
   "source": [
    "ticker_list = ['MU', 'AMAT', 'AVGO', 'LRCX', 'KLAC', 'ASML', 'COHR', 'UCTT', 'ICHR', 'ONTO', 'FORM', 'TER']\n",
    "\n",
    "forecast_quarters = ['2025-06-30', '2025-09-30', '2026-12-31', '2026-03-31']\n",
    "\n",
    "forecated_result = forecast_sales_by_export_growth(ticker_list, forecast_quarters, quarterly_export_df)\n",
    "\n",
    "forecast_sum = (\n",
    "    forecated_result.groupby('ticker', group_keys=False)\n",
    "    .apply(lambda df: df['forecated_salse'].sum() + df['last_real_sale'].iloc[0])\n",
    ")"
   ],
   "id": "aa4b220cd12e0e4d",
   "outputs": [
    {
     "name": "stderr",
     "output_type": "stream",
     "text": [
      "Processing Tickers:   0%|          | 0/12 [00:00<?, ?it/s]"
     ]
    },
    {
     "name": "stdout",
     "output_type": "stream",
     "text": [
      "\n",
      "🔍 Processing MU...\n"
     ]
    },
    {
     "name": "stderr",
     "output_type": "stream",
     "text": [
      "Processing Tickers:   8%|▊         | 1/12 [00:01<00:17,  1.58s/it]"
     ]
    },
    {
     "name": "stdout",
     "output_type": "stream",
     "text": [
      "✅ API 응답 수: 159\n",
      "📌 최근 매출 데이터:\n",
      "   date_month          sale\n",
      "80 2024-02-01  5.824000e+09\n",
      "81 2024-05-01  6.811000e+09\n",
      "82 2024-08-01  7.750000e+09\n",
      "83 2024-11-01  8.709000e+09\n",
      "84 2025-02-01  8.053000e+09\n",
      "📊 회귀분석 데이터 크기: 65\n",
      "⛔ export_yoy_change 데이터 없음: 2026-12-31\n",
      "✅ MU 예측 결과 3건 누적\n",
      "\n",
      "🔍 Processing AMAT...\n"
     ]
    },
    {
     "name": "stderr",
     "output_type": "stream",
     "text": [
      "Processing Tickers:  17%|█▋        | 2/12 [00:03<00:15,  1.54s/it]"
     ]
    },
    {
     "name": "stdout",
     "output_type": "stream",
     "text": [
      "✅ API 응답 수: 159\n",
      "📌 최근 매출 데이터:\n",
      "   date_month          sale\n",
      "81 2024-04-01  6.646000e+09\n",
      "82 2024-07-01  6.778000e+09\n",
      "83 2024-10-01  7.045000e+09\n",
      "84 2025-01-01  7.166000e+09\n",
      "85 2025-04-01  7.100000e+09\n",
      "📊 회귀분석 데이터 크기: 65\n",
      "⛔ export_yoy_change 데이터 없음: 2026-12-31\n",
      "✅ AMAT 예측 결과 6건 누적\n",
      "\n",
      "🔍 Processing AVGO...\n"
     ]
    },
    {
     "name": "stderr",
     "output_type": "stream",
     "text": [
      "Processing Tickers:  25%|██▌       | 3/12 [00:04<00:12,  1.35s/it]"
     ]
    },
    {
     "name": "stdout",
     "output_type": "stream",
     "text": [
      "✅ API 응답 수: 67\n",
      "📌 최근 매출 데이터:\n",
      "   date_month          sale\n",
      "62 2024-02-01  1.196100e+10\n",
      "63 2024-05-01  1.248700e+10\n",
      "64 2024-08-01  1.307200e+10\n",
      "65 2024-11-01  1.405400e+10\n",
      "66 2025-02-01  1.491600e+10\n",
      "📊 회귀분석 데이터 크기: 63\n",
      "⛔ export_yoy_change 데이터 없음: 2026-12-31\n",
      "✅ AVGO 예측 결과 9건 누적\n",
      "\n",
      "🔍 Processing LRCX...\n"
     ]
    },
    {
     "name": "stderr",
     "output_type": "stream",
     "text": [
      "Processing Tickers:  33%|███▎      | 4/12 [00:05<00:11,  1.42s/it]"
     ]
    },
    {
     "name": "stdout",
     "output_type": "stream",
     "text": [
      "✅ API 응답 수: 159\n",
      "📌 최근 매출 데이터:\n",
      "   date_month          sale\n",
      "80 2024-03-01  3.793558e+09\n",
      "81 2024-06-01  3.871507e+09\n",
      "82 2024-09-01  4.167976e+09\n",
      "83 2024-12-01  4.376047e+09\n",
      "84 2025-03-01  4.720175e+09\n",
      "📊 회귀분석 데이터 크기: 65\n",
      "⛔ export_yoy_change 데이터 없음: 2026-12-31\n",
      "✅ LRCX 예측 결과 12건 누적\n",
      "\n",
      "🔍 Processing KLAC...\n"
     ]
    },
    {
     "name": "stderr",
     "output_type": "stream",
     "text": [
      "Processing Tickers:  42%|████▏     | 5/12 [00:07<00:10,  1.53s/it]"
     ]
    },
    {
     "name": "stdout",
     "output_type": "stream",
     "text": [
      "✅ API 응답 수: 159\n",
      "📌 최근 매출 데이터:\n",
      "   date_month          sale\n",
      "80 2024-03-01  2.355391e+09\n",
      "81 2024-06-01  2.566232e+09\n",
      "82 2024-09-01  2.841541e+09\n",
      "83 2024-12-01  3.076851e+09\n",
      "84 2025-03-01  3.063029e+09\n",
      "📊 회귀분석 데이터 크기: 65\n",
      "⛔ export_yoy_change 데이터 없음: 2026-12-31\n",
      "✅ KLAC 예측 결과 15건 누적\n",
      "\n",
      "🔍 Processing ASML...\n"
     ]
    },
    {
     "name": "stderr",
     "output_type": "stream",
     "text": [
      "Processing Tickers:  50%|█████     | 6/12 [00:08<00:08,  1.46s/it]"
     ]
    },
    {
     "name": "stdout",
     "output_type": "stream",
     "text": [
      "✅ API 응답 수: 121\n",
      "📌 최근 매출 데이터:\n",
      "   date_month          sale\n",
      "80 2024-03-01  5.290000e+09\n",
      "81 2024-06-01  6.242800e+09\n",
      "82 2024-09-01  7.467300e+09\n",
      "83 2024-12-01  9.262800e+09\n",
      "84 2025-03-01  7.741500e+09\n",
      "📊 회귀분석 데이터 크기: 65\n",
      "⛔ export_yoy_change 데이터 없음: 2026-12-31\n",
      "✅ ASML 예측 결과 18건 누적\n",
      "\n",
      "🔍 Processing COHR...\n"
     ]
    },
    {
     "name": "stderr",
     "output_type": "stream",
     "text": [
      "Processing Tickers:  58%|█████▊    | 7/12 [00:10<00:07,  1.43s/it]"
     ]
    },
    {
     "name": "stdout",
     "output_type": "stream",
     "text": [
      "✅ API 응답 수: 159\n",
      "📌 최근 매출 데이터:\n",
      "   date_month          sale\n",
      "80 2024-03-01  1.208809e+09\n",
      "81 2024-06-01  1.314362e+09\n",
      "82 2024-09-01  1.348000e+09\n",
      "83 2024-12-01  1.435000e+09\n",
      "84 2025-03-01  1.497879e+09\n",
      "📊 회귀분석 데이터 크기: 65\n",
      "⛔ export_yoy_change 데이터 없음: 2026-12-31\n",
      "✅ COHR 예측 결과 21건 누적\n",
      "\n",
      "🔍 Processing UCTT...\n"
     ]
    },
    {
     "name": "stderr",
     "output_type": "stream",
     "text": [
      "Processing Tickers:  67%|██████▋   | 8/12 [00:11<00:05,  1.39s/it]"
     ]
    },
    {
     "name": "stdout",
     "output_type": "stream",
     "text": [
      "✅ API 응답 수: 89\n",
      "📌 최근 매출 데이터:\n",
      "   date_month         sale\n",
      "80 2024-03-01  477700000.0\n",
      "81 2024-06-01  516100000.0\n",
      "82 2024-09-01  540400000.0\n",
      "83 2024-12-01  563300000.0\n",
      "84 2025-03-01  518600000.0\n",
      "📊 회귀분석 데이터 크기: 65\n",
      "⛔ export_yoy_change 데이터 없음: 2026-12-31\n",
      "✅ UCTT 예측 결과 24건 누적\n",
      "\n",
      "🔍 Processing ICHR...\n"
     ]
    },
    {
     "name": "stderr",
     "output_type": "stream",
     "text": [
      "Processing Tickers:  75%|███████▌  | 9/12 [00:12<00:03,  1.33s/it]"
     ]
    },
    {
     "name": "stdout",
     "output_type": "stream",
     "text": [
      "✅ API 응답 수: 45\n",
      "📌 최근 매출 데이터:\n",
      "   date_month         sale\n",
      "40 2024-03-01  201383000.0\n",
      "41 2024-06-01  203227000.0\n",
      "42 2024-09-01  211139000.0\n",
      "43 2024-12-01  233291000.0\n",
      "44 2025-03-01  244465000.0\n",
      "📊 회귀분석 데이터 크기: 41\n",
      "⛔ export_yoy_change 데이터 없음: 2026-12-31\n",
      "✅ ICHR 예측 결과 27건 누적\n",
      "\n",
      "🔍 Processing ONTO...\n"
     ]
    },
    {
     "name": "stderr",
     "output_type": "stream",
     "text": [
      "Processing Tickers:  83%|████████▎ | 10/12 [00:13<00:02,  1.32s/it]"
     ]
    },
    {
     "name": "stdout",
     "output_type": "stream",
     "text": [
      "✅ API 응답 수: 120\n",
      "📌 최근 매출 데이터:\n",
      "   date_month         sale\n",
      "81 2024-03-01  228846000.0\n",
      "82 2024-06-01  242327000.0\n",
      "83 2024-09-01  252210000.0\n",
      "84 2024-12-01  263939000.0\n",
      "85 2025-03-01  266607000.0\n",
      "📊 회귀분석 데이터 크기: 65\n",
      "⛔ export_yoy_change 데이터 없음: 2026-12-31\n",
      "✅ ONTO 예측 결과 30건 누적\n",
      "\n",
      "🔍 Processing FORM...\n"
     ]
    },
    {
     "name": "stderr",
     "output_type": "stream",
     "text": [
      "Processing Tickers:  92%|█████████▏| 11/12 [00:15<00:01,  1.33s/it]"
     ]
    },
    {
     "name": "stdout",
     "output_type": "stream",
     "text": [
      "✅ API 응답 수: 89\n",
      "📌 최근 매출 데이터:\n",
      "   date_month         sale\n",
      "80 2024-03-01  168725000.0\n",
      "81 2024-06-01  197474000.0\n",
      "82 2024-09-01  207917000.0\n",
      "83 2024-12-01  189483000.0\n",
      "84 2025-03-01  171356000.0\n",
      "📊 회귀분석 데이터 크기: 65\n",
      "⛔ export_yoy_change 데이터 없음: 2026-12-31\n",
      "✅ FORM 예측 결과 33건 누적\n",
      "\n",
      "🔍 Processing TER...\n"
     ]
    },
    {
     "name": "stderr",
     "output_type": "stream",
     "text": [
      "Processing Tickers: 100%|██████████| 12/12 [00:16<00:00,  1.39s/it]"
     ]
    },
    {
     "name": "stdout",
     "output_type": "stream",
     "text": [
      "✅ API 응답 수: 159\n",
      "📌 최근 매출 데이터:\n",
      "   date_month         sale\n",
      "80 2024-03-01  597539000.0\n",
      "81 2024-06-01  729879000.0\n",
      "82 2024-09-01  737298000.0\n",
      "83 2024-12-01  752884000.0\n",
      "84 2025-03-01  685680000.0\n",
      "📊 회귀분석 데이터 크기: 65\n",
      "⛔ export_yoy_change 데이터 없음: 2026-12-31\n",
      "✅ TER 예측 결과 36건 누적\n"
     ]
    },
    {
     "name": "stderr",
     "output_type": "stream",
     "text": [
      "\n",
      "C:\\Users\\82108\\AppData\\Local\\Temp\\ipykernel_4236\\2116331126.py:20: DeprecationWarning: DataFrameGroupBy.apply operated on the grouping columns. This behavior is deprecated, and in a future version of pandas the grouping columns will be excluded from the operation. Either pass `include_groups=False` to exclude the groupings or explicitly select the grouping columns after groupby to silence this warning.\n",
      "  forecated_result.groupby('ticker', group_keys=False)\n"
     ]
    }
   ],
   "execution_count": 42
  },
  {
   "metadata": {},
   "cell_type": "code",
   "outputs": [],
   "execution_count": null,
   "source": "",
   "id": "e0b214e9c1802a6c"
  }
 ],
 "metadata": {
  "kernelspec": {
   "display_name": "Python 3",
   "language": "python",
   "name": "python3"
  },
  "language_info": {
   "codemirror_mode": {
    "name": "ipython",
    "version": 2
   },
   "file_extension": ".py",
   "mimetype": "text/x-python",
   "name": "python",
   "nbconvert_exporter": "python",
   "pygments_lexer": "ipython2",
   "version": "2.7.6"
  }
 },
 "nbformat": 4,
 "nbformat_minor": 5
}
