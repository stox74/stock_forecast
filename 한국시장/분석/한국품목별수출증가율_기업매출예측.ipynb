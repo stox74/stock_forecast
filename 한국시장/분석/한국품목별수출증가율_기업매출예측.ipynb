{
 "cells": [
  {
   "metadata": {},
   "cell_type": "markdown",
   "source": [
    "#### 목표 수출증가율을 가져오고 한국 기업들의 매출_재무정보를 대칭시켜 기업 매출을 예측한다\n",
    "\n",
    "- 회귀분석 . UNIVERSIAL SARIMA를 이용해 보자"
   ],
   "id": "3251d316d55cf403"
  },
  {
   "metadata": {
    "ExecuteTime": {
     "end_time": "2025-06-12T05:20:34.159216Z",
     "start_time": "2025-06-12T05:20:31.771025Z"
    }
   },
   "cell_type": "code",
   "source": [
    "import pandas as pd\n",
    "from sqlalchemy import create_engine\n",
    "from DATA.stock_invest_function import fetch_table_data\n",
    "import statsmodels.api as sm"
   ],
   "id": "a9a814176972c28c",
   "outputs": [],
   "execution_count": 7
  },
  {
   "metadata": {
    "ExecuteTime": {
     "end_time": "2025-06-12T05:18:43.122289Z",
     "start_time": "2025-06-12T05:18:43.090370Z"
    }
   },
   "cell_type": "code",
   "source": [
    "def compute_quarterly_yoy_growth(trade_df: pd.DataFrame) -> pd.DataFrame:\n",
    "    \"\"\"\n",
    "    월별 수출 데이터를 분기별로 집계하고 전년 동분기 대비 증감률을 계산합니다.\n",
    "\n",
    "    Parameters:\n",
    "    - trade_df (pd.DataFrame): 원본 데이터프레임. 'date', 'root_hs_code', 'value' 열 포함.\n",
    "\n",
    "    Returns:\n",
    "    - pd.DataFrame: 'root_hs_code', 'quarter', 'value', 'yoy_growth' 포함한 결과\n",
    "    \"\"\"\n",
    "    # 날짜 형식 변환\n",
    "    trade_df['date'] = pd.to_datetime(trade_df['date'])\n",
    "\n",
    "    # 분기 종료일 추출 (normalize로 시간 제거)\n",
    "    trade_df['quarter'] = trade_df['date'].dt.to_period('Q').dt.end_time.dt.normalize()\n",
    "\n",
    "    # 분기별 합계\n",
    "    quarterly_sum = (\n",
    "        trade_df.groupby(['root_hs_code', 'quarter'])['value']\n",
    "        .sum()\n",
    "        .reset_index()\n",
    "    )\n",
    "\n",
    "    # 전년 동분기 대비 증감률 계산\n",
    "    quarterly_sum['yoy_growth'] = (\n",
    "        quarterly_sum.groupby('root_hs_code')['value']\n",
    "        .pct_change(periods=4)\n",
    "    )\n",
    "\n",
    "    quarterly_sum.rename(columns={'quarter': 'date'}, inplace=True)\n",
    "\n",
    "    return quarterly_sum\n",
    "\n",
    "def add_yoy_growth(df, value_column='value', group_column='root_hs_code', date_column='date'):\n",
    "    \"\"\"\n",
    "    root_hs_code별로 value 컬럼의 연간 증가율을 계산하여 새로운 컬럼으로 추가합니다.\n",
    "    \"\"\"\n",
    "    df = df.copy()\n",
    "    df[date_column] = pd.to_datetime(df[date_column])\n",
    "    df.sort_values(by=[group_column, date_column], inplace=True)\n",
    "\n",
    "    # YoY (12개월 전 대비 비율 변화율) 계산\n",
    "    df[f'{value_column}_yoy'] = (\n",
    "        df.groupby(group_column)[value_column]\n",
    "        .transform(lambda x: x.pct_change(periods=12))\n",
    "    )\n",
    "\n",
    "    return df\n",
    "\n",
    "def merge_and_clean_trade_sales_df(df_indicator: pd.DataFrame, df_actual: pd.DataFrame) -> pd.DataFrame:\n",
    "    \"\"\"\n",
    "    indicator_yoy_growth와 yoy_growth 데이터를 date 기준으로 병합하고, 결측치 제거\n",
    "\n",
    "    Parameters:\n",
    "    - df_indicator (pd.DataFrame): 'date', 'indicator_yoy_growth' 포함\n",
    "    - df_actual (pd.DataFrame): 'date', 'yoy_growth' 포함\n",
    "\n",
    "    Returns:\n",
    "    - pd.DataFrame: 'date', 'indicator_yoy_growth', 'yoy_growth'만 포함된 NaN 없는 데이터\n",
    "    \"\"\"\n",
    "    # 필요한 컬럼만 추출\n",
    "    df_indicator = df_indicator[['date', 'indicator_yoy_growth']]\n",
    "    df_actual = df_actual[['date', 'yoy_growth']]\n",
    "\n",
    "    # 병합 (inner join: 공통 date만 남음)\n",
    "    merged_df = pd.merge(df_indicator, df_actual, on='date', how='inner')\n",
    "\n",
    "    # NaN 제거\n",
    "    clean_df = merged_df.dropna()\n",
    "\n",
    "    return clean_df"
   ],
   "id": "b6553f06bb77eeaa",
   "outputs": [],
   "execution_count": 3
  },
  {
   "metadata": {},
   "cell_type": "markdown",
   "source": "### 1. 데이터 전처리",
   "id": "51b12bdfc77dfaa5"
  },
  {
   "metadata": {
    "ExecuteTime": {
     "end_time": "2025-06-12T05:20:18.052534Z",
     "start_time": "2025-06-12T05:19:58.382350Z"
    }
   },
   "cell_type": "code",
   "source": [
    "# DB 접속 정보 설정\n",
    "db_info = {\n",
    "    'user': 'stox7412',         # 예: 'root'\n",
    "    'password': 'Apt106503!~', # 예: '1234'\n",
    "    'host': 'hystox74.synology.me',         # 예: 'localhost' 또는 IP\n",
    "    'port': '3307',              # 기본 포트는 보통 3306\n",
    "    'database': 'investar'        # 예: 'trade_data'\n",
    "}\n",
    "\n",
    "fs_df = fetch_table_data(db_info, \"Korea_FS_data\")\n",
    "fs_df.rename(columns={'Date': 'date'}, inplace=True)\n",
    "trade_df = fetch_table_data(db_info, \"korea_monthly_trade_act_forecast_data\")"
   ],
   "id": "9de250743e1085a9",
   "outputs": [
    {
     "name": "stdout",
     "output_type": "stream",
     "text": [
      "✅ 'Korea_FS_data' 테이블에서 537251건의 데이터를 가져왔습니다.\n",
      "✅ 'korea_monthly_trade_act_forecast_data' 테이블에서 121600건의 데이터를 가져왔습니다.\n"
     ]
    }
   ],
   "execution_count": 4
  },
  {
   "metadata": {
    "ExecuteTime": {
     "end_time": "2025-06-12T05:20:19.486500Z",
     "start_time": "2025-06-12T05:20:18.132025Z"
    }
   },
   "cell_type": "code",
   "source": [
    "df_combined_with_yoy = add_yoy_growth(trade_df)\n",
    "\n",
    "company_num = 490\n",
    "\n",
    "# 1. 예측 데이터만 필터링하고 NaN 제거\n",
    "df_forecast_only = df_combined_with_yoy[\n",
    "    (df_combined_with_yoy['is_forecast'] == 1) &\n",
    "    (df_combined_with_yoy['value_yoy'].notna())\n",
    "]\n",
    "\n",
    "# 2. root_hs_code별 평균 YoY 증가율 계산\n",
    "avg_yoy_by_code = (\n",
    "    df_forecast_only\n",
    "    .groupby('root_hs_code')['value_yoy']\n",
    "    .mean()\n",
    "    .reset_index()\n",
    "    .rename(columns={'value_yoy': 'avg_forecast_yoy'})\n",
    ")\n",
    "\n",
    "# 3. 수출 증가율 기준으로 상위 10개 추출\n",
    "top_company_codes = avg_yoy_by_code.sort_values(by='avg_forecast_yoy', ascending=False).head(company_num)"
   ],
   "id": "ed3df9bac8ca798",
   "outputs": [],
   "execution_count": 5
  },
  {
   "metadata": {
    "ExecuteTime": {
     "end_time": "2025-06-12T05:22:39.787271Z",
     "start_time": "2025-06-12T05:22:39.375316Z"
    }
   },
   "cell_type": "code",
   "source": [
    "ticker = 'A267270'\n",
    "hs_code  = '842952'\n",
    "target_fs = fs_df[(fs_df['Symbol'] == ticker) & (fs_df['indicator'] == '매출액(천원)')].copy()\n",
    "\n",
    "quarter_trade_data = compute_quarterly_yoy_growth(trade_df)\n",
    "target_trade_data =quarter_trade_data[quarter_trade_data['root_hs_code'] == hs_code].copy()\n",
    "\n",
    "# 문자열로 되어 있는 value를 float으로 변환\n",
    "target_fs['value'] = pd.to_numeric(target_fs['value'], errors='coerce')\n",
    "target_fs['indicator_yoy_growth'] =target_fs['value'].pct_change(periods=4, fill_method=None)\n",
    "target_sales_data = target_fs\n",
    "\n",
    "sales_trade_df = merge_and_clean_trade_sales_df(target_sales_data, target_trade_data)\n",
    "print(sales_trade_df.head())"
   ],
   "id": "205bf698c054fa58",
   "outputs": [
    {
     "name": "stdout",
     "output_type": "stream",
     "text": [
      "         date  indicator_yoy_growth  yoy_growth\n",
      "45 2018-06-30              0.350553    0.221872\n",
      "46 2018-09-30              0.158442    0.104030\n",
      "47 2018-12-31              0.135633   -0.019351\n",
      "48 2019-03-31             -0.142384   -0.082649\n",
      "49 2019-06-30             -0.089258   -0.136543\n"
     ]
    }
   ],
   "execution_count": 10
  },
  {
   "metadata": {
    "ExecuteTime": {
     "end_time": "2025-06-12T05:20:43.797918Z",
     "start_time": "2025-06-12T05:20:43.741939Z"
    }
   },
   "cell_type": "code",
   "source": [
    "# 독립 변수 (X), 상수항 추가\n",
    "X = sales_trade_df['yoy_growth']\n",
    "X = sm.add_constant(X)  # 상수항 추가 (intercept)\n",
    "\n",
    "# 종속 변수 (Y)\n",
    "y = sales_trade_df['indicator_yoy_growth']\n",
    "\n",
    "# 회귀모형 적합\n",
    "model = sm.OLS(y, X).fit()\n",
    "\n",
    "# 결과 출력\n",
    "print(model.summary())"
   ],
   "id": "e5cad3ca44ca2daa",
   "outputs": [
    {
     "name": "stdout",
     "output_type": "stream",
     "text": [
      "                             OLS Regression Results                             \n",
      "================================================================================\n",
      "Dep. Variable:     indicator_yoy_growth   R-squared:                       0.466\n",
      "Model:                              OLS   Adj. R-squared:                  0.448\n",
      "Method:                   Least Squares   F-statistic:                     25.35\n",
      "Date:                  Thu, 12 Jun 2025   Prob (F-statistic):           2.30e-05\n",
      "Time:                          14:20:43   Log-Likelihood:                 16.616\n",
      "No. Observations:                    31   AIC:                            -29.23\n",
      "Df Residuals:                        29   BIC:                            -26.36\n",
      "Df Model:                             1                                         \n",
      "Covariance Type:              nonrobust                                         \n",
      "==============================================================================\n",
      "                 coef    std err          t      P>|t|      [0.025      0.975]\n",
      "------------------------------------------------------------------------------\n",
      "const          0.0487      0.026      1.852      0.074      -0.005       0.102\n",
      "yoy_growth     0.4257      0.085      5.035      0.000       0.253       0.599\n",
      "==============================================================================\n",
      "Omnibus:                        8.058   Durbin-Watson:                   2.139\n",
      "Prob(Omnibus):                  0.018   Jarque-Bera (JB):                7.568\n",
      "Skew:                           0.718   Prob(JB):                       0.0227\n",
      "Kurtosis:                       4.949   Cond. No.                         3.22\n",
      "==============================================================================\n",
      "\n",
      "Notes:\n",
      "[1] Standard Errors assume that the covariance matrix of the errors is correctly specified.\n"
     ]
    }
   ],
   "execution_count": 8
  },
  {
   "metadata": {
    "ExecuteTime": {
     "end_time": "2025-06-09T05:29:53.860776Z",
     "start_time": "2025-06-09T05:29:53.695600Z"
    }
   },
   "cell_type": "code",
   "source": [
    "import matplotlib.pyplot as plt\n",
    "import seaborn as sns\n",
    "\n",
    "sns.regplot(x='yoy_growth', y='indicator_yoy_growth', data=clean_data)\n",
    "plt.title('Regression: indicator_yoy_growth ~ yoy_growth')\n",
    "plt.show()"
   ],
   "id": "7b0e3b3be3855369",
   "outputs": [
    {
     "data": {
      "text/plain": [
       "<Figure size 640x480 with 1 Axes>"
      ],
      "image/png": "[encoded data removed]"
     },
     "metadata": {},
     "output_type": "display_data"
    }
   ],
   "execution_count": 115
  },
  {
   "metadata": {
    "ExecuteTime": {
     "end_time": "2025-06-09T05:30:06.399241Z",
     "start_time": "2025-06-09T05:30:06.374124Z"
    }
   },
   "cell_type": "code",
   "source": [
    "# 1. 회귀모형 적합 (기존 clean_data 사용)\n",
    "X = sm.add_constant(clean_data['yoy_growth'])  # 상수항 추가\n",
    "y = clean_data['indicator_yoy_growth']\n",
    "model = sm.OLS(y, X).fit()\n",
    "\n",
    "# 2. 계수 자동 추출\n",
    "intercept = model.params['const']\n",
    "slope = model.params['yoy_growth']\n",
    "\n",
    "print(f\"회귀식: indicator_yoy_growth = {intercept:.4f} + {slope:.4f} * yoy_growth\")\n",
    "\n",
    "# 3. 예측할 target 날짜 정의\n",
    "target_dates = ['2025-06-30', '2025-09-30', '2025-12-31', '2026-03-31']\n",
    "\n",
    "# 4. 날짜 형식 변환\n",
    "target_trade_data['date'] = pd.to_datetime(target_trade_data['date'])\n",
    "\n",
    "# 5. 대상 데이터 추출\n",
    "target_yoy = target_trade_data[target_trade_data['date'].isin(pd.to_datetime(target_dates))].copy()\n",
    "\n",
    "# 6. 예측값 계산\n",
    "target_yoy['predicted_indicator_yoy_growth'] = intercept + slope * target_yoy['yoy_growth']\n",
    "predicted_yoy_df = target_yoy\n",
    "\n",
    "# 7. 결과 출력\n",
    "print(target_yoy[['date', 'yoy_growth', 'predicted_indicator_yoy_growth']])"
   ],
   "id": "27bc12443e9913ef",
   "outputs": [
    {
     "name": "stdout",
     "output_type": "stream",
     "text": [
      "회귀식: indicator_yoy_growth = 0.0487 + 0.4257 * yoy_growth\n",
      "            date  yoy_growth  predicted_indicator_yoy_growth\n",
      "26165 2025-06-30    0.246179                        0.153506\n",
      "26166 2025-09-30    0.317420                        0.183834\n",
      "26167 2025-12-31    0.484871                        0.255121\n",
      "26168 2026-03-31    0.323646                        0.186484\n"
     ]
    },
    {
     "name": "stderr",
     "output_type": "stream",
     "text": [
      "C:\\Users\\MetaM\\AppData\\Local\\Temp\\ipykernel_20840\\347890641.py:16: SettingWithCopyWarning: \n",
      "A value is trying to be set on a copy of a slice from a DataFrame.\n",
      "Try using .loc[row_indexer,col_indexer] = value instead\n",
      "\n",
      "See the caveats in the documentation: https://pandas.pydata.org/pandas-docs/stable/user_guide/indexing.html#returning-a-view-versus-a-copy\n",
      "  target_trade_data['date'] = pd.to_datetime(target_trade_data['date'])\n"
     ]
    }
   ],
   "execution_count": 116
  },
  {
   "metadata": {
    "ExecuteTime": {
     "end_time": "2025-06-09T05:30:19.406864Z",
     "start_time": "2025-06-09T05:30:19.379199Z"
    }
   },
   "cell_type": "code",
   "source": [
    "# 1. 날짜 문자열을 datetime으로 변환\n",
    "target_sales_data['date'] = pd.to_datetime(target_sales_data['date'])\n",
    "predicted_yoy_df['date'] = pd.to_datetime(predicted_yoy_df['date'])  # 예측 결과 DataFrame 이름은 수정 가능\n",
    "\n",
    "# 2. 기준 매출 날짜 → 매핑용\n",
    "base_dates = ['2024-06-30', '2024-09-30', '2024-12-31', '2025-03-31']\n",
    "growth_dates = ['2025-06-30', '2025-09-30', '2025-12-31', '2026-03-31']\n",
    "\n",
    "# 3. 결과 저장 리스트\n",
    "future_sales_estimates = []\n",
    "\n",
    "# 4. 매핑하면서 예측 매출 계산\n",
    "for base_date, growth_date in zip(base_dates, growth_dates):\n",
    "    base_date = pd.to_datetime(base_date)\n",
    "    growth_date = pd.to_datetime(growth_date)\n",
    "\n",
    "    # 기준 매출\n",
    "    base_value = target_sales_data.loc[target_sales_data['date'] == base_date, 'value'].values\n",
    "    growth_rate = predicted_yoy_df.loc[predicted_yoy_df['date'] == growth_date, 'predicted_indicator_yoy_growth'].values\n",
    "\n",
    "    # 예외 처리: 값이 없으면 스킵\n",
    "    if len(base_value) == 0 or len(growth_rate) == 0:\n",
    "        continue\n",
    "\n",
    "    estimated_sales = base_value[0] * (1 + growth_rate[0])\n",
    "\n",
    "    future_sales_estimates.append({\n",
    "        'date': growth_date,\n",
    "        'base_sales_date': base_date,\n",
    "        'base_sales_value': base_value[0],\n",
    "        'predicted_growth': growth_rate[0],\n",
    "        'estimated_future_sales': estimated_sales\n",
    "    })\n",
    "\n",
    "# 5. 결과 DataFrame 생성\n",
    "future_sales_df = pd.DataFrame(future_sales_estimates)\n",
    "print(future_sales_df)"
   ],
   "id": "f5c65e6967703613",
   "outputs": [
    {
     "name": "stdout",
     "output_type": "stream",
     "text": [
      "        date base_sales_date  base_sales_value  predicted_growth  \\\n",
      "0 2025-06-30      2024-06-30       852993368.0          0.153506   \n",
      "1 2025-09-30      2024-09-30       816811834.0          0.183834   \n",
      "2 2025-12-31      2024-12-31       789146573.0          0.255121   \n",
      "3 2026-03-31      2025-03-31       906839913.0          0.186484   \n",
      "\n",
      "   estimated_future_sales  \n",
      "0            9.839327e+08  \n",
      "1            9.669696e+08  \n",
      "2            9.904744e+08  \n",
      "3            1.075951e+09  \n"
     ]
    }
   ],
   "execution_count": 117
  },
  {
   "metadata": {
    "ExecuteTime": {
     "end_time": "2025-06-09T05:33:47.157887Z",
     "start_time": "2025-06-09T05:33:47.145592Z"
    }
   },
   "cell_type": "code",
   "source": "future_sales_df.to_csv(f'{ticker}_predicted_sales.csv', index=False)",
   "id": "374e9439afc74ee",
   "outputs": [],
   "execution_count": 118
  },
  {
   "metadata": {},
   "cell_type": "code",
   "outputs": [],
   "execution_count": null,
   "source": "",
   "id": "689122d57ef04dd8"
  },
  {
   "metadata": {
    "SqlCellData": {
     "variableName$1": "df_sql1"
    }
   },
   "cell_type": "code",
   "outputs": [],
   "execution_count": null,
   "source": "%%sql\n",
   "id": "84592e4128dbdad6"
  },
  {
   "metadata": {},
   "cell_type": "code",
   "outputs": [],
   "execution_count": null,
   "source": "",
   "id": "abab7ebc53bc61ad"
  },
  {
   "metadata": {},
   "cell_type": "code",
   "outputs": [],
   "execution_count": null,
   "source": "",
   "id": "e87d657699e4f2fc"
  }
 ],
 "metadata": {
  "kernelspec": {
   "display_name": "Python 3",
   "language": "python",
   "name": "python3"
  },
  "language_info": {
   "codemirror_mode": {
    "name": "ipython",
    "version": 2
   },
   "file_extension": ".py",
   "mimetype": "text/x-python",
   "name": "python",
   "nbconvert_exporter": "python",
   "pygments_lexer": "ipython2",
   "version": "2.7.6"
  }
 },
 "nbformat": 4,
 "nbformat_minor": 5
}
