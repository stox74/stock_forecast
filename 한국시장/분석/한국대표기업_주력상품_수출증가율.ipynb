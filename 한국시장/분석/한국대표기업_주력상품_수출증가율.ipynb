{
 "cells": [
  {
   "cell_type": "code",
   "id": "initial_id",
   "metadata": {
    "collapsed": true,
    "ExecuteTime": {
     "end_time": "2025-06-12T07:13:25.608923Z",
     "start_time": "2025-06-12T07:13:25.165550Z"
    }
   },
   "source": [
    "import pandas as pd\n",
    "from sqlalchemy import create_engine\n",
    "from DATA.stock_invest_function import fetch_trade_data_multi_hscode\n"
   ],
   "outputs": [],
   "execution_count": 2
  },
  {
   "metadata": {},
   "cell_type": "code",
   "outputs": [],
   "execution_count": null,
   "source": [
    "# DB 접속 정보 설정\n",
    "db_info = {\n",
    "    'user': 'stox7412',           # 예: 'root'\n",
    "    'password': 'Apt106503!~',   # 예: '1234'\n",
    "    'host': 'hys',           # 예: 'localhost'\n",
    "    'port': '3307',                # 예: '3306'\n",
    "    'database': 'investar'    # 예: 'trade_data'\n",
    "\n",
    "}"
   ],
   "id": "48f7f18bdba3cb6b"
  }
 ],
 "metadata": {
  "kernelspec": {
   "display_name": "Python 3",
   "language": "python",
   "name": "python3"
  },
  "language_info": {
   "codemirror_mode": {
    "name": "ipython",
    "version": 2
   },
   "file_extension": ".py",
   "mimetype": "text/x-python",
   "name": "python",
   "nbconvert_exporter": "python",
   "pygments_lexer": "ipython2",
   "version": "2.7.6"
  }
 },
 "nbformat": 4,
 "nbformat_minor": 5
}
