{
 "cells": [
  {
   "cell_type": "code",
   "id": "initial_id",
   "metadata": {
    "collapsed": true,
    "ExecuteTime": {
     "end_time": "2025-06-12T05:31:10.022253Z",
     "start_time": "2025-06-12T05:31:10.011838Z"
    }
   },
   "source": [
    "import requests\n",
    "import json\n",
    "import pandas as pd\n",
    "import numpy as np\n",
    "\n",
    "##나의 key\n",
    "key = 'bf388499b71a365d725e1c888201736f7409d7e4'"
   ],
   "outputs": [],
   "execution_count": 17
  },
  {
   "metadata": {
    "ExecuteTime": {
     "end_time": "2025-06-12T05:31:10.871610Z",
     "start_time": "2025-06-12T05:31:10.847850Z"
    }
   },
   "cell_type": "code",
   "source": [
    "start_year = '2016-03-01'\n",
    "start_y = 2025\n",
    "start_q = 1\n",
    "export_import = 'expDlr'\n",
    "\n",
    "dates_period = pd.date_range(start='2020-01', end='2025-05',freq='ME')\n",
    "\n",
    "dates_list1 = []\n",
    "for dates in dates_period:\n",
    "    temp = str(dates)[:7]\n",
    "    dates_list1.append(temp)"
   ],
   "id": "2a6373ae63224570",
   "outputs": [],
   "execution_count": 18
  },
  {
   "metadata": {
    "ExecuteTime": {
     "end_time": "2025-06-12T05:31:11.938279Z",
     "start_time": "2025-06-12T05:31:11.911083Z"
    }
   },
   "cell_type": "code",
   "source": [
    "def get_us_export_data(hs_list, start='2013-01', end='2025-05', api_key='your_key_here'):\n",
    "    \"\"\"\n",
    "    미국 HS 코드별 수출 데이터를 월별로 가져옵니다.\n",
    "\n",
    "    Parameters:\n",
    "        hs_list (list): 조회할 HS 코드 리스트\n",
    "        start (str): 시작 날짜 (yyyy-mm)\n",
    "        end (str): 종료 날짜 (yyyy-mm)\n",
    "        api_key (str): U.S. Census API 키\n",
    "\n",
    "    Returns:\n",
    "        pd.DataFrame: 월별 수출 데이터\n",
    "        pd.DataFrame: 분기별 수출 데이터\n",
    "    \"\"\"\n",
    "    us_export_hs = []\n",
    "    date_range = pd.date_range(start=start, end=end, freq='MS')  # 매월 시작일\n",
    "\n",
    "    for hs in hs_list:\n",
    "        for dt in date_range:\n",
    "            year = dt.strftime('%Y')\n",
    "            month = dt.strftime('%m')\n",
    "            url = f\"https://api.census.gov/data/timeseries/intltrade/exports/hs?get=ALL_VAL_MO&key={api_key}&YEAR={year}&MONTH={month}&E_COMMODITY={hs}\"\n",
    "            try:\n",
    "                res = requests.get(url)\n",
    "                if res.status_code == 200:\n",
    "                    data = json.loads(res.text)\n",
    "                    if len(data) > 1:\n",
    "                        temp = data[1]\n",
    "                        us_export_hs.append(temp)\n",
    "                else:\n",
    "                    print(f\"❌ 실패: {year}-{month} {hs} → Status: {res.status_code}\")\n",
    "            except Exception as e:\n",
    "                print(f\"⚠️ 예외 발생: {year}-{month} {hs} → {e}\")\n",
    "\n",
    "    if not us_export_hs:\n",
    "        print(\"❌ 가져온 데이터가 없습니다.\")\n",
    "        return None, None\n",
    "\n",
    "    # 데이터프레임 생성 및 컬럼 설정\n",
    "    df = pd.DataFrame(us_export_hs, columns=['expDlr', 'year', 'month', 'hs_code'])\n",
    "\n",
    "    # 숫자가 아닌 값은 NaN 처리하고 float으로 변환\n",
    "    df['expDlr'] = pd.to_numeric(df['expDlr'], errors='coerce')\n",
    "\n",
    "    # 너무 큰 값은 비정상으로 간주하고 NaN 처리\n",
    "    df.loc[df['expDlr'] > 1e18, 'expDlr'] = np.nan\n",
    "\n",
    "    # 날짜 처리 및 인덱스 설정\n",
    "    df['Date'] = pd.to_datetime(df['year'] + '-' + df['month'], errors='coerce')\n",
    "    df.dropna(subset=['Date'], inplace=True)\n",
    "    df.set_index('Date', inplace=True)\n",
    "    df['quarter'] = df.index.to_period('Q')\n",
    "\n",
    "    # 월별 및 분기별 데이터 생성\n",
    "    df_monthly = df.copy()\n",
    "    df_quarterly = df.groupby(['quarter', 'hs_code'])['expDlr'].sum().reset_index()\n",
    "    df_quarterly['quarter'] = df_quarterly['quarter'].dt.to_timestamp()\n",
    "\n",
    "    return df_monthly, df_quarterly"
   ],
   "id": "dbcb8f20ae35f1fc",
   "outputs": [],
   "execution_count": 19
  },
  {
   "metadata": {
    "ExecuteTime": {
     "end_time": "2025-06-12T05:36:24.470484Z",
     "start_time": "2025-06-12T05:31:12.895888Z"
    }
   },
   "cell_type": "code",
   "source": [
    "hs_codes = ['854231', '854232']\n",
    "us_export_month, us_export_quarter = get_us_export_data(\n",
    "    hs_list=hs_codes,\n",
    "    start='2013-01',\n",
    "    end='2025-04',\n",
    "    api_key= key  # 실제 API 키로 바꾸세요\n",
    ")"
   ],
   "id": "4259ffbd8df5666",
   "outputs": [],
   "execution_count": 20
  },
  {
   "metadata": {},
   "cell_type": "code",
   "outputs": [],
   "execution_count": null,
   "source": "",
   "id": "e3e33867f7f425b9"
  }
 ],
 "metadata": {
  "kernelspec": {
   "display_name": "Python 3",
   "language": "python",
   "name": "python3"
  },
  "language_info": {
   "codemirror_mode": {
    "name": "ipython",
    "version": 2
   },
   "file_extension": ".py",
   "mimetype": "text/x-python",
   "name": "python",
   "nbconvert_exporter": "python",
   "pygments_lexer": "ipython2",
   "version": "2.7.6"
  }
 },
 "nbformat": 4,
 "nbformat_minor": 5
}
