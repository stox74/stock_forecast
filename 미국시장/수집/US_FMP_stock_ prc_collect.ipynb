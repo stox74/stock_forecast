{
 "cells": [
  {
   "cell_type": "markdown",
   "metadata": {
    "id": "EFRpn9p0_W5H"
   },
   "source": [
    "\n",
    "\n",
    "#### NASDAQ, NYSE, AMEX, (stock only)"
   ]
  },
  {
   "cell_type": "code",
   "execution_count": 3,
   "metadata": {
    "executionInfo": {
     "elapsed": 371,
     "status": "ok",
     "timestamp": 1748580517788,
     "user": {
      "displayName": "Ho Park",
      "userId": "14742942739379475374"
     },
     "user_tz": -540
    },
    "id": "TRvoUFgWv-7f"
   },
   "outputs": [],
   "source": [
    "import pandas as pd\n",
    "import numpy as np\n",
    "import ssl\n",
    "import certifi\n",
    "from urllib.request import urlopen\n",
    "import urllib.parse\n",
    "import json\n",
    "from tqdm import tqdm\n",
    "from datetime import datetime, date\n",
    "from pandas.tseries.offsets import MonthEnd"
   ]
  },
  {
   "cell_type": "code",
   "execution_count": null,
   "metadata": {
    "id": "4RjmByeaquvK"
   },
   "outputs": [],
   "source": [
    "def get_adata_annual(adata, data_name):\n",
    "    data = adata.pivot_table(index='date', columns='ticker', values=data_name).astype('float')\n",
    "    data = data.ffill(limit=11)  # Replace fillna(method='ffill') with ffill()\n",
    "    data = data.loc[[x for x in data.index if x.month == 6]].reindex(data.index).ffill(limit=11).dropna(how='all')\n",
    "    return data\n",
    "\n",
    "def get_pivot_data(df, col_name):\n",
    "    df_pivot = df.pivot(index ='date', columns ='ticker', values = col_name).astype('float')\n",
    "    df_pivot.index = pd.to_datetime(df_pivot.index)\n",
    "    return df_pivot\n",
    "\n",
    "# 지난달 말일을 확인하고 end_date 변수에 입력하는 함수 정의\n",
    "def get_last_month_end():\n",
    "    return (pd.Timestamp.today() - MonthEnd(1)).strftime('%Y-%m-%d')"
   ]
  },
  {
   "cell_type": "code",
   "execution_count": null,
   "metadata": {
    "id": "dic5J63gkQc_"
   },
   "outputs": [],
   "source": [
    "path = '/content/drive/MyDrive/Stock_Investment_Strategy/Factor_Model/Data/US_stock_prc/ticker_list_2025-05-28.csv'\n",
    "info = pd.read_csv(path)\n",
    "info = info.drop(columns='Unnamed: 0')\n",
    "# 유니크한 티커 리스트 생성\n",
    "tic_list = info['ticker'].dropna().astype(str).unique().tolist()\n",
    "\n",
    "# 필터링: 문자 수가 5개 이상이거나 '-'를 포함하는 티커 제외\n",
    "filtered_tic_list = [tic for tic in tic_list if len(tic) < 5 and '-' not in tic]"
   ]
  },
  {
   "cell_type": "code",
   "execution_count": null,
   "metadata": {
    "colab": {
     "base_uri": "https://localhost:8080/"
    },
    "executionInfo": {
     "elapsed": 11,
     "status": "ok",
     "timestamp": 1748563934724,
     "user": {
      "displayName": "Ho Park",
      "userId": "14742942739379475374"
     },
     "user_tz": -540
    },
    "id": "nraqQ4Ct40t9",
    "outputId": "5a788009-cbac-4b61-950e-c706898a9ea5"
   },
   "outputs": [
    {
     "output_type": "stream",
     "name": "stdout",
     "text": [
      "지난달 말일: 2025-04-30\n"
     ]
    }
   ],
   "source": [
    "# end_date 변수 설정\n",
    "end_date = get_last_month_end()\n",
    "print(\"지난달 말일:\", end_date)"
   ]
  },
  {
   "cell_type": "markdown",
   "metadata": {
    "id": "rRngqWukeRuI"
   },
   "source": [
    "# 일간 데이터 (주가, 시가총액)\n"
   ]
  },
  {
   "cell_type": "markdown",
   "metadata": {
    "id": "i8rnzTUHekQk"
   },
   "source": [
    "#### 일간 주가"
   ]
  },
  {
   "cell_type": "code",
   "execution_count": 7,
   "metadata": {
    "colab": {
     "base_uri": "https://localhost:8080/"
    },
    "id": "dLFcdanLlRa0",
    "outputId": "e7b35677-df7b-4342-fff7-a5ed6f38f989",
    "executionInfo": {
     "status": "ok",
     "timestamp": 1748570464281,
     "user_tz": -540,
     "elapsed": 1315313,
     "user": {
      "displayName": "Ho Park",
      "userId": "14742942739379475374"
     }
    }
   },
   "outputs": [
    {
     "output_type": "stream",
     "name": "stderr",
     "text": [
      "100%|██████████| 6126/6126 [1:48:41<00:00,  1.06s/it]\n"
     ]
    }
   ],
   "source": [
    "def get_jsonparsed_data(url):\n",
    "    # SSL 컨텍스트를 생성합니다.\n",
    "    context = ssl.create_default_context(cafile=certifi.where())\n",
    "\n",
    "    # SSL 컨텍스트를 사용하여 URL을 엽니다.\n",
    "    response = urlopen(url, context=context)\n",
    "    data = response.read().decode(\"utf-8\")\n",
    "    return json.loads(data)\n",
    "\n",
    "# 기간을 조정하려면 시작 날짜와 종료 날짜를 지정합니다.\n",
    "start_date = \"2003-12-01\"\n",
    "end_date = end_date\n",
    "\n",
    "prc_list = []\n",
    "prc_error_list = []\n",
    "\n",
    "# 여기서 tic_list가 이미 정의되어 있다고 가정합니다. tic_list가 정의되어 있지 않다면 정의해 주셔야 합니다.\n",
    "# tic_list = ['AAPL', 'MSFT', 'GOOGL', 'AMZN', 'BABA']  # 예시 ticker 리스트\n",
    "\n",
    "for tick in tqdm(tic_list):\n",
    "\n",
    "    try:\n",
    "        # base_url에 날짜 범위와 API 키를 포함시킵니다.\n",
    "        base_url = f\"https://financialmodelingprep.com/api/v3/historical-price-full/{tick}\"\n",
    "        query_parameters = {\n",
    "            \"from\": start_date,\n",
    "            \"to\": end_date,\n",
    "            \"apikey\": \"hT0gAk87j9xZx4PlBApvBqfVL5IahvgV\"\n",
    "        }\n",
    "\n",
    "        # URL 인코딩을 사용하여 전체 URL을 만듭니다.\n",
    "        url = f\"{base_url}?{urllib.parse.urlencode(query_parameters)}\"\n",
    "        json_data = get_jsonparsed_data(url)\n",
    "\n",
    "        # JSON 데이터에서 필요한 부분을 추출하여 DataFrame으로 변환합니다.\n",
    "        historical_data = json_data.get('historical', [])\n",
    "\n",
    "        # DataFrame으로 변환\n",
    "        df = pd.DataFrame(historical_data)\n",
    "        df['ticker'] = tick\n",
    "        prc_list.append(df)\n",
    "    except Exception as e:\n",
    "        print(f\"Error fetching data for {tick}: {e}\")\n",
    "        prc_error_list.append(tick)\n",
    "\n",
    "prc_df = pd.concat(prc_list)\n",
    "\n",
    "today_date = datetime.now().strftime(\"%Y-%m-%d\")\n"
   ]
  },
  {
   "cell_type": "code",
   "execution_count": 8,
   "metadata": {
    "id": "vVr9lzJkXV5t",
    "executionInfo": {
     "status": "ok",
     "timestamp": 1748570730001,
     "user_tz": -540,
     "elapsed": 243796,
     "user": {
      "displayName": "Ho Park",
      "userId": "14742942739379475374"
     }
    }
   },
   "outputs": [],
   "source": [
    "prc_df.to_csv(f'/content/drive/MyDrive/Stock_Investment_Strategy/Factor_Model/Data/US_stock_prc/daily_price_{today_date}.csv')"
   ]
  },
  {
   "cell_type": "code",
   "execution_count": null,
   "metadata": {
    "id": "3PbHBYKG8g4k"
   },
   "outputs": [],
   "source": [
    "# today_date = datetime.now().strftime(\"%Y-%m-%d\")\n",
    "# # prc_raw = pd.read_csv('/content/drive/MyDrive/Stock_Investment_Strategy/Factor_Model/Data/US_stock_prc/daily_price_{today_date}.csv')\n",
    "# # prc_raw"
   ]
  },
  {
   "cell_type": "markdown",
   "metadata": {
    "id": "9P195vy20uoA"
   },
   "source": [
    "#### 일간 주가, 월간 주가 산출 (단순 종가기준)"
   ]
  },
  {
   "cell_type": "code",
   "execution_count": 9,
   "metadata": {
    "colab": {
     "base_uri": "https://localhost:8080/"
    },
    "executionInfo": {
     "elapsed": 100507,
     "status": "ok",
     "timestamp": 1748570830533,
     "user": {
      "displayName": "Ho Park",
      "userId": "14742942739379475374"
     },
     "user_tz": -540
    },
    "id": "9PPY_to20vEz",
    "outputId": "feae73a5-98ee-4e65-e4a5-94e810f3bb4f"
   },
   "outputs": [
    {
     "output_type": "stream",
     "name": "stderr",
     "text": [
      "<ipython-input-9-f06af6f10678>:5: FutureWarning: 'M' is deprecated and will be removed in a future version, please use 'ME' instead.\n",
      "  prc_month_end = prc_pivot.resample('M').last()\n",
      "<ipython-input-9-f06af6f10678>:9: FutureWarning: 'M' is deprecated and will be removed in a future version, please use 'ME' instead.\n",
      "  adjprc_month_end = adjprc_pivot.resample('M').last()\n",
      "<ipython-input-9-f06af6f10678>:11: FutureWarning: The default fill_method='pad' in DataFrame.pct_change is deprecated and will be removed in a future version. Either fill in any non-leading NA values prior to calling pct_change or specify 'fill_method=None' to not fill NA values.\n",
      "  ret_monthly = adjprc_month_end.pct_change()\n",
      "<ipython-input-9-f06af6f10678>:12: FutureWarning: The default fill_method='pad' in DataFrame.pct_change is deprecated and will be removed in a future version. Either fill in any non-leading NA values prior to calling pct_change or specify 'fill_method=None' to not fill NA values.\n",
      "  ret_daily = adjprc_pivot.pct_change()\n"
     ]
    }
   ],
   "source": [
    "prc_raw = prc_df\n",
    "\n",
    "prc_pivot = get_pivot_data(prc_raw, 'close')\n",
    "prc_pivot.index = pd.to_datetime(prc_pivot.index)\n",
    "prc_month_end = prc_pivot.resample('M').last()\n",
    "\n",
    "adjprc_pivot = get_pivot_data(prc_raw, 'adjClose')\n",
    "adjprc_pivot.index = pd.to_datetime(adjprc_pivot.index)\n",
    "adjprc_month_end = adjprc_pivot.resample('M').last()\n",
    "\n",
    "ret_monthly = adjprc_month_end.pct_change()\n",
    "ret_daily = adjprc_pivot.pct_change()\n",
    "\n",
    "prc_month_end.to_csv(fr'C:\\Users\\82108\\OneDrive\\바탕 화면\\investment\\investment_strategy/monthly_prc_{today_date}.csv')\n",
    "ret_monthly.to_csv(fr'C:\\Users\\82108\\OneDrive\\바탕 화면\\investment\\investment_strategy/monthly_adjret_{today_date}.csv')\n",
    "ret_daily.to_csv(fr'C:\\Users\\82108\\OneDrive\\바탕 화면\\investment\\investment_strategy/daily_adjret{today_date}.csv')"
   ]
  },
  {
   "cell_type": "markdown",
   "metadata": {
    "id": "aEumgefKH5nK"
   },
   "source": [
    "### 가장 최근의 marketcap data  추출"
   ]
  },
  {
   "cell_type": "code",
   "execution_count": 12,
   "metadata": {
    "colab": {
     "base_uri": "https://localhost:8080/"
    },
    "executionInfo": {
     "elapsed": 2055475,
     "status": "ok",
     "timestamp": 1748572916658,
     "user": {
      "displayName": "Ho Park",
      "userId": "14742942739379475374"
     },
     "user_tz": -540
    },
    "id": "mWgK-0Xp0tKe",
    "outputId": "cc30ed77-5300-4979-e2fc-79a2d1821796"
   },
   "outputs": [
    {
     "output_type": "stream",
     "name": "stderr",
     "text": [
      "100%|██████████| 5419/5419 [34:14<00:00,  2.64it/s]\n"
     ]
    },
    {
     "output_type": "stream",
     "name": "stdout",
     "text": [
      "       symbol        date     marketCap ticker\n",
      "0        ACVA  2025-04-30  2.445660e+09   ACVA\n",
      "1        ACVA  2025-04-29  2.492276e+09   ACVA\n",
      "2        ACVA  2025-04-28  2.455650e+09   ACVA\n",
      "3        ACVA  2025-04-25  2.463974e+09   ACVA\n",
      "4        ACVA  2025-04-24  2.470633e+09   ACVA\n",
      "...       ...         ...           ...    ...\n",
      "704697   ENOB  2024-09-06  6.322713e+07   ENOB\n",
      "704698   ENOB  2024-09-05  5.818485e+07   ENOB\n",
      "704699   ENOB  2024-09-04  5.286754e+07   ENOB\n",
      "704700   ENOB  2024-09-03  5.327500e+07   ENOB\n",
      "704701   ENOB  2024-08-30  6.097593e+07   ENOB\n",
      "\n",
      "[704702 rows x 4 columns]\n"
     ]
    }
   ],
   "source": [
    "# url = (\"https://financialmodelingprep.com/api/v3/historical-market-capitalization/AAPL?&from=2004-10-10&to=2009-08-29&apikey=hT0gAk87j9xZx4vgV\")\n",
    "# raw = get_jsonparsed_data(url)\n",
    "\n",
    "import urllib.parse\n",
    "import requests\n",
    "import pandas as pd\n",
    "from tqdm import tqdm\n",
    "\n",
    "# API 호출을 위한 함수 정의\n",
    "def get_jsonparsed_data(url):\n",
    "    response = requests.get(url)\n",
    "    return response.json()\n",
    "\n",
    "# 기간을 조정하려면 시작 날짜와 종료 날짜를 지정합니다.\n",
    "start_date = \"2024-08-30\"\n",
    "end_date = end_date\n",
    "apikey = \"hT0gAk87j9xZx4PlBApvBqfVL5IahvgV\"\n",
    "\n",
    "# tic_list = [\"AAPL\", \"MSFT\", \"GOOGL\"]  # 예시로 사용할 ticker 리스트\n",
    "\n",
    "prc_list = []\n",
    "prc_error_list = []\n",
    "\n",
    "for tick in tqdm(filtered_tic_list):\n",
    "\n",
    "    try:\n",
    "        # URL을 구성합니다.\n",
    "        base_url = f\"https://financialmodelingprep.com/api/v3/historical-market-capitalization/{tick}\"\n",
    "        query_parameters = {\n",
    "            \"from\": start_date,\n",
    "            \"to\": end_date,\n",
    "            \"apikey\": apikey\n",
    "        }\n",
    "\n",
    "        # URL 인코딩을 사용하여 전체 URL을 만듭니다.\n",
    "        url = f\"{base_url}?{urllib.parse.urlencode(query_parameters)}\"\n",
    "        json_data = get_jsonparsed_data(url)\n",
    "\n",
    "        # json_data가 리스트 형태로 반환되는 경우를 처리합니다.\n",
    "        if isinstance(json_data, list):\n",
    "            df = pd.DataFrame(json_data)\n",
    "            df['ticker'] = tick\n",
    "            prc_list.append(df)\n",
    "        else:\n",
    "            prc_error_list.append(tick)\n",
    "            print(f\"No data or unexpected format for {tick}\")\n",
    "\n",
    "    except Exception as e:\n",
    "        prc_error_list.append(tick)\n",
    "        print(f\"Error processing {tick}: {e}\")\n",
    "\n",
    "# 결과를 하나의 DataFrame으로 병합합니다.\n",
    "if prc_list:\n",
    "    final_df = pd.concat(prc_list, ignore_index=True)\n",
    "    print(final_df)\n",
    "else:\n",
    "    print(\"No data was retrieved.\")"
   ]
  },
  {
   "cell_type": "code",
   "execution_count": 1,
   "metadata": {
    "id": "7Auwwd2VHov4",
    "colab": {
     "base_uri": "https://localhost:8080/",
     "height": 219
    },
    "executionInfo": {
     "status": "error",
     "timestamp": 1748580463306,
     "user_tz": -540,
     "elapsed": 75,
     "user": {
      "displayName": "Ho Park",
      "userId": "14742942739379475374"
     }
    },
    "outputId": "a7c19929-6246-4ed7-a63a-dd65a30de0da"
   },
   "outputs": [
    {
     "output_type": "error",
     "ename": "NameError",
     "evalue": "name 'final_df' is not defined",
     "traceback": [
      "\u001B[0;31m---------------------------------------------------------------------------\u001B[0m",
      "\u001B[0;31mNameError\u001B[0m                                 Traceback (most recent call last)",
      "\u001B[0;32m<ipython-input-1-c9b03b024bb4>\u001B[0m in \u001B[0;36m<cell line: 0>\u001B[0;34m()\u001B[0m\n\u001B[1;32m      1\u001B[0m \u001B[0;31m# 날짜를 기준으로 정렬\u001B[0m\u001B[0;34m\u001B[0m\u001B[0;34m\u001B[0m\u001B[0m\n\u001B[0;32m----> 2\u001B[0;31m \u001B[0mmkc_added\u001B[0m \u001B[0;34m=\u001B[0m \u001B[0mfinal_df\u001B[0m\u001B[0;34m.\u001B[0m\u001B[0msort_values\u001B[0m\u001B[0;34m(\u001B[0m\u001B[0mby\u001B[0m\u001B[0;34m=\u001B[0m\u001B[0;34m[\u001B[0m\u001B[0;34m'ticker'\u001B[0m\u001B[0;34m,\u001B[0m \u001B[0;34m'date'\u001B[0m\u001B[0;34m]\u001B[0m\u001B[0;34m)\u001B[0m\u001B[0;34m\u001B[0m\u001B[0;34m\u001B[0m\u001B[0m\n\u001B[0m\u001B[1;32m      3\u001B[0m \u001B[0;34m\u001B[0m\u001B[0m\n\u001B[1;32m      4\u001B[0m \u001B[0;31m# 날짜 데이터를 datetime 형식으로 변환\u001B[0m\u001B[0;34m\u001B[0m\u001B[0;34m\u001B[0m\u001B[0m\n\u001B[1;32m      5\u001B[0m \u001B[0mmkc_added\u001B[0m\u001B[0;34m[\u001B[0m\u001B[0;34m'date'\u001B[0m\u001B[0;34m]\u001B[0m \u001B[0;34m=\u001B[0m \u001B[0mpd\u001B[0m\u001B[0;34m.\u001B[0m\u001B[0mto_datetime\u001B[0m\u001B[0;34m(\u001B[0m\u001B[0mmkc_added\u001B[0m\u001B[0;34m[\u001B[0m\u001B[0;34m'date'\u001B[0m\u001B[0;34m]\u001B[0m\u001B[0;34m,\u001B[0m \u001B[0merrors\u001B[0m\u001B[0;34m=\u001B[0m\u001B[0;34m'coerce'\u001B[0m\u001B[0;34m)\u001B[0m\u001B[0;34m\u001B[0m\u001B[0;34m\u001B[0m\u001B[0m\n",
      "\u001B[0;31mNameError\u001B[0m: name 'final_df' is not defined"
     ]
    }
   ],
   "source": [
    "# 날짜를 기준으로 정렬\n",
    "mkc_added = final_df.sort_values(by=['ticker', 'date'])\n",
    "\n",
    "# 날짜 데이터를 datetime 형식으로 변환\n",
    "mkc_added['date'] = pd.to_datetime(mkc_added['date'], errors='coerce')\n",
    "\n",
    "# 날짜를 기준으로 정렬\n",
    "mkc_added = mkc_added.sort_values(by=['ticker', 'date'])\n",
    "\n",
    "# 월말 데이터 필터링\n",
    "mkc_added['month_end'] = mkc_added['date'].dt.to_period('M')\n",
    "month_end_df = mkc_added.loc[mkc_added.groupby(['ticker', 'month_end'])['date'].idxmax()]\n",
    "\n",
    "# 'month_end' 컬럼 제거\n",
    "market_cap_additional = month_end_df.drop(columns=['month_end'])\n",
    "\n",
    "market_cap_additional = market_cap_additional[['date',\t'marketCap',\t'ticker']]\n",
    "market_cap_additional = market_cap_additional.rename(columns={'date': 'edate'})"
   ]
  },
  {
   "cell_type": "code",
   "execution_count": 14,
   "metadata": {
    "colab": {
     "base_uri": "https://localhost:8080/",
     "height": 533
    },
    "executionInfo": {
     "elapsed": 94,
     "status": "ok",
     "timestamp": 1748572940884,
     "user": {
      "displayName": "Ho Park",
      "userId": "14742942739379475374"
     },
     "user_tz": -540
    },
    "id": "n3UAAMsHjD3d",
    "outputId": "38be83ef-894f-4b60-94a8-46a7bf0582d9"
   },
   "outputs": [
    {
     "output_type": "stream",
     "name": "stderr",
     "text": [
      "<ipython-input-14-81f32c4aed9e>:2: SettingWithCopyWarning: \n",
      "A value is trying to be set on a copy of a slice from a DataFrame.\n",
      "Try using .loc[row_indexer,col_indexer] = value instead\n",
      "\n",
      "See the caveats in the documentation: https://pandas.pydata.org/pandas-docs/stable/user_guide/indexing.html#returning-a-view-versus-a-copy\n",
      "  market_cap_additional_re['edate'] = market_cap_additional_re['edate'] + pd.offsets.MonthEnd(0)\n"
     ]
    },
    {
     "output_type": "execute_result",
     "data": {
      "text/plain": [
       "            edate     marketCap ticker\n",
       "163208 2024-09-30  4.305920e+10      A\n",
       "163185 2024-10-31  3.778990e+10      A\n",
       "163165 2024-11-30  3.945942e+10      A\n",
       "163144 2024-12-31  3.842124e+10      A\n",
       "163124 2025-01-31  4.333472e+10      A\n",
       "...           ...           ...    ...\n",
       "289556 2024-12-31  2.553988e+08   ZYXI\n",
       "289536 2025-01-31  2.499784e+08   ZYXI\n",
       "289517 2025-02-28  2.298908e+08   ZYXI\n",
       "289496 2025-03-31  7.014700e+07   ZYXI\n",
       "289475 2025-04-30  5.246264e+07   ZYXI\n",
       "\n",
       "[34421 rows x 3 columns]"
      ],
      "text/html": [
       "\n",
       "  <div id=\"df-23f108f9-9777-401f-ac07-cf13ef2789c9\" class=\"colab-df-container\">\n",
       "    <div>\n",
       "<style scoped>\n",
       "    .dataframe tbody tr th:only-of-type {\n",
       "        vertical-align: middle;\n",
       "    }\n",
       "\n",
       "    .dataframe tbody tr th {\n",
       "        vertical-align: top;\n",
       "    }\n",
       "\n",
       "    .dataframe thead th {\n",
       "        text-align: right;\n",
       "    }\n",
       "</style>\n",
       "<table border=\"1\" class=\"dataframe\">\n",
       "  <thead>\n",
       "    <tr style=\"text-align: right;\">\n",
       "      <th></th>\n",
       "      <th>edate</th>\n",
       "      <th>marketCap</th>\n",
       "      <th>ticker</th>\n",
       "    </tr>\n",
       "  </thead>\n",
       "  <tbody>\n",
       "    <tr>\n",
       "      <th>163208</th>\n",
       "      <td>2024-09-30</td>\n",
       "      <td>4.305920e+10</td>\n",
       "      <td>A</td>\n",
       "    </tr>\n",
       "    <tr>\n",
       "      <th>163185</th>\n",
       "      <td>2024-10-31</td>\n",
       "      <td>3.778990e+10</td>\n",
       "      <td>A</td>\n",
       "    </tr>\n",
       "    <tr>\n",
       "      <th>163165</th>\n",
       "      <td>2024-11-30</td>\n",
       "      <td>3.945942e+10</td>\n",
       "      <td>A</td>\n",
       "    </tr>\n",
       "    <tr>\n",
       "      <th>163144</th>\n",
       "      <td>2024-12-31</td>\n",
       "      <td>3.842124e+10</td>\n",
       "      <td>A</td>\n",
       "    </tr>\n",
       "    <tr>\n",
       "      <th>163124</th>\n",
       "      <td>2025-01-31</td>\n",
       "      <td>4.333472e+10</td>\n",
       "      <td>A</td>\n",
       "    </tr>\n",
       "    <tr>\n",
       "      <th>...</th>\n",
       "      <td>...</td>\n",
       "      <td>...</td>\n",
       "      <td>...</td>\n",
       "    </tr>\n",
       "    <tr>\n",
       "      <th>289556</th>\n",
       "      <td>2024-12-31</td>\n",
       "      <td>2.553988e+08</td>\n",
       "      <td>ZYXI</td>\n",
       "    </tr>\n",
       "    <tr>\n",
       "      <th>289536</th>\n",
       "      <td>2025-01-31</td>\n",
       "      <td>2.499784e+08</td>\n",
       "      <td>ZYXI</td>\n",
       "    </tr>\n",
       "    <tr>\n",
       "      <th>289517</th>\n",
       "      <td>2025-02-28</td>\n",
       "      <td>2.298908e+08</td>\n",
       "      <td>ZYXI</td>\n",
       "    </tr>\n",
       "    <tr>\n",
       "      <th>289496</th>\n",
       "      <td>2025-03-31</td>\n",
       "      <td>7.014700e+07</td>\n",
       "      <td>ZYXI</td>\n",
       "    </tr>\n",
       "    <tr>\n",
       "      <th>289475</th>\n",
       "      <td>2025-04-30</td>\n",
       "      <td>5.246264e+07</td>\n",
       "      <td>ZYXI</td>\n",
       "    </tr>\n",
       "  </tbody>\n",
       "</table>\n",
       "<p>34421 rows × 3 columns</p>\n",
       "</div>\n",
       "    <div class=\"colab-df-buttons\">\n",
       "\n",
       "  <div class=\"colab-df-container\">\n",
       "    <button class=\"colab-df-convert\" onclick=\"convertToInteractive('df-23f108f9-9777-401f-ac07-cf13ef2789c9')\"\n",
       "            title=\"Convert this dataframe to an interactive table.\"\n",
       "            style=\"display:none;\">\n",
       "\n",
       "  <svg xmlns=\"http://www.w3.org/2000/svg\" height=\"24px\" viewBox=\"0 -960 960 960\">\n",
       "    <path d=\"M120-120v-720h720v720H120Zm60-500h600v-160H180v160Zm220 220h160v-160H400v160Zm0 220h160v-160H400v160ZM180-400h160v-160H180v160Zm440 0h160v-160H620v160ZM180-180h160v-160H180v160Zm440 0h160v-160H620v160Z\"/>\n",
       "  </svg>\n",
       "    </button>\n",
       "\n",
       "  <style>\n",
       "    .colab-df-container {\n",
       "      display:flex;\n",
       "      gap: 12px;\n",
       "    }\n",
       "\n",
       "    .colab-df-convert {\n",
       "      background-color: #E8F0FE;\n",
       "      border: none;\n",
       "      border-radius: 50%;\n",
       "      cursor: pointer;\n",
       "      display: none;\n",
       "      fill: #1967D2;\n",
       "      height: 32px;\n",
       "      padding: 0 0 0 0;\n",
       "      width: 32px;\n",
       "    }\n",
       "\n",
       "    .colab-df-convert:hover {\n",
       "      background-color: #E2EBFA;\n",
       "      box-shadow: 0px 1px 2px rgba(60, 64, 67, 0.3), 0px 1px 3px 1px rgba(60, 64, 67, 0.15);\n",
       "      fill: #174EA6;\n",
       "    }\n",
       "\n",
       "    .colab-df-buttons div {\n",
       "      margin-bottom: 4px;\n",
       "    }\n",
       "\n",
       "    [theme=dark] .colab-df-convert {\n",
       "      background-color: #3B4455;\n",
       "      fill: #D2E3FC;\n",
       "    }\n",
       "\n",
       "    [theme=dark] .colab-df-convert:hover {\n",
       "      background-color: #434B5C;\n",
       "      box-shadow: 0px 1px 3px 1px rgba(0, 0, 0, 0.15);\n",
       "      filter: drop-shadow(0px 1px 2px rgba(0, 0, 0, 0.3));\n",
       "      fill: #FFFFFF;\n",
       "    }\n",
       "  </style>\n",
       "\n",
       "    <script>\n",
       "      const buttonEl =\n",
       "        document.querySelector('#df-23f108f9-9777-401f-ac07-cf13ef2789c9 button.colab-df-convert');\n",
       "      buttonEl.style.display =\n",
       "        google.colab.kernel.accessAllowed ? 'block' : 'none';\n",
       "\n",
       "      async function convertToInteractive(key) {\n",
       "        const element = document.querySelector('#df-23f108f9-9777-401f-ac07-cf13ef2789c9');\n",
       "        const dataTable =\n",
       "          await google.colab.kernel.invokeFunction('convertToInteractive',\n",
       "                                                    [key], {});\n",
       "        if (!dataTable) return;\n",
       "\n",
       "        const docLinkHtml = 'Like what you see? Visit the ' +\n",
       "          '<a target=\"_blank\" href=https://colab.research.google.com/notebooks/data_table.ipynb>data table notebook</a>'\n",
       "          + ' to learn more about interactive tables.';\n",
       "        element.innerHTML = '';\n",
       "        dataTable['output_type'] = 'display_data';\n",
       "        await google.colab.output.renderOutput(dataTable, element);\n",
       "        const docLink = document.createElement('div');\n",
       "        docLink.innerHTML = docLinkHtml;\n",
       "        element.appendChild(docLink);\n",
       "      }\n",
       "    </script>\n",
       "  </div>\n",
       "\n",
       "\n",
       "    <div id=\"df-487cdb0d-442d-4ac4-b0de-5aea69aaeff3\">\n",
       "      <button class=\"colab-df-quickchart\" onclick=\"quickchart('df-487cdb0d-442d-4ac4-b0de-5aea69aaeff3')\"\n",
       "                title=\"Suggest charts\"\n",
       "                style=\"display:none;\">\n",
       "\n",
       "<svg xmlns=\"http://www.w3.org/2000/svg\" height=\"24px\"viewBox=\"0 0 24 24\"\n",
       "     width=\"24px\">\n",
       "    <g>\n",
       "        <path d=\"M19 3H5c-1.1 0-2 .9-2 2v14c0 1.1.9 2 2 2h14c1.1 0 2-.9 2-2V5c0-1.1-.9-2-2-2zM9 17H7v-7h2v7zm4 0h-2V7h2v10zm4 0h-2v-4h2v4z\"/>\n",
       "    </g>\n",
       "</svg>\n",
       "      </button>\n",
       "\n",
       "<style>\n",
       "  .colab-df-quickchart {\n",
       "      --bg-color: #E8F0FE;\n",
       "      --fill-color: #1967D2;\n",
       "      --hover-bg-color: #E2EBFA;\n",
       "      --hover-fill-color: #174EA6;\n",
       "      --disabled-fill-color: #AAA;\n",
       "      --disabled-bg-color: #DDD;\n",
       "  }\n",
       "\n",
       "  [theme=dark] .colab-df-quickchart {\n",
       "      --bg-color: #3B4455;\n",
       "      --fill-color: #D2E3FC;\n",
       "      --hover-bg-color: #434B5C;\n",
       "      --hover-fill-color: #FFFFFF;\n",
       "      --disabled-bg-color: #3B4455;\n",
       "      --disabled-fill-color: #666;\n",
       "  }\n",
       "\n",
       "  .colab-df-quickchart {\n",
       "    background-color: var(--bg-color);\n",
       "    border: none;\n",
       "    border-radius: 50%;\n",
       "    cursor: pointer;\n",
       "    display: none;\n",
       "    fill: var(--fill-color);\n",
       "    height: 32px;\n",
       "    padding: 0;\n",
       "    width: 32px;\n",
       "  }\n",
       "\n",
       "  .colab-df-quickchart:hover {\n",
       "    background-color: var(--hover-bg-color);\n",
       "    box-shadow: 0 1px 2px rgba(60, 64, 67, 0.3), 0 1px 3px 1px rgba(60, 64, 67, 0.15);\n",
       "    fill: var(--button-hover-fill-color);\n",
       "  }\n",
       "\n",
       "  .colab-df-quickchart-complete:disabled,\n",
       "  .colab-df-quickchart-complete:disabled:hover {\n",
       "    background-color: var(--disabled-bg-color);\n",
       "    fill: var(--disabled-fill-color);\n",
       "    box-shadow: none;\n",
       "  }\n",
       "\n",
       "  .colab-df-spinner {\n",
       "    border: 2px solid var(--fill-color);\n",
       "    border-color: transparent;\n",
       "    border-bottom-color: var(--fill-color);\n",
       "    animation:\n",
       "      spin 1s steps(1) infinite;\n",
       "  }\n",
       "\n",
       "  @keyframes spin {\n",
       "    0% {\n",
       "      border-color: transparent;\n",
       "      border-bottom-color: var(--fill-color);\n",
       "      border-left-color: var(--fill-color);\n",
       "    }\n",
       "    20% {\n",
       "      border-color: transparent;\n",
       "      border-left-color: var(--fill-color);\n",
       "      border-top-color: var(--fill-color);\n",
       "    }\n",
       "    30% {\n",
       "      border-color: transparent;\n",
       "      border-left-color: var(--fill-color);\n",
       "      border-top-color: var(--fill-color);\n",
       "      border-right-color: var(--fill-color);\n",
       "    }\n",
       "    40% {\n",
       "      border-color: transparent;\n",
       "      border-right-color: var(--fill-color);\n",
       "      border-top-color: var(--fill-color);\n",
       "    }\n",
       "    60% {\n",
       "      border-color: transparent;\n",
       "      border-right-color: var(--fill-color);\n",
       "    }\n",
       "    80% {\n",
       "      border-color: transparent;\n",
       "      border-right-color: var(--fill-color);\n",
       "      border-bottom-color: var(--fill-color);\n",
       "    }\n",
       "    90% {\n",
       "      border-color: transparent;\n",
       "      border-bottom-color: var(--fill-color);\n",
       "    }\n",
       "  }\n",
       "</style>\n",
       "\n",
       "      <script>\n",
       "        async function quickchart(key) {\n",
       "          const quickchartButtonEl =\n",
       "            document.querySelector('#' + key + ' button');\n",
       "          quickchartButtonEl.disabled = true;  // To prevent multiple clicks.\n",
       "          quickchartButtonEl.classList.add('colab-df-spinner');\n",
       "          try {\n",
       "            const charts = await google.colab.kernel.invokeFunction(\n",
       "                'suggestCharts', [key], {});\n",
       "          } catch (error) {\n",
       "            console.error('Error during call to suggestCharts:', error);\n",
       "          }\n",
       "          quickchartButtonEl.classList.remove('colab-df-spinner');\n",
       "          quickchartButtonEl.classList.add('colab-df-quickchart-complete');\n",
       "        }\n",
       "        (() => {\n",
       "          let quickchartButtonEl =\n",
       "            document.querySelector('#df-487cdb0d-442d-4ac4-b0de-5aea69aaeff3 button');\n",
       "          quickchartButtonEl.style.display =\n",
       "            google.colab.kernel.accessAllowed ? 'block' : 'none';\n",
       "        })();\n",
       "      </script>\n",
       "    </div>\n",
       "\n",
       "  <div id=\"id_ae83e068-7dbd-4111-9813-c0f05c581cdd\">\n",
       "    <style>\n",
       "      .colab-df-generate {\n",
       "        background-color: #E8F0FE;\n",
       "        border: none;\n",
       "        border-radius: 50%;\n",
       "        cursor: pointer;\n",
       "        display: none;\n",
       "        fill: #1967D2;\n",
       "        height: 32px;\n",
       "        padding: 0 0 0 0;\n",
       "        width: 32px;\n",
       "      }\n",
       "\n",
       "      .colab-df-generate:hover {\n",
       "        background-color: #E2EBFA;\n",
       "        box-shadow: 0px 1px 2px rgba(60, 64, 67, 0.3), 0px 1px 3px 1px rgba(60, 64, 67, 0.15);\n",
       "        fill: #174EA6;\n",
       "      }\n",
       "\n",
       "      [theme=dark] .colab-df-generate {\n",
       "        background-color: #3B4455;\n",
       "        fill: #D2E3FC;\n",
       "      }\n",
       "\n",
       "      [theme=dark] .colab-df-generate:hover {\n",
       "        background-color: #434B5C;\n",
       "        box-shadow: 0px 1px 3px 1px rgba(0, 0, 0, 0.15);\n",
       "        filter: drop-shadow(0px 1px 2px rgba(0, 0, 0, 0.3));\n",
       "        fill: #FFFFFF;\n",
       "      }\n",
       "    </style>\n",
       "    <button class=\"colab-df-generate\" onclick=\"generateWithVariable('market_cap_additional_re')\"\n",
       "            title=\"Generate code using this dataframe.\"\n",
       "            style=\"display:none;\">\n",
       "\n",
       "  <svg xmlns=\"http://www.w3.org/2000/svg\" height=\"24px\"viewBox=\"0 0 24 24\"\n",
       "       width=\"24px\">\n",
       "    <path d=\"M7,19H8.4L18.45,9,17,7.55,7,17.6ZM5,21V16.75L18.45,3.32a2,2,0,0,1,2.83,0l1.4,1.43a1.91,1.91,0,0,1,.58,1.4,1.91,1.91,0,0,1-.58,1.4L9.25,21ZM18.45,9,17,7.55Zm-12,3A5.31,5.31,0,0,0,4.9,8.1,5.31,5.31,0,0,0,1,6.5,5.31,5.31,0,0,0,4.9,4.9,5.31,5.31,0,0,0,6.5,1,5.31,5.31,0,0,0,8.1,4.9,5.31,5.31,0,0,0,12,6.5,5.46,5.46,0,0,0,6.5,12Z\"/>\n",
       "  </svg>\n",
       "    </button>\n",
       "    <script>\n",
       "      (() => {\n",
       "      const buttonEl =\n",
       "        document.querySelector('#id_ae83e068-7dbd-4111-9813-c0f05c581cdd button.colab-df-generate');\n",
       "      buttonEl.style.display =\n",
       "        google.colab.kernel.accessAllowed ? 'block' : 'none';\n",
       "\n",
       "      buttonEl.onclick = () => {\n",
       "        google.colab.notebook.generateWithVariable('market_cap_additional_re');\n",
       "      }\n",
       "      })();\n",
       "    </script>\n",
       "  </div>\n",
       "\n",
       "    </div>\n",
       "  </div>\n"
      ],
      "application/vnd.google.colaboratory.intrinsic+json": {
       "type": "dataframe",
       "variable_name": "market_cap_additional_re",
       "summary": "{\n  \"name\": \"market_cap_additional_re\",\n  \"rows\": 34421,\n  \"fields\": [\n    {\n      \"column\": \"edate\",\n      \"properties\": {\n        \"dtype\": \"date\",\n        \"min\": \"2024-09-30 00:00:00\",\n        \"max\": \"2025-04-30 00:00:00\",\n        \"num_unique_values\": 8,\n        \"samples\": [\n          \"2024-10-31 00:00:00\",\n          \"2025-02-28 00:00:00\",\n          \"2024-09-30 00:00:00\"\n        ],\n        \"semantic_type\": \"\",\n        \"description\": \"\"\n      }\n    },\n    {\n      \"column\": \"marketCap\",\n      \"properties\": {\n        \"dtype\": \"number\",\n        \"std\": 110670151904.63199,\n        \"min\": 0.0,\n        \"max\": 3754818014440.0,\n        \"num_unique_values\": 33545,\n        \"samples\": [\n          4232250.0,\n          4345373252.0,\n          9813878100.0\n        ],\n        \"semantic_type\": \"\",\n        \"description\": \"\"\n      }\n    },\n    {\n      \"column\": \"ticker\",\n      \"properties\": {\n        \"dtype\": \"category\",\n        \"num_unique_values\": 4667,\n        \"samples\": [\n          \"VOLT\",\n          \"DIS\",\n          \"SWH\"\n        ],\n        \"semantic_type\": \"\",\n        \"description\": \"\"\n      }\n    }\n  ]\n}"
      }
     },
     "metadata": {},
     "execution_count": 14
    }
   ],
   "source": [
    "market_cap_additional_re = market_cap_additional[market_cap_additional['edate'] != '2024-08-30']\n",
    "market_cap_additional_re['edate'] = market_cap_additional_re['edate'] + pd.offsets.MonthEnd(0)\n",
    "market_cap_additional_re"
   ]
  },
  {
   "cell_type": "markdown",
   "metadata": {
    "id": "WjI9aend8i70"
   },
   "source": [
    "### 기존 시가총액 데이터와 결합"
   ]
  },
  {
   "cell_type": "code",
   "execution_count": 15,
   "metadata": {
    "executionInfo": {
     "elapsed": 22468,
     "status": "ok",
     "timestamp": 1748572972851,
     "user": {
      "displayName": "Ho Park",
      "userId": "14742942739379475374"
     },
     "user_tz": -540
    },
    "id": "hiE1qPlMytSi"
   },
   "outputs": [],
   "source": [
    "market_cap_raw = pd.read_csv(fr'C:\\Users\\82108\\OneDrive\\바탕 화면\\investment\\investment_strategy\\DATA\\market_cap_all.csv')\n",
    "market_cap_raw = market_cap_raw.drop(columns=['Unnamed: 0'])\n",
    "market_cap_monthly = market_cap_raw.drop_duplicates(subset=['edate',  'ticker'], keep='first')"
   ]
  },
  {
   "cell_type": "markdown",
   "metadata": {
    "id": "xzczS_jngHfC"
   },
   "source": [
    "### 추가된 데이터와 기존 수집데이터와 결합 및 저장"
   ]
  },
  {
   "cell_type": "code",
   "execution_count": 16,
   "metadata": {
    "id": "No11Yof994HR",
    "executionInfo": {
     "status": "ok",
     "timestamp": 1748572979035,
     "user_tz": -540,
     "elapsed": 6180,
     "user": {
      "displayName": "Ho Park",
      "userId": "14742942739379475374"
     }
    }
   },
   "outputs": [],
   "source": [
    "marketcap__data = pd.concat([market_cap_monthly, market_cap_additional_re])\n",
    "marketcap__data.to_csv(fr'C:\\Users\\82108\\OneDrive\\바탕 화면\\investment\\investment_strategy\\DATA\\market_cap_{today_date}.csv')"
   ]
  },
  {
   "cell_type": "code",
   "execution_count": 17,
   "metadata": {
    "colab": {
     "base_uri": "https://localhost:8080/",
     "height": 802
    },
    "executionInfo": {
     "elapsed": 152,
     "status": "ok",
     "timestamp": 1748572979175,
     "user": {
      "displayName": "Ho Park",
      "userId": "14742942739379475374"
     },
     "user_tz": -540
    },
    "id": "UC5qrVAAms0s",
    "outputId": "c6039f6b-426b-4d85-835b-5ad70a9bc374"
   },
   "outputs": [
    {
     "output_type": "execute_result",
     "data": {
      "text/plain": [
       "                        edate ticker     marketCap\n",
       "10068076           2019-08-31      A  2.197299e+10\n",
       "10068098           2019-07-31      A  2.144769e+10\n",
       "10068120           2019-06-30      A  2.329704e+10\n",
       "10068140           2019-05-31      A  2.091960e+10\n",
       "10068162           2019-04-30      A  2.449200e+10\n",
       "10068183           2019-03-31      A  2.548046e+10\n",
       "10068204           2019-02-28      A  2.518248e+10\n",
       "10068223           2019-01-31      A  2.410785e+10\n",
       "14596092           2024-08-31      A  4.142940e+10\n",
       "14596114           2024-07-31      A  4.100600e+10\n",
       "14596136           2024-06-30      A  3.759270e+10\n",
       "14596155           2024-05-31      A  3.781890e+10\n",
       "14596177           2024-04-30      A  3.974160e+10\n",
       "14596199           2024-03-31      A  4.263443e+10\n",
       "14596219           2024-02-29      A  4.024648e+10\n",
       "14596239           2024-01-31      A  3.811930e+10\n",
       "163208    2024-09-30 00:00:00      A  4.305920e+10\n",
       "163185    2024-10-31 00:00:00      A  3.778990e+10\n",
       "163165    2024-11-30 00:00:00      A  3.945942e+10\n",
       "163144    2024-12-31 00:00:00      A  3.842124e+10\n",
       "163124    2025-01-31 00:00:00      A  4.333472e+10\n",
       "163105    2025-02-28 00:00:00      A  3.645720e+10\n",
       "163084    2025-03-31 00:00:00      A  3.333930e+10\n",
       "163063    2025-04-30 00:00:00      A  3.066600e+10"
      ],
      "text/html": [
       "\n",
       "  <div id=\"df-632cef30-1e4f-4440-a98e-88426768255a\" class=\"colab-df-container\">\n",
       "    <div>\n",
       "<style scoped>\n",
       "    .dataframe tbody tr th:only-of-type {\n",
       "        vertical-align: middle;\n",
       "    }\n",
       "\n",
       "    .dataframe tbody tr th {\n",
       "        vertical-align: top;\n",
       "    }\n",
       "\n",
       "    .dataframe thead th {\n",
       "        text-align: right;\n",
       "    }\n",
       "</style>\n",
       "<table border=\"1\" class=\"dataframe\">\n",
       "  <thead>\n",
       "    <tr style=\"text-align: right;\">\n",
       "      <th></th>\n",
       "      <th>edate</th>\n",
       "      <th>ticker</th>\n",
       "      <th>marketCap</th>\n",
       "    </tr>\n",
       "  </thead>\n",
       "  <tbody>\n",
       "    <tr>\n",
       "      <th>10068076</th>\n",
       "      <td>2019-08-31</td>\n",
       "      <td>A</td>\n",
       "      <td>2.197299e+10</td>\n",
       "    </tr>\n",
       "    <tr>\n",
       "      <th>10068098</th>\n",
       "      <td>2019-07-31</td>\n",
       "      <td>A</td>\n",
       "      <td>2.144769e+10</td>\n",
       "    </tr>\n",
       "    <tr>\n",
       "      <th>10068120</th>\n",
       "      <td>2019-06-30</td>\n",
       "      <td>A</td>\n",
       "      <td>2.329704e+10</td>\n",
       "    </tr>\n",
       "    <tr>\n",
       "      <th>10068140</th>\n",
       "      <td>2019-05-31</td>\n",
       "      <td>A</td>\n",
       "      <td>2.091960e+10</td>\n",
       "    </tr>\n",
       "    <tr>\n",
       "      <th>10068162</th>\n",
       "      <td>2019-04-30</td>\n",
       "      <td>A</td>\n",
       "      <td>2.449200e+10</td>\n",
       "    </tr>\n",
       "    <tr>\n",
       "      <th>10068183</th>\n",
       "      <td>2019-03-31</td>\n",
       "      <td>A</td>\n",
       "      <td>2.548046e+10</td>\n",
       "    </tr>\n",
       "    <tr>\n",
       "      <th>10068204</th>\n",
       "      <td>2019-02-28</td>\n",
       "      <td>A</td>\n",
       "      <td>2.518248e+10</td>\n",
       "    </tr>\n",
       "    <tr>\n",
       "      <th>10068223</th>\n",
       "      <td>2019-01-31</td>\n",
       "      <td>A</td>\n",
       "      <td>2.410785e+10</td>\n",
       "    </tr>\n",
       "    <tr>\n",
       "      <th>14596092</th>\n",
       "      <td>2024-08-31</td>\n",
       "      <td>A</td>\n",
       "      <td>4.142940e+10</td>\n",
       "    </tr>\n",
       "    <tr>\n",
       "      <th>14596114</th>\n",
       "      <td>2024-07-31</td>\n",
       "      <td>A</td>\n",
       "      <td>4.100600e+10</td>\n",
       "    </tr>\n",
       "    <tr>\n",
       "      <th>14596136</th>\n",
       "      <td>2024-06-30</td>\n",
       "      <td>A</td>\n",
       "      <td>3.759270e+10</td>\n",
       "    </tr>\n",
       "    <tr>\n",
       "      <th>14596155</th>\n",
       "      <td>2024-05-31</td>\n",
       "      <td>A</td>\n",
       "      <td>3.781890e+10</td>\n",
       "    </tr>\n",
       "    <tr>\n",
       "      <th>14596177</th>\n",
       "      <td>2024-04-30</td>\n",
       "      <td>A</td>\n",
       "      <td>3.974160e+10</td>\n",
       "    </tr>\n",
       "    <tr>\n",
       "      <th>14596199</th>\n",
       "      <td>2024-03-31</td>\n",
       "      <td>A</td>\n",
       "      <td>4.263443e+10</td>\n",
       "    </tr>\n",
       "    <tr>\n",
       "      <th>14596219</th>\n",
       "      <td>2024-02-29</td>\n",
       "      <td>A</td>\n",
       "      <td>4.024648e+10</td>\n",
       "    </tr>\n",
       "    <tr>\n",
       "      <th>14596239</th>\n",
       "      <td>2024-01-31</td>\n",
       "      <td>A</td>\n",
       "      <td>3.811930e+10</td>\n",
       "    </tr>\n",
       "    <tr>\n",
       "      <th>163208</th>\n",
       "      <td>2024-09-30 00:00:00</td>\n",
       "      <td>A</td>\n",
       "      <td>4.305920e+10</td>\n",
       "    </tr>\n",
       "    <tr>\n",
       "      <th>163185</th>\n",
       "      <td>2024-10-31 00:00:00</td>\n",
       "      <td>A</td>\n",
       "      <td>3.778990e+10</td>\n",
       "    </tr>\n",
       "    <tr>\n",
       "      <th>163165</th>\n",
       "      <td>2024-11-30 00:00:00</td>\n",
       "      <td>A</td>\n",
       "      <td>3.945942e+10</td>\n",
       "    </tr>\n",
       "    <tr>\n",
       "      <th>163144</th>\n",
       "      <td>2024-12-31 00:00:00</td>\n",
       "      <td>A</td>\n",
       "      <td>3.842124e+10</td>\n",
       "    </tr>\n",
       "    <tr>\n",
       "      <th>163124</th>\n",
       "      <td>2025-01-31 00:00:00</td>\n",
       "      <td>A</td>\n",
       "      <td>4.333472e+10</td>\n",
       "    </tr>\n",
       "    <tr>\n",
       "      <th>163105</th>\n",
       "      <td>2025-02-28 00:00:00</td>\n",
       "      <td>A</td>\n",
       "      <td>3.645720e+10</td>\n",
       "    </tr>\n",
       "    <tr>\n",
       "      <th>163084</th>\n",
       "      <td>2025-03-31 00:00:00</td>\n",
       "      <td>A</td>\n",
       "      <td>3.333930e+10</td>\n",
       "    </tr>\n",
       "    <tr>\n",
       "      <th>163063</th>\n",
       "      <td>2025-04-30 00:00:00</td>\n",
       "      <td>A</td>\n",
       "      <td>3.066600e+10</td>\n",
       "    </tr>\n",
       "  </tbody>\n",
       "</table>\n",
       "</div>\n",
       "    <div class=\"colab-df-buttons\">\n",
       "\n",
       "  <div class=\"colab-df-container\">\n",
       "    <button class=\"colab-df-convert\" onclick=\"convertToInteractive('df-632cef30-1e4f-4440-a98e-88426768255a')\"\n",
       "            title=\"Convert this dataframe to an interactive table.\"\n",
       "            style=\"display:none;\">\n",
       "\n",
       "  <svg xmlns=\"http://www.w3.org/2000/svg\" height=\"24px\" viewBox=\"0 -960 960 960\">\n",
       "    <path d=\"M120-120v-720h720v720H120Zm60-500h600v-160H180v160Zm220 220h160v-160H400v160Zm0 220h160v-160H400v160ZM180-400h160v-160H180v160Zm440 0h160v-160H620v160ZM180-180h160v-160H180v160Zm440 0h160v-160H620v160Z\"/>\n",
       "  </svg>\n",
       "    </button>\n",
       "\n",
       "  <style>\n",
       "    .colab-df-container {\n",
       "      display:flex;\n",
       "      gap: 12px;\n",
       "    }\n",
       "\n",
       "    .colab-df-convert {\n",
       "      background-color: #E8F0FE;\n",
       "      border: none;\n",
       "      border-radius: 50%;\n",
       "      cursor: pointer;\n",
       "      display: none;\n",
       "      fill: #1967D2;\n",
       "      height: 32px;\n",
       "      padding: 0 0 0 0;\n",
       "      width: 32px;\n",
       "    }\n",
       "\n",
       "    .colab-df-convert:hover {\n",
       "      background-color: #E2EBFA;\n",
       "      box-shadow: 0px 1px 2px rgba(60, 64, 67, 0.3), 0px 1px 3px 1px rgba(60, 64, 67, 0.15);\n",
       "      fill: #174EA6;\n",
       "    }\n",
       "\n",
       "    .colab-df-buttons div {\n",
       "      margin-bottom: 4px;\n",
       "    }\n",
       "\n",
       "    [theme=dark] .colab-df-convert {\n",
       "      background-color: #3B4455;\n",
       "      fill: #D2E3FC;\n",
       "    }\n",
       "\n",
       "    [theme=dark] .colab-df-convert:hover {\n",
       "      background-color: #434B5C;\n",
       "      box-shadow: 0px 1px 3px 1px rgba(0, 0, 0, 0.15);\n",
       "      filter: drop-shadow(0px 1px 2px rgba(0, 0, 0, 0.3));\n",
       "      fill: #FFFFFF;\n",
       "    }\n",
       "  </style>\n",
       "\n",
       "    <script>\n",
       "      const buttonEl =\n",
       "        document.querySelector('#df-632cef30-1e4f-4440-a98e-88426768255a button.colab-df-convert');\n",
       "      buttonEl.style.display =\n",
       "        google.colab.kernel.accessAllowed ? 'block' : 'none';\n",
       "\n",
       "      async function convertToInteractive(key) {\n",
       "        const element = document.querySelector('#df-632cef30-1e4f-4440-a98e-88426768255a');\n",
       "        const dataTable =\n",
       "          await google.colab.kernel.invokeFunction('convertToInteractive',\n",
       "                                                    [key], {});\n",
       "        if (!dataTable) return;\n",
       "\n",
       "        const docLinkHtml = 'Like what you see? Visit the ' +\n",
       "          '<a target=\"_blank\" href=https://colab.research.google.com/notebooks/data_table.ipynb>data table notebook</a>'\n",
       "          + ' to learn more about interactive tables.';\n",
       "        element.innerHTML = '';\n",
       "        dataTable['output_type'] = 'display_data';\n",
       "        await google.colab.output.renderOutput(dataTable, element);\n",
       "        const docLink = document.createElement('div');\n",
       "        docLink.innerHTML = docLinkHtml;\n",
       "        element.appendChild(docLink);\n",
       "      }\n",
       "    </script>\n",
       "  </div>\n",
       "\n",
       "\n",
       "    <div id=\"df-d726c945-bc8d-49af-84d7-d6068a662ba9\">\n",
       "      <button class=\"colab-df-quickchart\" onclick=\"quickchart('df-d726c945-bc8d-49af-84d7-d6068a662ba9')\"\n",
       "                title=\"Suggest charts\"\n",
       "                style=\"display:none;\">\n",
       "\n",
       "<svg xmlns=\"http://www.w3.org/2000/svg\" height=\"24px\"viewBox=\"0 0 24 24\"\n",
       "     width=\"24px\">\n",
       "    <g>\n",
       "        <path d=\"M19 3H5c-1.1 0-2 .9-2 2v14c0 1.1.9 2 2 2h14c1.1 0 2-.9 2-2V5c0-1.1-.9-2-2-2zM9 17H7v-7h2v7zm4 0h-2V7h2v10zm4 0h-2v-4h2v4z\"/>\n",
       "    </g>\n",
       "</svg>\n",
       "      </button>\n",
       "\n",
       "<style>\n",
       "  .colab-df-quickchart {\n",
       "      --bg-color: #E8F0FE;\n",
       "      --fill-color: #1967D2;\n",
       "      --hover-bg-color: #E2EBFA;\n",
       "      --hover-fill-color: #174EA6;\n",
       "      --disabled-fill-color: #AAA;\n",
       "      --disabled-bg-color: #DDD;\n",
       "  }\n",
       "\n",
       "  [theme=dark] .colab-df-quickchart {\n",
       "      --bg-color: #3B4455;\n",
       "      --fill-color: #D2E3FC;\n",
       "      --hover-bg-color: #434B5C;\n",
       "      --hover-fill-color: #FFFFFF;\n",
       "      --disabled-bg-color: #3B4455;\n",
       "      --disabled-fill-color: #666;\n",
       "  }\n",
       "\n",
       "  .colab-df-quickchart {\n",
       "    background-color: var(--bg-color);\n",
       "    border: none;\n",
       "    border-radius: 50%;\n",
       "    cursor: pointer;\n",
       "    display: none;\n",
       "    fill: var(--fill-color);\n",
       "    height: 32px;\n",
       "    padding: 0;\n",
       "    width: 32px;\n",
       "  }\n",
       "\n",
       "  .colab-df-quickchart:hover {\n",
       "    background-color: var(--hover-bg-color);\n",
       "    box-shadow: 0 1px 2px rgba(60, 64, 67, 0.3), 0 1px 3px 1px rgba(60, 64, 67, 0.15);\n",
       "    fill: var(--button-hover-fill-color);\n",
       "  }\n",
       "\n",
       "  .colab-df-quickchart-complete:disabled,\n",
       "  .colab-df-quickchart-complete:disabled:hover {\n",
       "    background-color: var(--disabled-bg-color);\n",
       "    fill: var(--disabled-fill-color);\n",
       "    box-shadow: none;\n",
       "  }\n",
       "\n",
       "  .colab-df-spinner {\n",
       "    border: 2px solid var(--fill-color);\n",
       "    border-color: transparent;\n",
       "    border-bottom-color: var(--fill-color);\n",
       "    animation:\n",
       "      spin 1s steps(1) infinite;\n",
       "  }\n",
       "\n",
       "  @keyframes spin {\n",
       "    0% {\n",
       "      border-color: transparent;\n",
       "      border-bottom-color: var(--fill-color);\n",
       "      border-left-color: var(--fill-color);\n",
       "    }\n",
       "    20% {\n",
       "      border-color: transparent;\n",
       "      border-left-color: var(--fill-color);\n",
       "      border-top-color: var(--fill-color);\n",
       "    }\n",
       "    30% {\n",
       "      border-color: transparent;\n",
       "      border-left-color: var(--fill-color);\n",
       "      border-top-color: var(--fill-color);\n",
       "      border-right-color: var(--fill-color);\n",
       "    }\n",
       "    40% {\n",
       "      border-color: transparent;\n",
       "      border-right-color: var(--fill-color);\n",
       "      border-top-color: var(--fill-color);\n",
       "    }\n",
       "    60% {\n",
       "      border-color: transparent;\n",
       "      border-right-color: var(--fill-color);\n",
       "    }\n",
       "    80% {\n",
       "      border-color: transparent;\n",
       "      border-right-color: var(--fill-color);\n",
       "      border-bottom-color: var(--fill-color);\n",
       "    }\n",
       "    90% {\n",
       "      border-color: transparent;\n",
       "      border-bottom-color: var(--fill-color);\n",
       "    }\n",
       "  }\n",
       "</style>\n",
       "\n",
       "      <script>\n",
       "        async function quickchart(key) {\n",
       "          const quickchartButtonEl =\n",
       "            document.querySelector('#' + key + ' button');\n",
       "          quickchartButtonEl.disabled = true;  // To prevent multiple clicks.\n",
       "          quickchartButtonEl.classList.add('colab-df-spinner');\n",
       "          try {\n",
       "            const charts = await google.colab.kernel.invokeFunction(\n",
       "                'suggestCharts', [key], {});\n",
       "          } catch (error) {\n",
       "            console.error('Error during call to suggestCharts:', error);\n",
       "          }\n",
       "          quickchartButtonEl.classList.remove('colab-df-spinner');\n",
       "          quickchartButtonEl.classList.add('colab-df-quickchart-complete');\n",
       "        }\n",
       "        (() => {\n",
       "          let quickchartButtonEl =\n",
       "            document.querySelector('#df-d726c945-bc8d-49af-84d7-d6068a662ba9 button');\n",
       "          quickchartButtonEl.style.display =\n",
       "            google.colab.kernel.accessAllowed ? 'block' : 'none';\n",
       "        })();\n",
       "      </script>\n",
       "    </div>\n",
       "\n",
       "    </div>\n",
       "  </div>\n"
      ],
      "application/vnd.google.colaboratory.intrinsic+json": {
       "type": "dataframe",
       "repr_error": "0"
      }
     },
     "metadata": {},
     "execution_count": 17
    }
   ],
   "source": [
    "marketcap__data[marketcap__data['ticker'] == 'A'].tail(24)"
   ]
  },
  {
   "cell_type": "code",
   "source": [],
   "metadata": {
    "id": "KpThtFLIh_1S"
   },
   "execution_count": null,
   "outputs": []
  },
  {
   "cell_type": "code",
   "source": [],
   "metadata": {
    "id": "KHrkgZ-Nh_5I"
   },
   "execution_count": null,
   "outputs": []
  },
  {
   "cell_type": "code",
   "source": [],
   "metadata": {
    "id": "sD55uTHVh_8v"
   },
   "execution_count": null,
   "outputs": []
  },
  {
   "cell_type": "code",
   "source": [],
   "metadata": {
    "id": "zWhkWn59h__m"
   },
   "execution_count": null,
   "outputs": []
  },
  {
   "cell_type": "code",
   "source": [],
   "metadata": {
    "id": "2RHrbByfiACN"
   },
   "execution_count": null,
   "outputs": []
  },
  {
   "cell_type": "code",
   "source": [],
   "metadata": {
    "id": "m3SKtRmEiAE-"
   },
   "execution_count": null,
   "outputs": []
  },
  {
   "cell_type": "code",
   "source": [],
   "metadata": {
    "id": "ER0F03BHiAHm"
   },
   "execution_count": null,
   "outputs": []
  },
  {
   "cell_type": "code",
   "source": [],
   "metadata": {
    "id": "ORFbTbEiiAJ_"
   },
   "execution_count": null,
   "outputs": []
  },
  {
   "cell_type": "code",
   "source": [],
   "metadata": {
    "id": "dxXTvjoMiAM-"
   },
   "execution_count": null,
   "outputs": []
  },
  {
   "cell_type": "code",
   "source": [],
   "metadata": {
    "id": "SvGDSJOPiAPk"
   },
   "execution_count": null,
   "outputs": []
  },
  {
   "cell_type": "code",
   "source": [],
   "metadata": {
    "id": "RWQBYECaiASo"
   },
   "execution_count": null,
   "outputs": []
  },
  {
   "cell_type": "code",
   "source": [],
   "metadata": {
    "id": "tZ75fpayiAVu"
   },
   "execution_count": null,
   "outputs": []
  },
  {
   "cell_type": "code",
   "source": [],
   "metadata": {
    "id": "FyiqAYbyiAZL"
   },
   "execution_count": null,
   "outputs": []
  },
  {
   "cell_type": "code",
   "source": [],
   "metadata": {
    "id": "Kinbb6y3iAcL"
   },
   "execution_count": null,
   "outputs": []
  },
  {
   "cell_type": "code",
   "source": [],
   "metadata": {
    "id": "ztq__uAUiAe0"
   },
   "execution_count": null,
   "outputs": []
  },
  {
   "cell_type": "code",
   "source": [],
   "metadata": {
    "id": "9EGNvJKWiAhm"
   },
   "execution_count": null,
   "outputs": []
  },
  {
   "cell_type": "code",
   "source": [],
   "metadata": {
    "id": "5n9j6E1fiAkA"
   },
   "execution_count": null,
   "outputs": []
  },
  {
   "cell_type": "code",
   "source": [],
   "metadata": {
    "id": "QfJgscQeiAmz"
   },
   "execution_count": null,
   "outputs": []
  },
  {
   "cell_type": "code",
   "source": [],
   "metadata": {
    "id": "1z_Y9mdiiApi"
   },
   "execution_count": null,
   "outputs": []
  },
  {
   "cell_type": "code",
   "source": [],
   "metadata": {
    "id": "Ocu7Ct0-iBJ2"
   },
   "execution_count": null,
   "outputs": []
  },
  {
   "cell_type": "code",
   "source": [],
   "metadata": {
    "id": "731WuYkqiBM5"
   },
   "execution_count": null,
   "outputs": []
  },
  {
   "cell_type": "code",
   "source": [],
   "metadata": {
    "id": "dyYjKzgCiBPa"
   },
   "execution_count": null,
   "outputs": []
  },
  {
   "cell_type": "code",
   "source": [],
   "metadata": {
    "id": "X_sxYLGBiBSR"
   },
   "execution_count": null,
   "outputs": []
  },
  {
   "cell_type": "code",
   "source": [],
   "metadata": {
    "id": "deTjHDzqiBVF"
   },
   "execution_count": null,
   "outputs": []
  },
  {
   "cell_type": "code",
   "source": [],
   "metadata": {
    "id": "_dGQ0kKjiBX8"
   },
   "execution_count": null,
   "outputs": []
  },
  {
   "cell_type": "code",
   "source": [],
   "metadata": {
    "id": "5_hKa7XziBah"
   },
   "execution_count": null,
   "outputs": []
  },
  {
   "cell_type": "code",
   "source": [],
   "metadata": {
    "id": "yDL7XzbsiBdl"
   },
   "execution_count": null,
   "outputs": []
  },
  {
   "cell_type": "code",
   "source": [],
   "metadata": {
    "id": "YOq5kGc4iBgh"
   },
   "execution_count": null,
   "outputs": []
  },
  {
   "cell_type": "code",
   "source": [],
   "metadata": {
    "id": "dWKJIYgNiBjW"
   },
   "execution_count": null,
   "outputs": []
  },
  {
   "cell_type": "code",
   "source": [],
   "metadata": {
    "id": "Cbj2856iiBmZ"
   },
   "execution_count": null,
   "outputs": []
  },
  {
   "cell_type": "code",
   "source": [],
   "metadata": {
    "id": "Du4AJukOiBpa"
   },
   "execution_count": null,
   "outputs": []
  },
  {
   "cell_type": "code",
   "execution_count": null,
   "metadata": {
    "colab": {
     "base_uri": "https://localhost:8080/"
    },
    "executionInfo": {
     "elapsed": 168770,
     "status": "ok",
     "timestamp": 1741021507905,
     "user": {
      "displayName": "Ho Park",
      "userId": "14742942739379475374"
     },
     "user_tz": -540
    },
    "id": "pLr4JkY88xH4",
    "outputId": "01f8f825-7c0b-4e4c-cf67-769b283cfd0d"
   },
   "outputs": [
    {
     "name": "stderr",
     "output_type": "stream",
     "text": [
      " 64%|██████▍   | 575/898 [01:33<00:45,  7.12it/s]"
     ]
    },
    {
     "name": "stdout",
     "output_type": "stream",
     "text": [
      "No data or unexpected format for XRTX\n",
      "No data or unexpected format for PETZ\n"
     ]
    },
    {
     "name": "stderr",
     "output_type": "stream",
     "text": [
      " 64%|██████▍   | 577/898 [01:33<00:41,  7.66it/s]"
     ]
    },
    {
     "name": "stdout",
     "output_type": "stream",
     "text": [
      "No data or unexpected format for VNDA\n",
      "No data or unexpected format for GP\n"
     ]
    },
    {
     "name": "stderr",
     "output_type": "stream",
     "text": [
      " 64%|██████▍   | 579/898 [01:33<00:45,  6.99it/s]"
     ]
    },
    {
     "name": "stdout",
     "output_type": "stream",
     "text": [
      "No data or unexpected format for WKHS\n",
      "No data or unexpected format for BKTI\n"
     ]
    },
    {
     "name": "stderr",
     "output_type": "stream",
     "text": [
      " 65%|██████▍   | 581/898 [01:34<00:41,  7.62it/s]"
     ]
    },
    {
     "name": "stdout",
     "output_type": "stream",
     "text": [
      "No data or unexpected format for VZLA\n",
      "No data or unexpected format for FPAY\n"
     ]
    },
    {
     "name": "stderr",
     "output_type": "stream",
     "text": [
      " 65%|██████▍   | 583/898 [01:34<00:40,  7.84it/s]"
     ]
    },
    {
     "name": "stdout",
     "output_type": "stream",
     "text": [
      "No data or unexpected format for MXC\n",
      "No data or unexpected format for MSGM\n"
     ]
    },
    {
     "name": "stderr",
     "output_type": "stream",
     "text": [
      " 65%|██████▌   | 585/898 [01:34<00:38,  8.16it/s]"
     ]
    },
    {
     "name": "stdout",
     "output_type": "stream",
     "text": [
      "No data or unexpected format for MYO\n",
      "No data or unexpected format for SAIC\n"
     ]
    },
    {
     "name": "stderr",
     "output_type": "stream",
     "text": [
      " 65%|██████▌   | 587/898 [01:34<00:40,  7.70it/s]"
     ]
    },
    {
     "name": "stdout",
     "output_type": "stream",
     "text": [
      "No data or unexpected format for XMTR\n",
      "No data or unexpected format for MFI\n"
     ]
    },
    {
     "name": "stderr",
     "output_type": "stream",
     "text": [
      "\r 65%|██████▌   | 588/898 [01:35<00:40,  7.74it/s]"
     ]
    },
    {
     "name": "stdout",
     "output_type": "stream",
     "text": [
      "No data or unexpected format for VYGR\n"
     ]
    },
    {
     "name": "stderr",
     "output_type": "stream",
     "text": [
      " 66%|██████▌   | 590/898 [01:35<00:46,  6.67it/s]"
     ]
    },
    {
     "name": "stdout",
     "output_type": "stream",
     "text": [
      "No data or unexpected format for ZCMD\n",
      "No data or unexpected format for RENT\n"
     ]
    },
    {
     "name": "stderr",
     "output_type": "stream",
     "text": [
      " 66%|██████▌   | 592/898 [01:36<01:28,  3.47it/s]"
     ]
    },
    {
     "name": "stdout",
     "output_type": "stream",
     "text": [
      "No data or unexpected format for RVP\n",
      "No data or unexpected format for MOGO\n"
     ]
    },
    {
     "name": "stderr",
     "output_type": "stream",
     "text": [
      " 66%|██████▌   | 594/898 [01:36<01:06,  4.58it/s]"
     ]
    },
    {
     "name": "stdout",
     "output_type": "stream",
     "text": [
      "No data or unexpected format for XTKG\n",
      "No data or unexpected format for ZD\n"
     ]
    },
    {
     "name": "stderr",
     "output_type": "stream",
     "text": [
      " 66%|██████▋   | 596/898 [01:36<00:51,  5.90it/s]"
     ]
    },
    {
     "name": "stdout",
     "output_type": "stream",
     "text": [
      "No data or unexpected format for VNRX\n",
      "No data or unexpected format for XWEL\n"
     ]
    },
    {
     "name": "stderr",
     "output_type": "stream",
     "text": [
      " 67%|██████▋   | 598/898 [01:37<00:43,  6.89it/s]"
     ]
    },
    {
     "name": "stdout",
     "output_type": "stream",
     "text": [
      "No data or unexpected format for WYHG\n",
      "No data or unexpected format for GORO\n"
     ]
    },
    {
     "name": "stderr",
     "output_type": "stream",
     "text": [
      " 67%|██████▋   | 600/898 [01:37<00:39,  7.53it/s]"
     ]
    },
    {
     "name": "stdout",
     "output_type": "stream",
     "text": [
      "No data or unexpected format for PEPG\n",
      "No data or unexpected format for ZJK\n"
     ]
    },
    {
     "name": "stderr",
     "output_type": "stream",
     "text": [
      " 67%|██████▋   | 602/898 [01:37<00:38,  7.61it/s]"
     ]
    },
    {
     "name": "stdout",
     "output_type": "stream",
     "text": [
      "No data or unexpected format for XTLB\n",
      "No data or unexpected format for BTG\n"
     ]
    },
    {
     "name": "stderr",
     "output_type": "stream",
     "text": [
      "\r 67%|██████▋   | 603/898 [01:37<00:37,  7.81it/s]"
     ]
    },
    {
     "name": "stdout",
     "output_type": "stream",
     "text": [
      "No data or unexpected format for NTWO\n"
     ]
    },
    {
     "name": "stderr",
     "output_type": "stream",
     "text": [
      " 67%|██████▋   | 605/898 [01:38<00:43,  6.81it/s]"
     ]
    },
    {
     "name": "stdout",
     "output_type": "stream",
     "text": [
      "No data or unexpected format for SYTA\n",
      "No data or unexpected format for UFPI\n"
     ]
    },
    {
     "name": "stderr",
     "output_type": "stream",
     "text": [
      " 68%|██████▊   | 607/898 [01:38<00:38,  7.49it/s]"
     ]
    },
    {
     "name": "stdout",
     "output_type": "stream",
     "text": [
      "No data or unexpected format for RCON\n",
      "No data or unexpected format for ZG\n"
     ]
    },
    {
     "name": "stderr",
     "output_type": "stream",
     "text": [
      "\r 68%|██████▊   | 608/898 [01:38<00:37,  7.68it/s]"
     ]
    },
    {
     "name": "stdout",
     "output_type": "stream",
     "text": [
      "No data or unexpected format for HOFV\n"
     ]
    },
    {
     "name": "stderr",
     "output_type": "stream",
     "text": [
      " 68%|██████▊   | 610/898 [01:38<00:43,  6.55it/s]"
     ]
    },
    {
     "name": "stdout",
     "output_type": "stream",
     "text": [
      "No data or unexpected format for STKH\n",
      "No data or unexpected format for CSCI\n"
     ]
    },
    {
     "name": "stderr",
     "output_type": "stream",
     "text": [
      " 68%|██████▊   | 612/898 [01:39<00:45,  6.29it/s]"
     ]
    },
    {
     "name": "stdout",
     "output_type": "stream",
     "text": [
      "No data or unexpected format for ITRG\n",
      "No data or unexpected format for IXHL\n"
     ]
    },
    {
     "name": "stderr",
     "output_type": "stream",
     "text": [
      " 68%|██████▊   | 614/898 [01:39<00:40,  7.07it/s]"
     ]
    },
    {
     "name": "stdout",
     "output_type": "stream",
     "text": [
      "No data or unexpected format for EQ\n",
      "No data or unexpected format for UFG\n"
     ]
    },
    {
     "name": "stderr",
     "output_type": "stream",
     "text": [
      "\r 68%|██████▊   | 615/898 [01:39<00:38,  7.27it/s]"
     ]
    },
    {
     "name": "stdout",
     "output_type": "stream",
     "text": [
      "No data or unexpected format for FVN\n"
     ]
    },
    {
     "name": "stderr",
     "output_type": "stream",
     "text": [
      " 69%|██████▊   | 617/898 [01:39<00:46,  6.03it/s]"
     ]
    },
    {
     "name": "stdout",
     "output_type": "stream",
     "text": [
      "No data or unexpected format for GAU\n",
      "No data or unexpected format for IDYA\n"
     ]
    },
    {
     "name": "stderr",
     "output_type": "stream",
     "text": [
      " 69%|██████▉   | 619/898 [01:40<00:40,  6.94it/s]"
     ]
    },
    {
     "name": "stdout",
     "output_type": "stream",
     "text": [
      "No data or unexpected format for WEST\n",
      "No data or unexpected format for SNES\n"
     ]
    },
    {
     "name": "stderr",
     "output_type": "stream",
     "text": [
      " 69%|██████▉   | 621/898 [01:40<00:39,  7.06it/s]"
     ]
    },
    {
     "name": "stdout",
     "output_type": "stream",
     "text": [
      "No data or unexpected format for HCAI\n",
      "No data or unexpected format for PAYX\n"
     ]
    },
    {
     "name": "stderr",
     "output_type": "stream",
     "text": [
      " 69%|██████▉   | 623/898 [01:40<00:37,  7.43it/s]"
     ]
    },
    {
     "name": "stdout",
     "output_type": "stream",
     "text": [
      "No data or unexpected format for VALN\n",
      "No data or unexpected format for NWL\n"
     ]
    },
    {
     "name": "stderr",
     "output_type": "stream",
     "text": [
      "\r 69%|██████▉   | 624/898 [01:40<00:37,  7.26it/s]"
     ]
    },
    {
     "name": "stdout",
     "output_type": "stream",
     "text": [
      "No data or unexpected format for SVRE\n"
     ]
    },
    {
     "name": "stderr",
     "output_type": "stream",
     "text": [
      " 70%|██████▉   | 626/898 [01:41<00:40,  6.68it/s]"
     ]
    },
    {
     "name": "stdout",
     "output_type": "stream",
     "text": [
      "No data or unexpected format for FAAS\n",
      "No data or unexpected format for TOI\n"
     ]
    },
    {
     "name": "stderr",
     "output_type": "stream",
     "text": [
      " 70%|██████▉   | 628/898 [01:41<00:39,  6.75it/s]"
     ]
    },
    {
     "name": "stdout",
     "output_type": "stream",
     "text": [
      "No data or unexpected format for ADD\n",
      "No data or unexpected format for TPET\n"
     ]
    },
    {
     "name": "stderr",
     "output_type": "stream",
     "text": [
      "930it [02:31,  6.68it/s]"
     ]
    },
    {
     "name": "stdout",
     "output_type": "stream",
     "text": [
      "No data or unexpected format for SYTA\n",
      "No data or unexpected format for UFPI\n"
     ]
    },
    {
     "name": "stderr",
     "output_type": "stream",
     "text": [
      "932it [02:31,  7.35it/s]"
     ]
    },
    {
     "name": "stdout",
     "output_type": "stream",
     "text": [
      "No data or unexpected format for RCON\n",
      "No data or unexpected format for ZG\n"
     ]
    },
    {
     "name": "stderr",
     "output_type": "stream",
     "text": [
      "934it [02:31,  7.46it/s]"
     ]
    },
    {
     "name": "stdout",
     "output_type": "stream",
     "text": [
      "No data or unexpected format for HOFV\n",
      "No data or unexpected format for STKH\n"
     ]
    },
    {
     "name": "stderr",
     "output_type": "stream",
     "text": [
      "936it [02:31,  7.85it/s]"
     ]
    },
    {
     "name": "stdout",
     "output_type": "stream",
     "text": [
      "No data or unexpected format for CSCI\n",
      "No data or unexpected format for ITRG\n"
     ]
    },
    {
     "name": "stderr",
     "output_type": "stream",
     "text": [
      "938it [02:32,  8.22it/s]"
     ]
    },
    {
     "name": "stdout",
     "output_type": "stream",
     "text": [
      "No data or unexpected format for IXHL\n",
      "No data or unexpected format for EQ\n"
     ]
    },
    {
     "name": "stderr",
     "output_type": "stream",
     "text": [
      "940it [02:32,  8.31it/s]"
     ]
    },
    {
     "name": "stdout",
     "output_type": "stream",
     "text": [
      "No data or unexpected format for UFG\n",
      "No data or unexpected format for FVN\n"
     ]
    },
    {
     "name": "stderr",
     "output_type": "stream",
     "text": [
      "942it [02:32,  8.12it/s]"
     ]
    },
    {
     "name": "stdout",
     "output_type": "stream",
     "text": [
      "No data or unexpected format for GAU\n",
      "No data or unexpected format for IDYA\n"
     ]
    },
    {
     "name": "stderr",
     "output_type": "stream",
     "text": [
      "944it [02:32,  8.18it/s]"
     ]
    },
    {
     "name": "stdout",
     "output_type": "stream",
     "text": [
      "No data or unexpected format for WEST\n",
      "No data or unexpected format for SNES\n"
     ]
    },
    {
     "name": "stderr",
     "output_type": "stream",
     "text": [
      "946it [02:33,  8.14it/s]"
     ]
    },
    {
     "name": "stdout",
     "output_type": "stream",
     "text": [
      "No data or unexpected format for HCAI\n",
      "No data or unexpected format for PAYX\n"
     ]
    },
    {
     "name": "stderr",
     "output_type": "stream",
     "text": [
      "948it [02:33,  7.72it/s]"
     ]
    },
    {
     "name": "stdout",
     "output_type": "stream",
     "text": [
      "No data or unexpected format for VALN\n",
      "No data or unexpected format for NWL\n"
     ]
    },
    {
     "name": "stderr",
     "output_type": "stream",
     "text": [
      "950it [02:33,  7.85it/s]"
     ]
    },
    {
     "name": "stdout",
     "output_type": "stream",
     "text": [
      "No data or unexpected format for SVRE\n",
      "No data or unexpected format for FAAS\n"
     ]
    },
    {
     "name": "stderr",
     "output_type": "stream",
     "text": [
      "\r951it [02:33,  7.97it/s]"
     ]
    },
    {
     "name": "stdout",
     "output_type": "stream",
     "text": [
      "No data or unexpected format for TOI\n"
     ]
    },
    {
     "name": "stderr",
     "output_type": "stream",
     "text": [
      "953it [02:34,  6.59it/s]"
     ]
    },
    {
     "name": "stdout",
     "output_type": "stream",
     "text": [
      "No data or unexpected format for ADD\n",
      "No data or unexpected format for TPET\n"
     ]
    },
    {
     "name": "stderr",
     "output_type": "stream",
     "text": [
      "955it [02:34,  7.00it/s]"
     ]
    },
    {
     "name": "stdout",
     "output_type": "stream",
     "text": [
      "No data or unexpected format for SYTA\n",
      "No data or unexpected format for UFPI\n"
     ]
    },
    {
     "name": "stderr",
     "output_type": "stream",
     "text": [
      "957it [02:34,  7.63it/s]"
     ]
    },
    {
     "name": "stdout",
     "output_type": "stream",
     "text": [
      "No data or unexpected format for RCON\n",
      "No data or unexpected format for ZG\n"
     ]
    },
    {
     "name": "stderr",
     "output_type": "stream",
     "text": [
      "959it [02:34,  8.00it/s]"
     ]
    },
    {
     "name": "stdout",
     "output_type": "stream",
     "text": [
      "No data or unexpected format for HOFV\n",
      "No data or unexpected format for STKH\n"
     ]
    },
    {
     "name": "stderr",
     "output_type": "stream",
     "text": [
      "961it [02:35,  8.00it/s]"
     ]
    },
    {
     "name": "stdout",
     "output_type": "stream",
     "text": [
      "No data or unexpected format for CSCI\n",
      "No data or unexpected format for ITRG\n"
     ]
    },
    {
     "name": "stderr",
     "output_type": "stream",
     "text": [
      "963it [02:35,  8.15it/s]"
     ]
    },
    {
     "name": "stdout",
     "output_type": "stream",
     "text": [
      "No data or unexpected format for IXHL\n",
      "No data or unexpected format for EQ\n"
     ]
    },
    {
     "name": "stderr",
     "output_type": "stream",
     "text": [
      "965it [02:35,  8.08it/s]"
     ]
    },
    {
     "name": "stdout",
     "output_type": "stream",
     "text": [
      "No data or unexpected format for UFG\n",
      "No data or unexpected format for FVN\n"
     ]
    },
    {
     "name": "stderr",
     "output_type": "stream",
     "text": [
      "967it [02:35,  8.20it/s]"
     ]
    },
    {
     "name": "stdout",
     "output_type": "stream",
     "text": [
      "No data or unexpected format for GAU\n",
      "No data or unexpected format for IDYA\n"
     ]
    },
    {
     "name": "stderr",
     "output_type": "stream",
     "text": [
      "969it [02:36,  8.28it/s]"
     ]
    },
    {
     "name": "stdout",
     "output_type": "stream",
     "text": [
      "No data or unexpected format for WEST\n",
      "No data or unexpected format for SNES\n"
     ]
    },
    {
     "name": "stderr",
     "output_type": "stream",
     "text": [
      "971it [02:36,  8.32it/s]"
     ]
    },
    {
     "name": "stdout",
     "output_type": "stream",
     "text": [
      "No data or unexpected format for HCAI\n",
      "No data or unexpected format for PAYX\n"
     ]
    },
    {
     "name": "stderr",
     "output_type": "stream",
     "text": [
      "973it [02:36,  8.27it/s]"
     ]
    },
    {
     "name": "stdout",
     "output_type": "stream",
     "text": [
      "No data or unexpected format for VALN\n",
      "No data or unexpected format for NWL\n"
     ]
    },
    {
     "name": "stderr",
     "output_type": "stream",
     "text": [
      "975it [02:36,  8.23it/s]"
     ]
    },
    {
     "name": "stdout",
     "output_type": "stream",
     "text": [
      "No data or unexpected format for SVRE\n",
      "No data or unexpected format for FAAS\n"
     ]
    },
    {
     "name": "stderr",
     "output_type": "stream",
     "text": [
      "977it [02:37,  8.36it/s]"
     ]
    },
    {
     "name": "stdout",
     "output_type": "stream",
     "text": [
      "No data or unexpected format for TOI\n",
      "No data or unexpected format for ADD\n"
     ]
    },
    {
     "name": "stderr",
     "output_type": "stream",
     "text": [
      "979it [02:37,  8.36it/s]"
     ]
    },
    {
     "name": "stdout",
     "output_type": "stream",
     "text": [
      "No data or unexpected format for TPET\n",
      "No data or unexpected format for SYTA\n"
     ]
    },
    {
     "name": "stderr",
     "output_type": "stream",
     "text": [
      "981it [02:37,  8.30it/s]"
     ]
    },
    {
     "name": "stdout",
     "output_type": "stream",
     "text": [
      "No data or unexpected format for UFPI\n",
      "No data or unexpected format for RCON\n"
     ]
    },
    {
     "name": "stderr",
     "output_type": "stream",
     "text": [
      "983it [02:37,  8.28it/s]"
     ]
    },
    {
     "name": "stdout",
     "output_type": "stream",
     "text": [
      "No data or unexpected format for ZG\n",
      "No data or unexpected format for HOFV\n"
     ]
    },
    {
     "name": "stderr",
     "output_type": "stream",
     "text": [
      "985it [02:37,  8.28it/s]"
     ]
    },
    {
     "name": "stdout",
     "output_type": "stream",
     "text": [
      "No data or unexpected format for STKH\n",
      "No data or unexpected format for CSCI\n"
     ]
    },
    {
     "name": "stderr",
     "output_type": "stream",
     "text": [
      "987it [02:38,  8.08it/s]"
     ]
    },
    {
     "name": "stdout",
     "output_type": "stream",
     "text": [
      "No data or unexpected format for ITRG\n",
      "No data or unexpected format for IXHL\n"
     ]
    },
    {
     "name": "stderr",
     "output_type": "stream",
     "text": [
      "989it [02:38,  8.12it/s]"
     ]
    },
    {
     "name": "stdout",
     "output_type": "stream",
     "text": [
      "No data or unexpected format for EQ\n",
      "No data or unexpected format for UFG\n"
     ]
    },
    {
     "name": "stderr",
     "output_type": "stream",
     "text": [
      "991it [02:38,  8.17it/s]"
     ]
    },
    {
     "name": "stdout",
     "output_type": "stream",
     "text": [
      "No data or unexpected format for FVN\n",
      "No data or unexpected format for GAU\n"
     ]
    },
    {
     "name": "stderr",
     "output_type": "stream",
     "text": [
      "993it [02:38,  7.99it/s]"
     ]
    },
    {
     "name": "stdout",
     "output_type": "stream",
     "text": [
      "No data or unexpected format for IDYA\n",
      "No data or unexpected format for WEST\n"
     ]
    },
    {
     "name": "stderr",
     "output_type": "stream",
     "text": [
      "995it [02:39,  6.89it/s]"
     ]
    },
    {
     "name": "stdout",
     "output_type": "stream",
     "text": [
      "No data or unexpected format for SNES\n",
      "No data or unexpected format for HCAI\n"
     ]
    },
    {
     "name": "stderr",
     "output_type": "stream",
     "text": [
      "997it [02:39,  6.25it/s]"
     ]
    },
    {
     "name": "stdout",
     "output_type": "stream",
     "text": [
      "No data or unexpected format for PAYX\n",
      "No data or unexpected format for VALN\n"
     ]
    },
    {
     "name": "stderr",
     "output_type": "stream",
     "text": [
      "999it [02:39,  7.10it/s]"
     ]
    },
    {
     "name": "stdout",
     "output_type": "stream",
     "text": [
      "No data or unexpected format for NWL\n",
      "No data or unexpected format for SVRE\n"
     ]
    },
    {
     "name": "stderr",
     "output_type": "stream",
     "text": [
      "1001it [02:40,  7.67it/s]"
     ]
    },
    {
     "name": "stdout",
     "output_type": "stream",
     "text": [
      "No data or unexpected format for FAAS\n",
      "No data or unexpected format for TOI\n"
     ]
    },
    {
     "name": "stderr",
     "output_type": "stream",
     "text": [
      "1003it [02:40,  7.99it/s]"
     ]
    },
    {
     "name": "stdout",
     "output_type": "stream",
     "text": [
      "No data or unexpected format for ADD\n",
      "No data or unexpected format for TPET\n"
     ]
    },
    {
     "name": "stderr",
     "output_type": "stream",
     "text": [
      "1005it [02:40,  8.16it/s]"
     ]
    },
    {
     "name": "stdout",
     "output_type": "stream",
     "text": [
      "No data or unexpected format for SYTA\n",
      "No data or unexpected format for UFPI\n"
     ]
    },
    {
     "name": "stderr",
     "output_type": "stream",
     "text": [
      "1007it [02:40,  8.03it/s]"
     ]
    },
    {
     "name": "stdout",
     "output_type": "stream",
     "text": [
      "No data or unexpected format for RCON\n",
      "No data or unexpected format for ZG\n"
     ]
    },
    {
     "name": "stderr",
     "output_type": "stream",
     "text": [
      "1009it [02:41,  8.16it/s]"
     ]
    },
    {
     "name": "stdout",
     "output_type": "stream",
     "text": [
      "No data or unexpected format for HOFV\n",
      "No data or unexpected format for STKH\n"
     ]
    },
    {
     "name": "stderr",
     "output_type": "stream",
     "text": [
      "1011it [02:41,  7.25it/s]"
     ]
    },
    {
     "name": "stdout",
     "output_type": "stream",
     "text": [
      "No data or unexpected format for CSCI\n",
      "No data or unexpected format for ITRG\n"
     ]
    },
    {
     "name": "stderr",
     "output_type": "stream",
     "text": [
      "1036it [02:47,  6.17it/s]\n"
     ]
    },
    {
     "name": "stdout",
     "output_type": "stream",
     "text": [
      "       symbol        date    marketCap ticker\n",
      "0        LANV  2025-02-28  232293920.0   LANV\n",
      "1        LANV  2025-02-27  221735106.0   LANV\n",
      "2        LANV  2025-02-26  224081509.0   LANV\n",
      "3        LANV  2025-02-25  214695896.0   LANV\n",
      "4        LANV  2025-02-24  222908307.0   LANV\n",
      "...       ...         ...          ...    ...\n",
      "539898   ITRG  2024-09-06   79604254.0   ITRG\n",
      "539899   ITRG  2024-09-05   83381453.0   ITRG\n",
      "539900   ITRG  2024-09-04   81364588.0   ITRG\n",
      "539901   ITRG  2024-09-03   80497690.0   ITRG\n",
      "539902   ITRG  2024-08-30   84690646.0   ITRG\n",
      "\n",
      "[539903 rows x 4 columns]\n"
     ]
    }
   ],
   "source": [
    "for tick in tqdm(prc_error_list):\n",
    "\n",
    "    try:\n",
    "        # URL을 구성합니다.\n",
    "        base_url = f\"https://financialmodelingprep.com/api/v3/historical-market-capitalization/{tick}\"\n",
    "        query_parameters = {\n",
    "            \"from\": start_date,\n",
    "            \"to\": end_date,\n",
    "            \"apikey\": apikey\n",
    "        }\n",
    "\n",
    "        # URL 인코딩을 사용하여 전체 URL을 만듭니다.\n",
    "        url = f\"{base_url}?{urllib.parse.urlencode(query_parameters)}\"\n",
    "        json_data = get_jsonparsed_data(url)\n",
    "\n",
    "        # json_data가 리스트 형태로 반환되는 경우를 처리합니다.\n",
    "        if isinstance(json_data, list):\n",
    "            df = pd.DataFrame(json_data)\n",
    "            df['ticker'] = tick\n",
    "            prc_list.append(df)\n",
    "        else:\n",
    "            prc_error_list.append(tick)\n",
    "            print(f\"No data or unexpected format for {tick}\")\n",
    "\n",
    "    except Exception as e:\n",
    "        prc_error_list.append(tick)\n",
    "        print(f\"Error processing {tick}: {e}\")\n",
    "\n",
    "# 결과를 하나의 DataFrame으로 병합합니다.\n",
    "if prc_list:\n",
    "    final_df2 = pd.concat(prc_list, ignore_index=True)\n",
    "    print(final_df2)\n",
    "else:\n",
    "    print(\"No data was retrieved.\")"
   ]
  },
  {
   "cell_type": "code",
   "execution_count": null,
   "metadata": {
    "id": "x-tS7a0t9N3-"
   },
   "outputs": [],
   "source": [
    "final_df2.to_csv('/content/drive/MyDrive/Stock_Investment_Strategy/Factor_Model/Data/US_stock_prc/market_cap_20250228.csv')"
   ]
  },
  {
   "cell_type": "code",
   "execution_count": null,
   "metadata": {
    "colab": {
     "base_uri": "https://localhost:8080/",
     "height": 423
    },
    "executionInfo": {
     "elapsed": 47,
     "status": "ok",
     "timestamp": 1741021563763,
     "user": {
      "displayName": "Ho Park",
      "userId": "14742942739379475374"
     },
     "user_tz": -540
    },
    "id": "DOUFrMR--LVM",
    "outputId": "495a0f9b-2ea2-4933-8a7a-1a2997063466"
   },
   "outputs": [
    {
     "data": {
      "application/vnd.google.colaboratory.intrinsic+json": {
       "type": "dataframe",
       "variable_name": "final_df"
      },
      "text/html": [
       "\n",
       "  <div id=\"df-9174d98b-d79f-4f96-9323-a429177a555d\" class=\"colab-df-container\">\n",
       "    <div>\n",
       "<style scoped>\n",
       "    .dataframe tbody tr th:only-of-type {\n",
       "        vertical-align: middle;\n",
       "    }\n",
       "\n",
       "    .dataframe tbody tr th {\n",
       "        vertical-align: top;\n",
       "    }\n",
       "\n",
       "    .dataframe thead th {\n",
       "        text-align: right;\n",
       "    }\n",
       "</style>\n",
       "<table border=\"1\" class=\"dataframe\">\n",
       "  <thead>\n",
       "    <tr style=\"text-align: right;\">\n",
       "      <th></th>\n",
       "      <th>symbol</th>\n",
       "      <th>date</th>\n",
       "      <th>marketCap</th>\n",
       "      <th>ticker</th>\n",
       "    </tr>\n",
       "  </thead>\n",
       "  <tbody>\n",
       "    <tr>\n",
       "      <th>0</th>\n",
       "      <td>LANV</td>\n",
       "      <td>2025-02-28</td>\n",
       "      <td>232293920.0</td>\n",
       "      <td>LANV</td>\n",
       "    </tr>\n",
       "    <tr>\n",
       "      <th>1</th>\n",
       "      <td>LANV</td>\n",
       "      <td>2025-02-27</td>\n",
       "      <td>221735106.0</td>\n",
       "      <td>LANV</td>\n",
       "    </tr>\n",
       "    <tr>\n",
       "      <th>2</th>\n",
       "      <td>LANV</td>\n",
       "      <td>2025-02-26</td>\n",
       "      <td>224081509.0</td>\n",
       "      <td>LANV</td>\n",
       "    </tr>\n",
       "    <tr>\n",
       "      <th>3</th>\n",
       "      <td>LANV</td>\n",
       "      <td>2025-02-25</td>\n",
       "      <td>214695896.0</td>\n",
       "      <td>LANV</td>\n",
       "    </tr>\n",
       "    <tr>\n",
       "      <th>4</th>\n",
       "      <td>LANV</td>\n",
       "      <td>2025-02-24</td>\n",
       "      <td>222908307.0</td>\n",
       "      <td>LANV</td>\n",
       "    </tr>\n",
       "    <tr>\n",
       "      <th>...</th>\n",
       "      <td>...</td>\n",
       "      <td>...</td>\n",
       "      <td>...</td>\n",
       "      <td>...</td>\n",
       "    </tr>\n",
       "    <tr>\n",
       "      <th>457976</th>\n",
       "      <td>LLL</td>\n",
       "      <td>2024-09-06</td>\n",
       "      <td>10667032.0</td>\n",
       "      <td>LLL</td>\n",
       "    </tr>\n",
       "    <tr>\n",
       "      <th>457977</th>\n",
       "      <td>LLL</td>\n",
       "      <td>2024-09-05</td>\n",
       "      <td>11714103.0</td>\n",
       "      <td>LLL</td>\n",
       "    </tr>\n",
       "    <tr>\n",
       "      <th>457978</th>\n",
       "      <td>LLL</td>\n",
       "      <td>2024-09-04</td>\n",
       "      <td>11844987.0</td>\n",
       "      <td>LLL</td>\n",
       "    </tr>\n",
       "    <tr>\n",
       "      <th>457979</th>\n",
       "      <td>LLL</td>\n",
       "      <td>2024-09-03</td>\n",
       "      <td>11452336.0</td>\n",
       "      <td>LLL</td>\n",
       "    </tr>\n",
       "    <tr>\n",
       "      <th>457980</th>\n",
       "      <td>LLL</td>\n",
       "      <td>2024-08-30</td>\n",
       "      <td>11975871.0</td>\n",
       "      <td>LLL</td>\n",
       "    </tr>\n",
       "  </tbody>\n",
       "</table>\n",
       "<p>457981 rows × 4 columns</p>\n",
       "</div>\n",
       "    <div class=\"colab-df-buttons\">\n",
       "\n",
       "  <div class=\"colab-df-container\">\n",
       "    <button class=\"colab-df-convert\" onclick=\"convertToInteractive('df-9174d98b-d79f-4f96-9323-a429177a555d')\"\n",
       "            title=\"Convert this dataframe to an interactive table.\"\n",
       "            style=\"display:none;\">\n",
       "\n",
       "  <svg xmlns=\"http://www.w3.org/2000/svg\" height=\"24px\" viewBox=\"0 -960 960 960\">\n",
       "    <path d=\"M120-120v-720h720v720H120Zm60-500h600v-160H180v160Zm220 220h160v-160H400v160Zm0 220h160v-160H400v160ZM180-400h160v-160H180v160Zm440 0h160v-160H620v160ZM180-180h160v-160H180v160Zm440 0h160v-160H620v160Z\"/>\n",
       "  </svg>\n",
       "    </button>\n",
       "\n",
       "  <style>\n",
       "    .colab-df-container {\n",
       "      display:flex;\n",
       "      gap: 12px;\n",
       "    }\n",
       "\n",
       "    .colab-df-convert {\n",
       "      background-color: #E8F0FE;\n",
       "      border: none;\n",
       "      border-radius: 50%;\n",
       "      cursor: pointer;\n",
       "      display: none;\n",
       "      fill: #1967D2;\n",
       "      height: 32px;\n",
       "      padding: 0 0 0 0;\n",
       "      width: 32px;\n",
       "    }\n",
       "\n",
       "    .colab-df-convert:hover {\n",
       "      background-color: #E2EBFA;\n",
       "      box-shadow: 0px 1px 2px rgba(60, 64, 67, 0.3), 0px 1px 3px 1px rgba(60, 64, 67, 0.15);\n",
       "      fill: #174EA6;\n",
       "    }\n",
       "\n",
       "    .colab-df-buttons div {\n",
       "      margin-bottom: 4px;\n",
       "    }\n",
       "\n",
       "    [theme=dark] .colab-df-convert {\n",
       "      background-color: #3B4455;\n",
       "      fill: #D2E3FC;\n",
       "    }\n",
       "\n",
       "    [theme=dark] .colab-df-convert:hover {\n",
       "      background-color: #434B5C;\n",
       "      box-shadow: 0px 1px 3px 1px rgba(0, 0, 0, 0.15);\n",
       "      filter: drop-shadow(0px 1px 2px rgba(0, 0, 0, 0.3));\n",
       "      fill: #FFFFFF;\n",
       "    }\n",
       "  </style>\n",
       "\n",
       "    <script>\n",
       "      const buttonEl =\n",
       "        document.querySelector('#df-9174d98b-d79f-4f96-9323-a429177a555d button.colab-df-convert');\n",
       "      buttonEl.style.display =\n",
       "        google.colab.kernel.accessAllowed ? 'block' : 'none';\n",
       "\n",
       "      async function convertToInteractive(key) {\n",
       "        const element = document.querySelector('#df-9174d98b-d79f-4f96-9323-a429177a555d');\n",
       "        const dataTable =\n",
       "          await google.colab.kernel.invokeFunction('convertToInteractive',\n",
       "                                                    [key], {});\n",
       "        if (!dataTable) return;\n",
       "\n",
       "        const docLinkHtml = 'Like what you see? Visit the ' +\n",
       "          '<a target=\"_blank\" href=https://colab.research.google.com/notebooks/data_table.ipynb>data table notebook</a>'\n",
       "          + ' to learn more about interactive tables.';\n",
       "        element.innerHTML = '';\n",
       "        dataTable['output_type'] = 'display_data';\n",
       "        await google.colab.output.renderOutput(dataTable, element);\n",
       "        const docLink = document.createElement('div');\n",
       "        docLink.innerHTML = docLinkHtml;\n",
       "        element.appendChild(docLink);\n",
       "      }\n",
       "    </script>\n",
       "  </div>\n",
       "\n",
       "\n",
       "<div id=\"df-64f6ccb1-4480-4948-9b2b-d8416d0f2547\">\n",
       "  <button class=\"colab-df-quickchart\" onclick=\"quickchart('df-64f6ccb1-4480-4948-9b2b-d8416d0f2547')\"\n",
       "            title=\"Suggest charts\"\n",
       "            style=\"display:none;\">\n",
       "\n",
       "<svg xmlns=\"http://www.w3.org/2000/svg\" height=\"24px\"viewBox=\"0 0 24 24\"\n",
       "     width=\"24px\">\n",
       "    <g>\n",
       "        <path d=\"M19 3H5c-1.1 0-2 .9-2 2v14c0 1.1.9 2 2 2h14c1.1 0 2-.9 2-2V5c0-1.1-.9-2-2-2zM9 17H7v-7h2v7zm4 0h-2V7h2v10zm4 0h-2v-4h2v4z\"/>\n",
       "    </g>\n",
       "</svg>\n",
       "  </button>\n",
       "\n",
       "<style>\n",
       "  .colab-df-quickchart {\n",
       "      --bg-color: #E8F0FE;\n",
       "      --fill-color: #1967D2;\n",
       "      --hover-bg-color: #E2EBFA;\n",
       "      --hover-fill-color: #174EA6;\n",
       "      --disabled-fill-color: #AAA;\n",
       "      --disabled-bg-color: #DDD;\n",
       "  }\n",
       "\n",
       "  [theme=dark] .colab-df-quickchart {\n",
       "      --bg-color: #3B4455;\n",
       "      --fill-color: #D2E3FC;\n",
       "      --hover-bg-color: #434B5C;\n",
       "      --hover-fill-color: #FFFFFF;\n",
       "      --disabled-bg-color: #3B4455;\n",
       "      --disabled-fill-color: #666;\n",
       "  }\n",
       "\n",
       "  .colab-df-quickchart {\n",
       "    background-color: var(--bg-color);\n",
       "    border: none;\n",
       "    border-radius: 50%;\n",
       "    cursor: pointer;\n",
       "    display: none;\n",
       "    fill: var(--fill-color);\n",
       "    height: 32px;\n",
       "    padding: 0;\n",
       "    width: 32px;\n",
       "  }\n",
       "\n",
       "  .colab-df-quickchart:hover {\n",
       "    background-color: var(--hover-bg-color);\n",
       "    box-shadow: 0 1px 2px rgba(60, 64, 67, 0.3), 0 1px 3px 1px rgba(60, 64, 67, 0.15);\n",
       "    fill: var(--button-hover-fill-color);\n",
       "  }\n",
       "\n",
       "  .colab-df-quickchart-complete:disabled,\n",
       "  .colab-df-quickchart-complete:disabled:hover {\n",
       "    background-color: var(--disabled-bg-color);\n",
       "    fill: var(--disabled-fill-color);\n",
       "    box-shadow: none;\n",
       "  }\n",
       "\n",
       "  .colab-df-spinner {\n",
       "    border: 2px solid var(--fill-color);\n",
       "    border-color: transparent;\n",
       "    border-bottom-color: var(--fill-color);\n",
       "    animation:\n",
       "      spin 1s steps(1) infinite;\n",
       "  }\n",
       "\n",
       "  @keyframes spin {\n",
       "    0% {\n",
       "      border-color: transparent;\n",
       "      border-bottom-color: var(--fill-color);\n",
       "      border-left-color: var(--fill-color);\n",
       "    }\n",
       "    20% {\n",
       "      border-color: transparent;\n",
       "      border-left-color: var(--fill-color);\n",
       "      border-top-color: var(--fill-color);\n",
       "    }\n",
       "    30% {\n",
       "      border-color: transparent;\n",
       "      border-left-color: var(--fill-color);\n",
       "      border-top-color: var(--fill-color);\n",
       "      border-right-color: var(--fill-color);\n",
       "    }\n",
       "    40% {\n",
       "      border-color: transparent;\n",
       "      border-right-color: var(--fill-color);\n",
       "      border-top-color: var(--fill-color);\n",
       "    }\n",
       "    60% {\n",
       "      border-color: transparent;\n",
       "      border-right-color: var(--fill-color);\n",
       "    }\n",
       "    80% {\n",
       "      border-color: transparent;\n",
       "      border-right-color: var(--fill-color);\n",
       "      border-bottom-color: var(--fill-color);\n",
       "    }\n",
       "    90% {\n",
       "      border-color: transparent;\n",
       "      border-bottom-color: var(--fill-color);\n",
       "    }\n",
       "  }\n",
       "</style>\n",
       "\n",
       "  <script>\n",
       "    async function quickchart(key) {\n",
       "      const quickchartButtonEl =\n",
       "        document.querySelector('#' + key + ' button');\n",
       "      quickchartButtonEl.disabled = true;  // To prevent multiple clicks.\n",
       "      quickchartButtonEl.classList.add('colab-df-spinner');\n",
       "      try {\n",
       "        const charts = await google.colab.kernel.invokeFunction(\n",
       "            'suggestCharts', [key], {});\n",
       "      } catch (error) {\n",
       "        console.error('Error during call to suggestCharts:', error);\n",
       "      }\n",
       "      quickchartButtonEl.classList.remove('colab-df-spinner');\n",
       "      quickchartButtonEl.classList.add('colab-df-quickchart-complete');\n",
       "    }\n",
       "    (() => {\n",
       "      let quickchartButtonEl =\n",
       "        document.querySelector('#df-64f6ccb1-4480-4948-9b2b-d8416d0f2547 button');\n",
       "      quickchartButtonEl.style.display =\n",
       "        google.colab.kernel.accessAllowed ? 'block' : 'none';\n",
       "    })();\n",
       "  </script>\n",
       "</div>\n",
       "\n",
       "  <div id=\"id_7f3e1587-9dc9-4896-8dee-0f7fef5704c1\">\n",
       "    <style>\n",
       "      .colab-df-generate {\n",
       "        background-color: #E8F0FE;\n",
       "        border: none;\n",
       "        border-radius: 50%;\n",
       "        cursor: pointer;\n",
       "        display: none;\n",
       "        fill: #1967D2;\n",
       "        height: 32px;\n",
       "        padding: 0 0 0 0;\n",
       "        width: 32px;\n",
       "      }\n",
       "\n",
       "      .colab-df-generate:hover {\n",
       "        background-color: #E2EBFA;\n",
       "        box-shadow: 0px 1px 2px rgba(60, 64, 67, 0.3), 0px 1px 3px 1px rgba(60, 64, 67, 0.15);\n",
       "        fill: #174EA6;\n",
       "      }\n",
       "\n",
       "      [theme=dark] .colab-df-generate {\n",
       "        background-color: #3B4455;\n",
       "        fill: #D2E3FC;\n",
       "      }\n",
       "\n",
       "      [theme=dark] .colab-df-generate:hover {\n",
       "        background-color: #434B5C;\n",
       "        box-shadow: 0px 1px 3px 1px rgba(0, 0, 0, 0.15);\n",
       "        filter: drop-shadow(0px 1px 2px rgba(0, 0, 0, 0.3));\n",
       "        fill: #FFFFFF;\n",
       "      }\n",
       "    </style>\n",
       "    <button class=\"colab-df-generate\" onclick=\"generateWithVariable('final_df')\"\n",
       "            title=\"Generate code using this dataframe.\"\n",
       "            style=\"display:none;\">\n",
       "\n",
       "  <svg xmlns=\"http://www.w3.org/2000/svg\" height=\"24px\"viewBox=\"0 0 24 24\"\n",
       "       width=\"24px\">\n",
       "    <path d=\"M7,19H8.4L18.45,9,17,7.55,7,17.6ZM5,21V16.75L18.45,3.32a2,2,0,0,1,2.83,0l1.4,1.43a1.91,1.91,0,0,1,.58,1.4,1.91,1.91,0,0,1-.58,1.4L9.25,21ZM18.45,9,17,7.55Zm-12,3A5.31,5.31,0,0,0,4.9,8.1,5.31,5.31,0,0,0,1,6.5,5.31,5.31,0,0,0,4.9,4.9,5.31,5.31,0,0,0,6.5,1,5.31,5.31,0,0,0,8.1,4.9,5.31,5.31,0,0,0,12,6.5,5.46,5.46,0,0,0,6.5,12Z\"/>\n",
       "  </svg>\n",
       "    </button>\n",
       "    <script>\n",
       "      (() => {\n",
       "      const buttonEl =\n",
       "        document.querySelector('#id_7f3e1587-9dc9-4896-8dee-0f7fef5704c1 button.colab-df-generate');\n",
       "      buttonEl.style.display =\n",
       "        google.colab.kernel.accessAllowed ? 'block' : 'none';\n",
       "\n",
       "      buttonEl.onclick = () => {\n",
       "        google.colab.notebook.generateWithVariable('final_df');\n",
       "      }\n",
       "      })();\n",
       "    </script>\n",
       "  </div>\n",
       "\n",
       "    </div>\n",
       "  </div>\n"
      ],
      "text/plain": [
       "       symbol        date    marketCap ticker\n",
       "0        LANV  2025-02-28  232293920.0   LANV\n",
       "1        LANV  2025-02-27  221735106.0   LANV\n",
       "2        LANV  2025-02-26  224081509.0   LANV\n",
       "3        LANV  2025-02-25  214695896.0   LANV\n",
       "4        LANV  2025-02-24  222908307.0   LANV\n",
       "...       ...         ...          ...    ...\n",
       "457976    LLL  2024-09-06   10667032.0    LLL\n",
       "457977    LLL  2024-09-05   11714103.0    LLL\n",
       "457978    LLL  2024-09-04   11844987.0    LLL\n",
       "457979    LLL  2024-09-03   11452336.0    LLL\n",
       "457980    LLL  2024-08-30   11975871.0    LLL\n",
       "\n",
       "[457981 rows x 4 columns]"
      ]
     },
     "execution_count": 20,
     "metadata": {},
     "output_type": "execute_result"
    }
   ],
   "source": [
    "final_df"
   ]
  },
  {
   "cell_type": "code",
   "execution_count": null,
   "metadata": {
    "id": "AJp9aW0q-LXx"
   },
   "outputs": [],
   "source": []
  },
  {
   "cell_type": "code",
   "execution_count": null,
   "metadata": {
    "id": "dYZtDaet-LaO"
   },
   "outputs": [],
   "source": []
  },
  {
   "cell_type": "markdown",
   "metadata": {
    "id": "eqfx7t2aIDq0"
   },
   "source": [
    "#### 최근 시가총액 데이터를 호출하고 결합하여 다시 저장"
   ]
  },
  {
   "cell_type": "code",
   "execution_count": null,
   "metadata": {
    "id": "uMVjKAlSytbJ"
   },
   "outputs": [],
   "source": []
  },
  {
   "cell_type": "code",
   "execution_count": null,
   "metadata": {
    "id": "s_e1SDxIPeAQ"
   },
   "outputs": [],
   "source": [
    "tic_list = prc_raw['ticker'].unique().tolist()"
   ]
  },
  {
   "cell_type": "code",
   "execution_count": null,
   "metadata": {
    "colab": {
     "base_uri": "https://localhost:8080/"
    },
    "executionInfo": {
     "elapsed": 2202774,
     "status": "ok",
     "timestamp": 1725042025151,
     "user": {
      "displayName": "Ho Park",
      "userId": "14742942739379475374"
     },
     "user_tz": -540
    },
    "id": "SYOto8PIgquj",
    "outputId": "a61503ab-db8a-47b5-929e-7f8be5cb9ef3"
   },
   "outputs": [
    {
     "name": "stderr",
     "output_type": "stream",
     "text": [
      "100%|██████████| 5808/5808 [36:38<00:00,  2.64it/s]\n"
     ]
    },
    {
     "name": "stdout",
     "output_type": "stream",
     "text": [
      "        ticker symbol        date     marketCap\n",
      "0         ORCL   ORCL  2013-12-31  1.750395e+11\n",
      "1         ORCL   ORCL  2013-12-30  1.738042e+11\n",
      "2         ORCL   ORCL  2013-12-27  1.737585e+11\n",
      "3         ORCL   ORCL  2013-12-26  1.724318e+11\n",
      "4         ORCL   ORCL  2013-12-24  1.707390e+11\n",
      "...        ...    ...         ...           ...\n",
      "2850708  SHIPW  SHIPW  2009-01-08  1.106365e+08\n",
      "2850709  SHIPW  SHIPW  2009-01-07  1.101948e+08\n",
      "2850710  SHIPW  SHIPW  2009-01-06  1.159364e+08\n",
      "2850711  SHIPW  SHIPW  2009-01-05  1.148323e+08\n",
      "2850712  SHIPW  SHIPW  2009-01-02  1.181447e+08\n",
      "\n",
      "[2850713 rows x 4 columns]\n"
     ]
    }
   ],
   "source": [
    "# url = (\"https://financialmodelingprep.com/api/v3/historical-market-capitalization/AAPL?&from=2004-10-10&to=2009-08-29&apikey=hT0gAk87j9xZx4vgV\")\n",
    "# raw = get_jsonparsed_data(url)\n",
    "\n",
    "\n",
    "import urllib.parse\n",
    "import requests\n",
    "import pandas as pd\n",
    "from tqdm import tqdm\n",
    "\n",
    "# API 호출을 위한 함수 정의\n",
    "def get_jsonparsed_data(url):\n",
    "    response = requests.get(url)\n",
    "    return response.json()\n",
    "\n",
    "# 기간을 조정하려면 시작 날짜와 종료 날짜를 지정합니다.\n",
    "start_date = \"2009-01-01\"\n",
    "end_date = \"2013-12-31\"\n",
    "apikey = \"hT0gAk87j9xZx4PlBApvBqfVL5IahvgV\"\n",
    "\n",
    "# tic_list = [\"AAPL\", \"MSFT\", \"GOOGL\"]  # 예시로 사용할 ticker 리스트\n",
    "\n",
    "prc_list = []\n",
    "prc_error_list = []\n",
    "\n",
    "for tick in tqdm(tic_list):\n",
    "\n",
    "    try:\n",
    "        # URL을 구성합니다.\n",
    "        base_url = f\"https://financialmodelingprep.com/api/v3/historical-market-capitalization/{tick}\"\n",
    "        query_parameters = {\n",
    "            \"from\": start_date,\n",
    "            \"to\": end_date,\n",
    "            \"apikey\": apikey\n",
    "        }\n",
    "\n",
    "        # URL 인코딩을 사용하여 전체 URL을 만듭니다.\n",
    "        url = f\"{base_url}?{urllib.parse.urlencode(query_parameters)}\"\n",
    "        json_data = get_jsonparsed_data(url)\n",
    "\n",
    "        # json_data가 리스트 형태로 반환되는 경우를 처리합니다.\n",
    "        if isinstance(json_data, list):\n",
    "            df = pd.DataFrame(json_data)\n",
    "            df['ticker'] = tick\n",
    "            prc_list.append(df)\n",
    "        else:\n",
    "            prc_error_list.append(tick)\n",
    "            print(f\"No data or unexpected format for {tick}\")\n",
    "\n",
    "    except Exception as e:\n",
    "        prc_error_list.append(tick)\n",
    "        print(f\"Error processing {tick}: {e}\")\n",
    "\n",
    "# 결과를 하나의 DataFrame으로 병합합니다.\n",
    "if prc_list:\n",
    "    final_df = pd.concat(prc_list, ignore_index=True)\n",
    "    print(final_df)\n",
    "else:\n",
    "    print(\"No data was retrieved.\")"
   ]
  },
  {
   "cell_type": "code",
   "execution_count": null,
   "metadata": {
    "id": "xFolDhSzXw38"
   },
   "outputs": [],
   "source": [
    "final_df.to_csv('/content/drive/MyDrive/Stock_Investment_Strategy/Factor_Model/Data/US_stock_prc/market_cap_2013.csv')"
   ]
  },
  {
   "cell_type": "code",
   "execution_count": null,
   "metadata": {
    "colab": {
     "base_uri": "https://localhost:8080/"
    },
    "executionInfo": {
     "elapsed": 2135577,
     "status": "ok",
     "timestamp": 1725065730133,
     "user": {
      "displayName": "Ho Park",
      "userId": "14742942739379475374"
     },
     "user_tz": -540
    },
    "id": "4DLZeDUJyWWI",
    "outputId": "4782256d-b0f2-4014-cd20-f7ad8caa9fd8"
   },
   "outputs": [
    {
     "name": "stderr",
     "output_type": "stream",
     "text": [
      "100%|██████████| 5808/5808 [35:33<00:00,  2.72it/s]\n"
     ]
    },
    {
     "name": "stdout",
     "output_type": "stream",
     "text": [
      "        symbol        date     marketCap ticker\n",
      "0         BABA  2018-12-31  3.530923e+11   BABA\n",
      "1         BABA  2018-12-28  3.582958e+11   BABA\n",
      "2         BABA  2018-12-27  3.566472e+11   BABA\n",
      "3         BABA  2018-12-26  3.554880e+11   BABA\n",
      "4         BABA  2018-12-24  3.397486e+11   BABA\n",
      "...        ...         ...           ...    ...\n",
      "3733756   UNVR  2015-06-23  2.776860e+09   UNVR\n",
      "3733757   UNVR  2015-06-22  2.751149e+09   UNVR\n",
      "3733758   UNVR  2015-06-19  2.802572e+09   UNVR\n",
      "3733759   UNVR  2015-06-18  2.612306e+09   UNVR\n",
      "3733760   UNVR  2015-06-17  2.262627e+09   UNVR\n",
      "\n",
      "[3733761 rows x 4 columns]\n"
     ]
    }
   ],
   "source": [
    "import urllib.parse\n",
    "import requests\n",
    "import pandas as pd\n",
    "from tqdm import tqdm\n",
    "\n",
    "\n",
    "# API 호출을 위한 함수 정의\n",
    "def get_jsonparsed_data(url):\n",
    "    response = requests.get(url)\n",
    "    return response.json()\n",
    "\n",
    "\n",
    "# 기간을 조정하려면 시작 날짜와 종료 날짜를 지정합니다.\n",
    "start_date = \"2014-01-01\"\n",
    "end_date = \"2018-12-31\"\n",
    "apikey = \"hT0gAk87j9xZx4PlBApvBqfVL5IahvgV\"\n",
    "\n",
    "# tic_list = [\"AAPL\", \"MSFT\", \"GOOGL\"]  # 예시로 사용할 ticker 리스트\n",
    "\n",
    "prc_list = []\n",
    "prc_error_list = []\n",
    "\n",
    "for tick in tqdm(tic_list):\n",
    "\n",
    "    try:\n",
    "        # URL을 구성합니다.\n",
    "        base_url = f\"https://financialmodelingprep.com/api/v3/historical-market-capitalization/{tick}\"\n",
    "        query_parameters = {\n",
    "            \"from\": start_date,\n",
    "            \"to\": end_date,\n",
    "            \"apikey\": apikey\n",
    "        }\n",
    "\n",
    "        # URL 인코딩을 사용하여 전체 URL을 만듭니다.\n",
    "        url = f\"{base_url}?{urllib.parse.urlencode(query_parameters)}\"\n",
    "        json_data = get_jsonparsed_data(url)\n",
    "\n",
    "        # json_data가 리스트 형태로 반환되는 경우를 처리합니다.\n",
    "        if isinstance(json_data, list):\n",
    "            df = pd.DataFrame(json_data)\n",
    "            df['ticker'] = tick\n",
    "            prc_list.append(df)\n",
    "        else:\n",
    "            prc_error_list.append(tick)\n",
    "            print(f\"No data or unexpected format for {tick}\")\n",
    "\n",
    "    except Exception as e:\n",
    "        prc_error_list.append(tick)\n",
    "        print(f\"Error processing {tick}: {e}\")\n",
    "\n",
    "# 결과를 하나의 DataFrame으로 병합합니다.\n",
    "if prc_list:\n",
    "    final_df = pd.concat(prc_list, ignore_index=True)\n",
    "    print(final_df)\n",
    "else:\n",
    "    print(\"No data was retrieved.\")"
   ]
  },
  {
   "cell_type": "code",
   "execution_count": null,
   "metadata": {
    "id": "SJVP2MBQyWdP"
   },
   "outputs": [],
   "source": [
    "final_df.to_csv('/content/drive/MyDrive/Stock_Investment_Strategy/Factor_Model/Data/US_stock_prc/market_cap_2018.csv')\n"
   ]
  },
  {
   "cell_type": "code",
   "execution_count": null,
   "metadata": {
    "colab": {
     "base_uri": "https://localhost:8080/"
    },
    "executionInfo": {
     "elapsed": 2058313,
     "status": "ok",
     "timestamp": 1725067803716,
     "user": {
      "displayName": "Ho Park",
      "userId": "14742942739379475374"
     },
     "user_tz": -540
    },
    "id": "O5IABudzyWgJ",
    "outputId": "87d09ccd-3e7e-4d61-b85b-ac3b7f21168e"
   },
   "outputs": [
    {
     "name": "stderr",
     "output_type": "stream",
     "text": [
      "100%|██████████| 5808/5808 [33:55<00:00,  2.85it/s]\n"
     ]
    },
    {
     "name": "stdout",
     "output_type": "stream",
     "text": [
      "        symbol        date     marketCap ticker\n",
      "0         BABA  2023-12-29  1.951120e+11   BABA\n",
      "1         BABA  2023-12-28  1.944324e+11   BABA\n",
      "2         BABA  2023-12-27  1.915879e+11   BABA\n",
      "3         BABA  2023-12-26  1.909334e+11   BABA\n",
      "4         BABA  2023-12-22  1.894986e+11   BABA\n",
      "...        ...         ...           ...    ...\n",
      "5505237   UNVR  2019-01-08  2.931780e+09   UNVR\n",
      "5505238   UNVR  2019-01-07  2.857180e+09   UNVR\n",
      "5505239   UNVR  2019-01-04  2.758708e+09   UNVR\n",
      "5505240   UNVR  2019-01-03  2.615476e+09   UNVR\n",
      "5505241   UNVR  2019-01-02  2.655760e+09   UNVR\n",
      "\n",
      "[5505242 rows x 4 columns]\n"
     ]
    }
   ],
   "source": [
    "# 기간을 조정하려면 시작 날짜와 종료 날짜를 지정합니다.\n",
    "start_date = \"2019-01-01\"\n",
    "end_date = \"2023-12-31\"\n",
    "apikey = \"hT0gAk87j9xZx4PlBApvBqfVL5IahvgV\"\n",
    "\n",
    "# tic_list = [\"AAPL\", \"MSFT\", \"GOOGL\"]  # 예시로 사용할 ticker 리스트\n",
    "\n",
    "prc_list = []\n",
    "prc_error_list = []\n",
    "\n",
    "for tick in tqdm(tic_list):\n",
    "\n",
    "    try:\n",
    "        # URL을 구성합니다.\n",
    "        base_url = f\"https://financialmodelingprep.com/api/v3/historical-market-capitalization/{tick}\"\n",
    "        query_parameters = {\n",
    "            \"from\": start_date,\n",
    "            \"to\": end_date,\n",
    "            \"apikey\": apikey\n",
    "        }\n",
    "\n",
    "        # URL 인코딩을 사용하여 전체 URL을 만듭니다.\n",
    "        url = f\"{base_url}?{urllib.parse.urlencode(query_parameters)}\"\n",
    "        json_data = get_jsonparsed_data(url)\n",
    "\n",
    "        # json_data가 리스트 형태로 반환되는 경우를 처리합니다.\n",
    "        if isinstance(json_data, list):\n",
    "            df = pd.DataFrame(json_data)\n",
    "            df['ticker'] = tick\n",
    "            prc_list.append(df)\n",
    "        else:\n",
    "            prc_error_list.append(tick)\n",
    "            print(f\"No data or unexpected format for {tick}\")\n",
    "\n",
    "    except Exception as e:\n",
    "        prc_error_list.append(tick)\n",
    "        print(f\"Error processing {tick}: {e}\")\n",
    "\n",
    "# 결과를 하나의 DataFrame으로 병합합니다.\n",
    "if prc_list:\n",
    "    final_df = pd.concat(prc_list, ignore_index=True)\n",
    "    print(final_df)\n",
    "else:\n",
    "    print(\"No data was retrieved.\")\n",
    "\n",
    "final_df.to_csv('/content/drive/MyDrive/Stock_Investment_Strategy/Factor_Model/Data/US_stock_prc/market_cap_2023.csv')"
   ]
  },
  {
   "cell_type": "code",
   "execution_count": null,
   "metadata": {
    "colab": {
     "base_uri": "https://localhost:8080/"
    },
    "executionInfo": {
     "elapsed": 1934789,
     "status": "ok",
     "timestamp": 1725069738494,
     "user": {
      "displayName": "Ho Park",
      "userId": "14742942739379475374"
     },
     "user_tz": -540
    },
    "id": "SzS8_XVcyWjE",
    "outputId": "1f6183f0-b63d-47cd-ead4-62b1ec0bfe5c"
   },
   "outputs": [
    {
     "name": "stderr",
     "output_type": "stream",
     "text": [
      "100%|██████████| 5808/5808 [32:10<00:00,  3.01it/s]\n"
     ]
    },
    {
     "name": "stdout",
     "output_type": "stream",
     "text": [
      "       symbol        date     marketCap ticker\n",
      "0        BABA  2024-08-30  2.299231e+11   BABA\n",
      "1        BABA  2024-08-29  2.236299e+11   BABA\n",
      "2        BABA  2024-08-28  2.197656e+11   BABA\n",
      "3        BABA  2024-08-27  2.248168e+11   BABA\n",
      "4        BABA  2024-08-26  2.256724e+11   BABA\n",
      "...       ...         ...           ...    ...\n",
      "811098  SHIPW  2024-01-08  1.391793e+08  SHIPW\n",
      "811099  SHIPW  2024-01-05  1.536494e+08  SHIPW\n",
      "811100  SHIPW  2024-01-04  1.515550e+08  SHIPW\n",
      "811101  SHIPW  2024-01-03  1.475567e+08  SHIPW\n",
      "811102  SHIPW  2024-01-02  1.443200e+08  SHIPW\n",
      "\n",
      "[811103 rows x 4 columns]\n"
     ]
    }
   ],
   "source": [
    "# 기간을 조정하려면 시작 날짜와 종료 날짜를 지정합니다.\n",
    "start_date = \"2024-01-01\"\n",
    "end_date = \"2024-08-30\"\n",
    "apikey = \"hT0gAk87j9xZx4PlBApvBqfVL5IahvgV\"\n",
    "\n",
    "# tic_list = [\"AAPL\", \"MSFT\", \"GOOGL\"]  # 예시로 사용할 ticker 리스트\n",
    "\n",
    "prc_list = []\n",
    "prc_error_list = []\n",
    "\n",
    "for tick in tqdm(tic_list):\n",
    "\n",
    "    try:\n",
    "        # URL을 구성합니다.\n",
    "        base_url = f\"https://financialmodelingprep.com/api/v3/historical-market-capitalization/{tick}\"\n",
    "        query_parameters = {\n",
    "            \"from\": start_date,\n",
    "            \"to\": end_date,\n",
    "            \"apikey\": apikey\n",
    "        }\n",
    "\n",
    "        # URL 인코딩을 사용하여 전체 URL을 만듭니다.\n",
    "        url = f\"{base_url}?{urllib.parse.urlencode(query_parameters)}\"\n",
    "        json_data = get_jsonparsed_data(url)\n",
    "\n",
    "        # json_data가 리스트 형태로 반환되는 경우를 처리합니다.\n",
    "        if isinstance(json_data, list):\n",
    "            df = pd.DataFrame(json_data)\n",
    "            df['ticker'] = tick\n",
    "            prc_list.append(df)\n",
    "        else:\n",
    "            prc_error_list.append(tick)\n",
    "            print(f\"No data or unexpected format for {tick}\")\n",
    "\n",
    "    except Exception as e:\n",
    "        prc_error_list.append(tick)\n",
    "        print(f\"Error processing {tick}: {e}\")\n",
    "\n",
    "# 결과를 하나의 DataFrame으로 병합합니다.\n",
    "if prc_list:\n",
    "    final_df = pd.concat(prc_list, ignore_index=True)\n",
    "    print(final_df)\n",
    "else:\n",
    "    print(\"No data was retrieved.\")\n",
    "\n",
    "final_df.to_csv('/content/drive/MyDrive/Stock_Investment_Strategy/Factor_Model/Data/US_stock_prc/market_cap_202408.csv')"
   ]
  },
  {
   "cell_type": "code",
   "execution_count": null,
   "metadata": {
    "id": "AhuEWWYWXw_0"
   },
   "outputs": [],
   "source": [
    "### 데이터 통합 결합 후 다시 저장\n",
    "\n",
    "mk_df1 = pd.read_csv('/content/drive/MyDrive/Stock_Investment_Strategy/Factor_Model/Data/US_stock_prc/market_cap_2008.csv')\n",
    "mk_df2 = pd.read_csv('/content/drive/MyDrive/Stock_Investment_Strategy/Factor_Model/Data/US_stock_prc/market_cap_2013.csv')\n",
    "mk_df3 = pd.read_csv('/content/drive/MyDrive/Stock_Investment_Strategy/Factor_Model/Data/US_stock_prc/market_cap_2018.csv')\n",
    "mk_df4 = pd.read_csv('/content/drive/MyDrive/Stock_Investment_Strategy/Factor_Model/Data/US_stock_prc/market_cap_2023.csv')\n",
    "mk_df5 = pd.read_csv('/content/drive/MyDrive/Stock_Investment_Strategy/Factor_Model/Data/US_stock_prc/market_cap_202408.csv')"
   ]
  },
  {
   "cell_type": "code",
   "execution_count": null,
   "metadata": {
    "id": "N-v228O5qB69"
   },
   "outputs": [],
   "source": [
    "concated_mkt_data = pd.concat([mk_df1, mk_df2, mk_df3, mk_df4, mk_df5])"
   ]
  },
  {
   "cell_type": "code",
   "execution_count": null,
   "metadata": {
    "id": "w8H-4nXJw2Dt"
   },
   "outputs": [],
   "source": [
    "concated_mkt_data['date'] =  pd.to_datetime(concated_mkt_data['date'])\n",
    "concated_mkt_data['edate'] = concated_mkt_data['date'] + pd.offsets.MonthEnd(0)\n",
    "mkt_data_us = concated_mkt_data[['edate', 'ticker', 'marketCap']]\n",
    "mkt_data_us.to_csv('/content/drive/MyDrive/Stock_Investment_Strategy/Factor_Model/Data/US_stock_prc/market_cap_all.csv')"
   ]
  },
  {
   "cell_type": "code",
   "execution_count": null,
   "metadata": {
    "id": "qBjDK_eD0f12"
   },
   "outputs": [],
   "source": []
  },
  {
   "cell_type": "code",
   "execution_count": null,
   "metadata": {
    "id": "VLJ8k5Fr0f4t"
   },
   "outputs": [],
   "source": []
  },
  {
   "cell_type": "code",
   "execution_count": null,
   "metadata": {
    "id": "KCsHmGCo0f7S"
   },
   "outputs": [],
   "source": []
  },
  {
   "cell_type": "code",
   "execution_count": null,
   "metadata": {
    "id": "mEZyP5ap0f9v"
   },
   "outputs": [],
   "source": []
  },
  {
   "cell_type": "code",
   "execution_count": null,
   "metadata": {
    "colab": {
     "base_uri": "https://localhost:8080/",
     "height": 423
    },
    "executionInfo": {
     "elapsed": 418,
     "status": "ok",
     "timestamp": 1725114881300,
     "user": {
      "displayName": "Ho Park",
      "userId": "14742942739379475374"
     },
     "user_tz": -540
    },
    "id": "KKiMKY4vqB93",
    "outputId": "b9333670-3014-4f9b-f595-df07b69508f7"
   },
   "outputs": [
    {
     "data": {
      "application/vnd.google.colaboratory.intrinsic+json": {
       "type": "dataframe",
       "variable_name": "mkt_data_us"
      },
      "text/html": [
       "\n",
       "  <div id=\"df-b0e5f773-8043-4819-918c-73d7757b20f6\" class=\"colab-df-container\">\n",
       "    <div>\n",
       "<style scoped>\n",
       "    .dataframe tbody tr th:only-of-type {\n",
       "        vertical-align: middle;\n",
       "    }\n",
       "\n",
       "    .dataframe tbody tr th {\n",
       "        vertical-align: top;\n",
       "    }\n",
       "\n",
       "    .dataframe thead th {\n",
       "        text-align: right;\n",
       "    }\n",
       "</style>\n",
       "<table border=\"1\" class=\"dataframe\">\n",
       "  <thead>\n",
       "    <tr style=\"text-align: right;\">\n",
       "      <th></th>\n",
       "      <th>edate</th>\n",
       "      <th>ticker</th>\n",
       "      <th>marketCap</th>\n",
       "    </tr>\n",
       "  </thead>\n",
       "  <tbody>\n",
       "    <tr>\n",
       "      <th>0</th>\n",
       "      <td>2008-12-31</td>\n",
       "      <td>ORCL</td>\n",
       "      <td>8.873865e+10</td>\n",
       "    </tr>\n",
       "    <tr>\n",
       "      <th>1</th>\n",
       "      <td>2008-12-31</td>\n",
       "      <td>ORCL</td>\n",
       "      <td>8.923915e+10</td>\n",
       "    </tr>\n",
       "    <tr>\n",
       "      <th>2</th>\n",
       "      <td>2008-12-31</td>\n",
       "      <td>ORCL</td>\n",
       "      <td>8.618610e+10</td>\n",
       "    </tr>\n",
       "    <tr>\n",
       "      <th>3</th>\n",
       "      <td>2008-12-31</td>\n",
       "      <td>ORCL</td>\n",
       "      <td>8.723715e+10</td>\n",
       "    </tr>\n",
       "    <tr>\n",
       "      <th>4</th>\n",
       "      <td>2008-12-31</td>\n",
       "      <td>ORCL</td>\n",
       "      <td>8.668660e+10</td>\n",
       "    </tr>\n",
       "    <tr>\n",
       "      <th>...</th>\n",
       "      <td>...</td>\n",
       "      <td>...</td>\n",
       "      <td>...</td>\n",
       "    </tr>\n",
       "    <tr>\n",
       "      <th>811098</th>\n",
       "      <td>2024-01-31</td>\n",
       "      <td>SHIPW</td>\n",
       "      <td>1.391793e+08</td>\n",
       "    </tr>\n",
       "    <tr>\n",
       "      <th>811099</th>\n",
       "      <td>2024-01-31</td>\n",
       "      <td>SHIPW</td>\n",
       "      <td>1.536494e+08</td>\n",
       "    </tr>\n",
       "    <tr>\n",
       "      <th>811100</th>\n",
       "      <td>2024-01-31</td>\n",
       "      <td>SHIPW</td>\n",
       "      <td>1.515550e+08</td>\n",
       "    </tr>\n",
       "    <tr>\n",
       "      <th>811101</th>\n",
       "      <td>2024-01-31</td>\n",
       "      <td>SHIPW</td>\n",
       "      <td>1.475567e+08</td>\n",
       "    </tr>\n",
       "    <tr>\n",
       "      <th>811102</th>\n",
       "      <td>2024-01-31</td>\n",
       "      <td>SHIPW</td>\n",
       "      <td>1.443200e+08</td>\n",
       "    </tr>\n",
       "  </tbody>\n",
       "</table>\n",
       "<p>15237548 rows × 3 columns</p>\n",
       "</div>\n",
       "    <div class=\"colab-df-buttons\">\n",
       "\n",
       "  <div class=\"colab-df-container\">\n",
       "    <button class=\"colab-df-convert\" onclick=\"convertToInteractive('df-b0e5f773-8043-4819-918c-73d7757b20f6')\"\n",
       "            title=\"Convert this dataframe to an interactive table.\"\n",
       "            style=\"display:none;\">\n",
       "\n",
       "  <svg xmlns=\"http://www.w3.org/2000/svg\" height=\"24px\" viewBox=\"0 -960 960 960\">\n",
       "    <path d=\"M120-120v-720h720v720H120Zm60-500h600v-160H180v160Zm220 220h160v-160H400v160Zm0 220h160v-160H400v160ZM180-400h160v-160H180v160Zm440 0h160v-160H620v160ZM180-180h160v-160H180v160Zm440 0h160v-160H620v160Z\"/>\n",
       "  </svg>\n",
       "    </button>\n",
       "\n",
       "  <style>\n",
       "    .colab-df-container {\n",
       "      display:flex;\n",
       "      gap: 12px;\n",
       "    }\n",
       "\n",
       "    .colab-df-convert {\n",
       "      background-color: #E8F0FE;\n",
       "      border: none;\n",
       "      border-radius: 50%;\n",
       "      cursor: pointer;\n",
       "      display: none;\n",
       "      fill: #1967D2;\n",
       "      height: 32px;\n",
       "      padding: 0 0 0 0;\n",
       "      width: 32px;\n",
       "    }\n",
       "\n",
       "    .colab-df-convert:hover {\n",
       "      background-color: #E2EBFA;\n",
       "      box-shadow: 0px 1px 2px rgba(60, 64, 67, 0.3), 0px 1px 3px 1px rgba(60, 64, 67, 0.15);\n",
       "      fill: #174EA6;\n",
       "    }\n",
       "\n",
       "    .colab-df-buttons div {\n",
       "      margin-bottom: 4px;\n",
       "    }\n",
       "\n",
       "    [theme=dark] .colab-df-convert {\n",
       "      background-color: #3B4455;\n",
       "      fill: #D2E3FC;\n",
       "    }\n",
       "\n",
       "    [theme=dark] .colab-df-convert:hover {\n",
       "      background-color: #434B5C;\n",
       "      box-shadow: 0px 1px 3px 1px rgba(0, 0, 0, 0.15);\n",
       "      filter: drop-shadow(0px 1px 2px rgba(0, 0, 0, 0.3));\n",
       "      fill: #FFFFFF;\n",
       "    }\n",
       "  </style>\n",
       "\n",
       "    <script>\n",
       "      const buttonEl =\n",
       "        document.querySelector('#df-b0e5f773-8043-4819-918c-73d7757b20f6 button.colab-df-convert');\n",
       "      buttonEl.style.display =\n",
       "        google.colab.kernel.accessAllowed ? 'block' : 'none';\n",
       "\n",
       "      async function convertToInteractive(key) {\n",
       "        const element = document.querySelector('#df-b0e5f773-8043-4819-918c-73d7757b20f6');\n",
       "        const dataTable =\n",
       "          await google.colab.kernel.invokeFunction('convertToInteractive',\n",
       "                                                    [key], {});\n",
       "        if (!dataTable) return;\n",
       "\n",
       "        const docLinkHtml = 'Like what you see? Visit the ' +\n",
       "          '<a target=\"_blank\" href=https://colab.research.google.com/notebooks/data_table.ipynb>data table notebook</a>'\n",
       "          + ' to learn more about interactive tables.';\n",
       "        element.innerHTML = '';\n",
       "        dataTable['output_type'] = 'display_data';\n",
       "        await google.colab.output.renderOutput(dataTable, element);\n",
       "        const docLink = document.createElement('div');\n",
       "        docLink.innerHTML = docLinkHtml;\n",
       "        element.appendChild(docLink);\n",
       "      }\n",
       "    </script>\n",
       "  </div>\n",
       "\n",
       "\n",
       "<div id=\"df-839aade1-6410-4a56-bcf9-788f10848137\">\n",
       "  <button class=\"colab-df-quickchart\" onclick=\"quickchart('df-839aade1-6410-4a56-bcf9-788f10848137')\"\n",
       "            title=\"Suggest charts\"\n",
       "            style=\"display:none;\">\n",
       "\n",
       "<svg xmlns=\"http://www.w3.org/2000/svg\" height=\"24px\"viewBox=\"0 0 24 24\"\n",
       "     width=\"24px\">\n",
       "    <g>\n",
       "        <path d=\"M19 3H5c-1.1 0-2 .9-2 2v14c0 1.1.9 2 2 2h14c1.1 0 2-.9 2-2V5c0-1.1-.9-2-2-2zM9 17H7v-7h2v7zm4 0h-2V7h2v10zm4 0h-2v-4h2v4z\"/>\n",
       "    </g>\n",
       "</svg>\n",
       "  </button>\n",
       "\n",
       "<style>\n",
       "  .colab-df-quickchart {\n",
       "      --bg-color: #E8F0FE;\n",
       "      --fill-color: #1967D2;\n",
       "      --hover-bg-color: #E2EBFA;\n",
       "      --hover-fill-color: #174EA6;\n",
       "      --disabled-fill-color: #AAA;\n",
       "      --disabled-bg-color: #DDD;\n",
       "  }\n",
       "\n",
       "  [theme=dark] .colab-df-quickchart {\n",
       "      --bg-color: #3B4455;\n",
       "      --fill-color: #D2E3FC;\n",
       "      --hover-bg-color: #434B5C;\n",
       "      --hover-fill-color: #FFFFFF;\n",
       "      --disabled-bg-color: #3B4455;\n",
       "      --disabled-fill-color: #666;\n",
       "  }\n",
       "\n",
       "  .colab-df-quickchart {\n",
       "    background-color: var(--bg-color);\n",
       "    border: none;\n",
       "    border-radius: 50%;\n",
       "    cursor: pointer;\n",
       "    display: none;\n",
       "    fill: var(--fill-color);\n",
       "    height: 32px;\n",
       "    padding: 0;\n",
       "    width: 32px;\n",
       "  }\n",
       "\n",
       "  .colab-df-quickchart:hover {\n",
       "    background-color: var(--hover-bg-color);\n",
       "    box-shadow: 0 1px 2px rgba(60, 64, 67, 0.3), 0 1px 3px 1px rgba(60, 64, 67, 0.15);\n",
       "    fill: var(--button-hover-fill-color);\n",
       "  }\n",
       "\n",
       "  .colab-df-quickchart-complete:disabled,\n",
       "  .colab-df-quickchart-complete:disabled:hover {\n",
       "    background-color: var(--disabled-bg-color);\n",
       "    fill: var(--disabled-fill-color);\n",
       "    box-shadow: none;\n",
       "  }\n",
       "\n",
       "  .colab-df-spinner {\n",
       "    border: 2px solid var(--fill-color);\n",
       "    border-color: transparent;\n",
       "    border-bottom-color: var(--fill-color);\n",
       "    animation:\n",
       "      spin 1s steps(1) infinite;\n",
       "  }\n",
       "\n",
       "  @keyframes spin {\n",
       "    0% {\n",
       "      border-color: transparent;\n",
       "      border-bottom-color: var(--fill-color);\n",
       "      border-left-color: var(--fill-color);\n",
       "    }\n",
       "    20% {\n",
       "      border-color: transparent;\n",
       "      border-left-color: var(--fill-color);\n",
       "      border-top-color: var(--fill-color);\n",
       "    }\n",
       "    30% {\n",
       "      border-color: transparent;\n",
       "      border-left-color: var(--fill-color);\n",
       "      border-top-color: var(--fill-color);\n",
       "      border-right-color: var(--fill-color);\n",
       "    }\n",
       "    40% {\n",
       "      border-color: transparent;\n",
       "      border-right-color: var(--fill-color);\n",
       "      border-top-color: var(--fill-color);\n",
       "    }\n",
       "    60% {\n",
       "      border-color: transparent;\n",
       "      border-right-color: var(--fill-color);\n",
       "    }\n",
       "    80% {\n",
       "      border-color: transparent;\n",
       "      border-right-color: var(--fill-color);\n",
       "      border-bottom-color: var(--fill-color);\n",
       "    }\n",
       "    90% {\n",
       "      border-color: transparent;\n",
       "      border-bottom-color: var(--fill-color);\n",
       "    }\n",
       "  }\n",
       "</style>\n",
       "\n",
       "  <script>\n",
       "    async function quickchart(key) {\n",
       "      const quickchartButtonEl =\n",
       "        document.querySelector('#' + key + ' button');\n",
       "      quickchartButtonEl.disabled = true;  // To prevent multiple clicks.\n",
       "      quickchartButtonEl.classList.add('colab-df-spinner');\n",
       "      try {\n",
       "        const charts = await google.colab.kernel.invokeFunction(\n",
       "            'suggestCharts', [key], {});\n",
       "      } catch (error) {\n",
       "        console.error('Error during call to suggestCharts:', error);\n",
       "      }\n",
       "      quickchartButtonEl.classList.remove('colab-df-spinner');\n",
       "      quickchartButtonEl.classList.add('colab-df-quickchart-complete');\n",
       "    }\n",
       "    (() => {\n",
       "      let quickchartButtonEl =\n",
       "        document.querySelector('#df-839aade1-6410-4a56-bcf9-788f10848137 button');\n",
       "      quickchartButtonEl.style.display =\n",
       "        google.colab.kernel.accessAllowed ? 'block' : 'none';\n",
       "    })();\n",
       "  </script>\n",
       "</div>\n",
       "\n",
       "  <div id=\"id_ae8b1ce1-d79d-4a7d-92c1-c369033bd597\">\n",
       "    <style>\n",
       "      .colab-df-generate {\n",
       "        background-color: #E8F0FE;\n",
       "        border: none;\n",
       "        border-radius: 50%;\n",
       "        cursor: pointer;\n",
       "        display: none;\n",
       "        fill: #1967D2;\n",
       "        height: 32px;\n",
       "        padding: 0 0 0 0;\n",
       "        width: 32px;\n",
       "      }\n",
       "\n",
       "      .colab-df-generate:hover {\n",
       "        background-color: #E2EBFA;\n",
       "        box-shadow: 0px 1px 2px rgba(60, 64, 67, 0.3), 0px 1px 3px 1px rgba(60, 64, 67, 0.15);\n",
       "        fill: #174EA6;\n",
       "      }\n",
       "\n",
       "      [theme=dark] .colab-df-generate {\n",
       "        background-color: #3B4455;\n",
       "        fill: #D2E3FC;\n",
       "      }\n",
       "\n",
       "      [theme=dark] .colab-df-generate:hover {\n",
       "        background-color: #434B5C;\n",
       "        box-shadow: 0px 1px 3px 1px rgba(0, 0, 0, 0.15);\n",
       "        filter: drop-shadow(0px 1px 2px rgba(0, 0, 0, 0.3));\n",
       "        fill: #FFFFFF;\n",
       "      }\n",
       "    </style>\n",
       "    <button class=\"colab-df-generate\" onclick=\"generateWithVariable('mkt_data_us')\"\n",
       "            title=\"Generate code using this dataframe.\"\n",
       "            style=\"display:none;\">\n",
       "\n",
       "  <svg xmlns=\"http://www.w3.org/2000/svg\" height=\"24px\"viewBox=\"0 0 24 24\"\n",
       "       width=\"24px\">\n",
       "    <path d=\"M7,19H8.4L18.45,9,17,7.55,7,17.6ZM5,21V16.75L18.45,3.32a2,2,0,0,1,2.83,0l1.4,1.43a1.91,1.91,0,0,1,.58,1.4,1.91,1.91,0,0,1-.58,1.4L9.25,21ZM18.45,9,17,7.55Zm-12,3A5.31,5.31,0,0,0,4.9,8.1,5.31,5.31,0,0,0,1,6.5,5.31,5.31,0,0,0,4.9,4.9,5.31,5.31,0,0,0,6.5,1,5.31,5.31,0,0,0,8.1,4.9,5.31,5.31,0,0,0,12,6.5,5.46,5.46,0,0,0,6.5,12Z\"/>\n",
       "  </svg>\n",
       "    </button>\n",
       "    <script>\n",
       "      (() => {\n",
       "      const buttonEl =\n",
       "        document.querySelector('#id_ae8b1ce1-d79d-4a7d-92c1-c369033bd597 button.colab-df-generate');\n",
       "      buttonEl.style.display =\n",
       "        google.colab.kernel.accessAllowed ? 'block' : 'none';\n",
       "\n",
       "      buttonEl.onclick = () => {\n",
       "        google.colab.notebook.generateWithVariable('mkt_data_us');\n",
       "      }\n",
       "      })();\n",
       "    </script>\n",
       "  </div>\n",
       "\n",
       "    </div>\n",
       "  </div>\n"
      ],
      "text/plain": [
       "            edate ticker     marketCap\n",
       "0      2008-12-31   ORCL  8.873865e+10\n",
       "1      2008-12-31   ORCL  8.923915e+10\n",
       "2      2008-12-31   ORCL  8.618610e+10\n",
       "3      2008-12-31   ORCL  8.723715e+10\n",
       "4      2008-12-31   ORCL  8.668660e+10\n",
       "...           ...    ...           ...\n",
       "811098 2024-01-31  SHIPW  1.391793e+08\n",
       "811099 2024-01-31  SHIPW  1.536494e+08\n",
       "811100 2024-01-31  SHIPW  1.515550e+08\n",
       "811101 2024-01-31  SHIPW  1.475567e+08\n",
       "811102 2024-01-31  SHIPW  1.443200e+08\n",
       "\n",
       "[15237548 rows x 3 columns]"
      ]
     },
     "execution_count": 31,
     "metadata": {},
     "output_type": "execute_result"
    }
   ],
   "source": [
    "\n",
    "mkt_data_us"
   ]
  },
  {
   "cell_type": "code",
   "execution_count": null,
   "metadata": {
    "colab": {
     "base_uri": "https://localhost:8080/"
    },
    "executionInfo": {
     "elapsed": 415,
     "status": "ok",
     "timestamp": 1725113190844,
     "user": {
      "displayName": "Ho Park",
      "userId": "14742942739379475374"
     },
     "user_tz": -540
    },
    "id": "dO3xmpCmvsM5",
    "outputId": "fc99c4ee-2d9f-4665-ec1e-c913a6b66b4d"
   },
   "outputs": [
    {
     "data": {
      "text/plain": [
       "248"
      ]
     },
     "execution_count": 26,
     "metadata": {},
     "output_type": "execute_result"
    }
   ],
   "source": [
    "len(pd.date_range('2004-01-31', '2024-08-31', freq='M'))"
   ]
  },
  {
   "cell_type": "code",
   "execution_count": null,
   "metadata": {
    "id": "RiBsscxEv57R"
   },
   "outputs": [],
   "source": [
    "# 기간을 조정하려면 시작 날짜와 종료 날짜를 지정합니다.\n",
    "start_date = \"2019-01-01\"\n",
    "end_date = \"2023-12-31\"\n",
    "apikey = \"hT0gAk87j9xZx4PlBApvBqfVL5IahvgV\"\n",
    "\n",
    "# tic_list = [\"AAPL\", \"MSFT\", \"GOOGL\"]  # 예시로 사용할 ticker 리스트\n",
    "\n",
    "prc_list = []\n",
    "prc_error_list = []\n",
    "\n",
    "for tick in tqdm(tic_list):\n",
    "\n",
    "    try:\n",
    "        # URL을 구성합니다.\n",
    "        base_url = f\"https://financialmodelingprep.com/api/v3/historical-market-capitalization/{tick}\"\n",
    "        query_parameters = {\n",
    "            \"from\": start_date,\n",
    "            \"to\": end_date,\n",
    "            \"apikey\": apikey\n",
    "        }\n",
    "\n",
    "        # URL 인코딩을 사용하여 전체 URL을 만듭니다.\n",
    "        url = f\"{base_url}?{urllib.parse.urlencode(query_parameters)}\"\n",
    "        json_data = get_jsonparsed_data(url)\n",
    "\n",
    "        # json_data가 리스트 형태로 반환되는 경우를 처리합니다.\n",
    "        if isinstance(json_data, list):\n",
    "            df = pd.DataFrame(json_data)\n",
    "            df['ticker'] = tick\n",
    "            prc_list.append(df)\n",
    "        else:\n",
    "            prc_error_list.append(tick)\n",
    "            print(f\"No data or unexpected format for {tick}\")\n",
    "\n",
    "    except Exception as e:\n",
    "        prc_error_list.append(tick)\n",
    "        print(f\"Error processing {tick}: {e}\")\n",
    "\n",
    "# 결과를 하나의 DataFrame으로 병합합니다.\n",
    "if prc_list:\n",
    "    final_df = pd.concat(prc_list, ignore_index=True)\n",
    "    print(final_df)\n",
    "else:\n",
    "    print(\"No data was retrieved.\")\n",
    "\n",
    "final_df.to_csv('/content/drive/MyDrive/Stock_Investment_Strategy/Factor_Model/Data/US_stock_prc/market_cap_2023.csv')"
   ]
  }
 ],
 "metadata": {
  "colab": {
   "provenance": [],
   "authorship_tag": "ABX9TyNBsqAfl9h87uiwRK3jQtY7"
  },
  "kernelspec": {
   "display_name": "Python 3",
   "name": "python3"
  },
  "language_info": {
   "name": "python"
  }
 },
 "nbformat": 4,
 "nbformat_minor": 0
}
