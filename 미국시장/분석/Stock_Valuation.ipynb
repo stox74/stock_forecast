{
 "cells": [
  {
   "metadata": {
    "ExecuteTime": {
     "end_time": "2025-06-02T15:56:44.294892Z",
     "start_time": "2025-06-02T15:56:43.468920Z"
    }
   },
   "cell_type": "code",
   "source": [
    "import pandas as pd\n",
    "import numpy as np\n",
    "import datetime as dt\n",
    "from fredapi import Fred\n",
    "#import chart_wizard2 as cw\n",
    "import matplotlib.pyplot as plt\n",
    "import openpyxl\n",
    "from datetime import date\n",
    "from datetime import datetime, timedelta"
   ],
   "id": "initial_id",
   "outputs": [],
   "execution_count": 10
  },
  {
   "metadata": {
    "ExecuteTime": {
     "end_time": "2025-06-02T15:59:50.776448Z",
     "start_time": "2025-06-02T15:59:44.392274Z"
    }
   },
   "cell_type": "code",
   "source": [
    "def get_feddata(data_list, start_date, end_date):\n",
    "    fred = Fred(api_key='5e679c4c2d59c2e2f2dd5b6807864f64')\n",
    "    df_list = []\n",
    "    for data_name in data_list:\n",
    "        temp = fred.get_series(data_name, start = start_date, end = end_date)\n",
    "        df_list.append(temp)\n",
    "    data_df = pd.concat(df_list, axis=1)\n",
    "    data_df.columns = data_list\n",
    "    data_df = data_df.loc[start_date:end_date]\n",
    "    data_df = data_df.ffill()\n",
    "    \n",
    "    return data_df\n",
    "\n",
    "\n",
    "start_date = '2019-01-01'\n",
    "end_date  = date.today()\n",
    "\n",
    "econ_data = get_feddata(['HSN1F', 'DGS10', 'T10Y2Y','BAMLH0A0HYM2', 'CPILFESL', 'CSUSHPINSA', 'WTISPLC'], start_date, end_date)"
   ],
   "id": "623258e19865123c",
   "outputs": [],
   "execution_count": 16
  },
  {
   "metadata": {
    "ExecuteTime": {
     "end_time": "2025-06-02T16:04:18.869629Z",
     "start_time": "2025-06-02T16:04:18.855629Z"
    }
   },
   "cell_type": "code",
   "source": [
    "T10Y_rate = econ_data.iloc[-1][['DGS10']].values[0]\n",
    "T10Y_rate"
   ],
   "id": "189b6f206a352b43",
   "outputs": [
    {
     "data": {
      "text/plain": [
       "4.43"
      ]
     },
     "execution_count": 24,
     "metadata": {},
     "output_type": "execute_result"
    }
   ],
   "execution_count": 24
  },
  {
   "metadata": {
    "ExecuteTime": {
     "end_time": "2025-06-02T16:09:44.250866Z",
     "start_time": "2025-06-02T16:09:39.608979Z"
    }
   },
   "cell_type": "code",
   "source": [
    "from tqdm import tqdm\n",
    "import requests\n",
    "\n",
    "# 수집할 티커 리스트\n",
    "tic_list = ['AAPL', 'MSFT', 'GOOGL']  # 예시 티커\n",
    "\n",
    "# API 키 설정\n",
    "api_key = \"hT0gAk87j9xZx4PlBApvBqfVL5IahvgV\"\n",
    "\n",
    "# 결과를 저장할 리스트\n",
    "metrics_list = []\n",
    "\n",
    "for tick in tqdm(tic_list):\n",
    "    try:\n",
    "        # Key Metrics 엔드포인트에서 PER 수집\n",
    "        key_metrics_url = f'https://financialmodelingprep.com/api/v3/key-metrics/{tick}?limit=1&apikey={api_key}'\n",
    "        key_metrics_response = requests.get(key_metrics_url)\n",
    "        key_metrics_data = key_metrics_response.json()\n",
    "\n",
    "        # Ratios 엔드포인트에서 PBR, ROIC, 배당성향 수집\n",
    "        ratios_url = f'https://financialmodelingprep.com/api/v3/ratios/{tick}?limit=1&apikey={api_key}'\n",
    "        ratios_response = requests.get(ratios_url)\n",
    "        ratios_data = ratios_response.json()\n",
    "\n",
    "        # 데이터가 존재하는지 확인\n",
    "        if key_metrics_data and ratios_data:\n",
    "            # 가장 최근 데이터 추출\n",
    "            key_metrics = key_metrics_data[0]\n",
    "            ratios = ratios_data[0]\n",
    "\n",
    "            # 필요한 지표 추출\n",
    "            per = key_metrics.get('peRatioTTM')\n",
    "            pbr = ratios.get('priceToBookRatio')\n",
    "            roic = ratios.get('returnOnInvestedCapital')\n",
    "            payout_ratio = ratios.get('payoutRatio')\n",
    "\n",
    "            # 결과 저장\n",
    "            metrics_list.append({\n",
    "                'ticker': tick,\n",
    "                'PER': per,\n",
    "                'PBR': pbr,\n",
    "                'ROIC': roic,\n",
    "                'Dividend Payout Ratio': payout_ratio\n",
    "            })\n",
    "        else:\n",
    "            print(f\"{tick}의 데이터를 가져올 수 없습니다.\")\n",
    "    except Exception as e:\n",
    "        print(f\"{tick} 처리 중 오류 발생: {e}\")\n",
    "\n",
    "# 결과를 DataFrame으로 변환\n",
    "metrics_df = pd.DataFrame(metrics_list)\n",
    "\n",
    "# 결과 출력\n",
    "print(metrics_df)"
   ],
   "id": "11eef74c3e6eae60",
   "outputs": [
    {
     "name": "stderr",
     "output_type": "stream",
     "text": [
      "100%|██████████| 3/3 [00:04<00:00,  1.54s/it]"
     ]
    },
    {
     "name": "stdout",
     "output_type": "stream",
     "text": [
      "  ticker   PER        PBR  ROIC  Dividend Payout Ratio\n",
      "0   AAPL  None  61.372438  None               0.162520\n",
      "1   MSFT  None  12.641532  None               0.247016\n",
      "2  GOOGL  None   7.173490  None               0.073543\n"
     ]
    },
    {
     "name": "stderr",
     "output_type": "stream",
     "text": [
      "\n"
     ]
    }
   ],
   "execution_count": 25
  },
  {
   "metadata": {},
   "cell_type": "code",
   "outputs": [],
   "execution_count": null,
   "source": "",
   "id": "608ebafd58e82fba"
  },
  {
   "metadata": {},
   "cell_type": "code",
   "outputs": [],
   "execution_count": null,
   "source": "",
   "id": "3a4988a10d97cd87"
  },
  {
   "metadata": {},
   "cell_type": "code",
   "outputs": [],
   "execution_count": null,
   "source": "",
   "id": "1b04a0a2db475a97"
  },
  {
   "metadata": {},
   "cell_type": "code",
   "outputs": [],
   "execution_count": null,
   "source": "",
   "id": "e0bd8fe2eebb3715"
  },
  {
   "metadata": {},
   "cell_type": "code",
   "outputs": [],
   "execution_count": null,
   "source": "",
   "id": "1d86fb11b3311fb3"
  },
  {
   "metadata": {},
   "cell_type": "code",
   "outputs": [],
   "execution_count": null,
   "source": "",
   "id": "8ef4fea992a5fe61"
  },
  {
   "metadata": {
    "ExecuteTime": {
     "end_time": "2025-06-02T15:53:32.550851Z",
     "start_time": "2025-06-02T15:53:31.088479Z"
    }
   },
   "cell_type": "code",
   "source": [
    "## 금리 데이터를 가져온다\n",
    "# 오늘 기준\n",
    "date_info = datetime.now().strftime('%Y-%m-%d')\n",
    "\n",
    "# FRED ticker 리스트\n",
    "fred_tickers = [\n",
    "    'T10Y2Y',        # 장단기 금리차\n",
    "    'BAMLH0A0HYM2',  # 고수익 회사채 스프레드\n",
    "    'BAMLC0A3CA',    # A급 회사채 스프레드\n",
    "    'CPIAUCNS',      # 소비자물가지수\n",
    "    'WTISPLC',       # 서부 텍사스 원유 가격\n",
    "    'UMCSENT',       # 미시간대 소비자 심리지수\n",
    "    'CSUSHPINSA',    # 주택가격지수 (Case-Shiller)\n",
    "    'HSN1F',         # 신규주택 판매\n",
    "    'IPMAN',         # 제조업 산업생산\n",
    "    'AMTMNO'         # 제조업 신규주문\n",
    "]\n",
    "\n",
    "# 데이터를 하나씩 받아서 합치기\n",
    "macro_data = pd.DataFrame()\n",
    "\n",
    "for ticker in fred_tickers:\n",
    "    df = fdr.DataReader(f'FRED:{ticker}', '2000-01-01', date_info)\n",
    "    df.rename(columns={'Value': ticker}, inplace=True)\n",
    "    if macro_data.empty:\n",
    "        macro_data = df\n",
    "    else:\n",
    "        macro_data = macro_data.join(df, how='outer')\n",
    "\n",
    "# 결과 미리 보기\n",
    "print(macro_data.tail())\n"
   ],
   "id": "e306978f7fcf08ba",
   "outputs": [
    {
     "ename": "ValueError",
     "evalue": "Missing column provided to 'parse_dates': 'DATE'",
     "output_type": "error",
     "traceback": [
      "\u001B[1;31m---------------------------------------------------------------------------\u001B[0m",
      "\u001B[1;31mValueError\u001B[0m                                Traceback (most recent call last)",
      "Cell \u001B[1;32mIn[4], line 23\u001B[0m\n\u001B[0;32m     20\u001B[0m macro_data \u001B[38;5;241m=\u001B[39m pd\u001B[38;5;241m.\u001B[39mDataFrame()\n\u001B[0;32m     22\u001B[0m \u001B[38;5;28;01mfor\u001B[39;00m ticker \u001B[38;5;129;01min\u001B[39;00m fred_tickers:\n\u001B[1;32m---> 23\u001B[0m     df \u001B[38;5;241m=\u001B[39m \u001B[43mfdr\u001B[49m\u001B[38;5;241;43m.\u001B[39;49m\u001B[43mDataReader\u001B[49m\u001B[43m(\u001B[49m\u001B[38;5;124;43mf\u001B[39;49m\u001B[38;5;124;43m'\u001B[39;49m\u001B[38;5;124;43mFRED:\u001B[39;49m\u001B[38;5;132;43;01m{\u001B[39;49;00m\u001B[43mticker\u001B[49m\u001B[38;5;132;43;01m}\u001B[39;49;00m\u001B[38;5;124;43m'\u001B[39;49m\u001B[43m,\u001B[49m\u001B[43m \u001B[49m\u001B[38;5;124;43m'\u001B[39;49m\u001B[38;5;124;43m2000-01-01\u001B[39;49m\u001B[38;5;124;43m'\u001B[39;49m\u001B[43m,\u001B[49m\u001B[43m \u001B[49m\u001B[43mdate_info\u001B[49m\u001B[43m)\u001B[49m\n\u001B[0;32m     24\u001B[0m     df\u001B[38;5;241m.\u001B[39mrename(columns\u001B[38;5;241m=\u001B[39m{\u001B[38;5;124m'\u001B[39m\u001B[38;5;124mValue\u001B[39m\u001B[38;5;124m'\u001B[39m: ticker}, inplace\u001B[38;5;241m=\u001B[39m\u001B[38;5;28;01mTrue\u001B[39;00m)\n\u001B[0;32m     25\u001B[0m     \u001B[38;5;28;01mif\u001B[39;00m macro_data\u001B[38;5;241m.\u001B[39mempty:\n",
      "File \u001B[1;32m~\\AppData\\Local\\Programs\\Python\\Python39\\lib\\site-packages\\FinanceDataReader\\data.py:110\u001B[0m, in \u001B[0;36mDataReader\u001B[1;34m(symbol, start, end, exchange, data_source)\u001B[0m\n\u001B[0;32m    108\u001B[0m     \u001B[38;5;28;01mreturn\u001B[39;00m InvestingDailyReader(codes, start, end)\u001B[38;5;241m.\u001B[39mread()\n\u001B[0;32m    109\u001B[0m \u001B[38;5;28;01melif\u001B[39;00m source \u001B[38;5;241m==\u001B[39m \u001B[38;5;124m'\u001B[39m\u001B[38;5;124mFRED\u001B[39m\u001B[38;5;124m'\u001B[39m:\n\u001B[1;32m--> 110\u001B[0m     \u001B[38;5;28;01mreturn\u001B[39;00m \u001B[43mFredReader\u001B[49m\u001B[43m(\u001B[49m\u001B[43mcodes\u001B[49m\u001B[43m,\u001B[49m\u001B[43m \u001B[49m\u001B[43mstart\u001B[49m\u001B[43m,\u001B[49m\u001B[43m \u001B[49m\u001B[43mend\u001B[49m\u001B[43m)\u001B[49m\u001B[38;5;241;43m.\u001B[39;49m\u001B[43mread\u001B[49m\u001B[43m(\u001B[49m\u001B[43m)\u001B[49m\n\u001B[0;32m    111\u001B[0m \u001B[38;5;28;01melif\u001B[39;00m source \u001B[38;5;129;01min\u001B[39;00m [\u001B[38;5;124m'\u001B[39m\u001B[38;5;124mNASDAQ\u001B[39m\u001B[38;5;124m'\u001B[39m, \u001B[38;5;124m'\u001B[39m\u001B[38;5;124mNYSE\u001B[39m\u001B[38;5;124m'\u001B[39m, \u001B[38;5;124m'\u001B[39m\u001B[38;5;124mAMEX\u001B[39m\u001B[38;5;124m'\u001B[39m, \u001B[38;5;124m'\u001B[39m\u001B[38;5;124mSSE\u001B[39m\u001B[38;5;124m'\u001B[39m, \u001B[38;5;124m'\u001B[39m\u001B[38;5;124mSZSE\u001B[39m\u001B[38;5;124m'\u001B[39m, \u001B[38;5;124m'\u001B[39m\u001B[38;5;124mHKEX\u001B[39m\u001B[38;5;124m'\u001B[39m, \u001B[38;5;124m'\u001B[39m\u001B[38;5;124mTSE\u001B[39m\u001B[38;5;124m'\u001B[39m, \u001B[38;5;124m'\u001B[39m\u001B[38;5;124mHOSE\u001B[39m\u001B[38;5;124m'\u001B[39m]:\n\u001B[0;32m    112\u001B[0m     \u001B[38;5;28;01mreturn\u001B[39;00m YahooDailyReader(codes, start, end, source)\u001B[38;5;241m.\u001B[39mread()\n",
      "File \u001B[1;32m~\\AppData\\Local\\Programs\\Python\\Python39\\lib\\site-packages\\FinanceDataReader\\fred\\data.py:49\u001B[0m, in \u001B[0;36mFredReader.read\u001B[1;34m(self)\u001B[0m\n\u001B[0;32m     46\u001B[0m     \u001B[38;5;28;01mreturn\u001B[39;00m merged\n\u001B[0;32m     48\u001B[0m \u001B[38;5;28;01melif\u001B[39;00m \u001B[38;5;124m'\u001B[39m\u001B[38;5;124m.csv\u001B[39m\u001B[38;5;124m'\u001B[39m \u001B[38;5;129;01min\u001B[39;00m fname:\n\u001B[1;32m---> 49\u001B[0m     df \u001B[38;5;241m=\u001B[39m \u001B[43mpd\u001B[49m\u001B[38;5;241;43m.\u001B[39;49m\u001B[43mread_csv\u001B[49m\u001B[43m(\u001B[49m\u001B[43murl\u001B[49m\u001B[43m,\u001B[49m\u001B[43m \u001B[49m\u001B[43mparse_dates\u001B[49m\u001B[38;5;241;43m=\u001B[39;49m\u001B[43m[\u001B[49m\u001B[38;5;124;43m'\u001B[39;49m\u001B[38;5;124;43mDATE\u001B[39;49m\u001B[38;5;124;43m'\u001B[39;49m\u001B[43m]\u001B[49m\u001B[43m,\u001B[49m\u001B[43m \u001B[49m\u001B[43mna_values\u001B[49m\u001B[38;5;241;43m=\u001B[39;49m\u001B[38;5;124;43m'\u001B[39;49m\u001B[38;5;124;43m.\u001B[39;49m\u001B[38;5;124;43m'\u001B[39;49m\u001B[43m)\u001B[49m\n\u001B[0;32m     50\u001B[0m     df\u001B[38;5;241m.\u001B[39mset_index(\u001B[38;5;124m'\u001B[39m\u001B[38;5;124mDATE\u001B[39m\u001B[38;5;124m'\u001B[39m, inplace\u001B[38;5;241m=\u001B[39m\u001B[38;5;28;01mTrue\u001B[39;00m)\n\u001B[0;32m     51\u001B[0m     df\u001B[38;5;241m.\u001B[39mreplace(\u001B[38;5;124m'\u001B[39m\u001B[38;5;124m.\u001B[39m\u001B[38;5;124m'\u001B[39m, \u001B[38;5;124m'\u001B[39m\u001B[38;5;124m'\u001B[39m, inplace\u001B[38;5;241m=\u001B[39m\u001B[38;5;28;01mTrue\u001B[39;00m)\n",
      "File \u001B[1;32m~\\AppData\\Local\\Programs\\Python\\Python39\\lib\\site-packages\\pandas\\io\\parsers\\readers.py:1026\u001B[0m, in \u001B[0;36mread_csv\u001B[1;34m(filepath_or_buffer, sep, delimiter, header, names, index_col, usecols, dtype, engine, converters, true_values, false_values, skipinitialspace, skiprows, skipfooter, nrows, na_values, keep_default_na, na_filter, verbose, skip_blank_lines, parse_dates, infer_datetime_format, keep_date_col, date_parser, date_format, dayfirst, cache_dates, iterator, chunksize, compression, thousands, decimal, lineterminator, quotechar, quoting, doublequote, escapechar, comment, encoding, encoding_errors, dialect, on_bad_lines, delim_whitespace, low_memory, memory_map, float_precision, storage_options, dtype_backend)\u001B[0m\n\u001B[0;32m   1013\u001B[0m kwds_defaults \u001B[38;5;241m=\u001B[39m _refine_defaults_read(\n\u001B[0;32m   1014\u001B[0m     dialect,\n\u001B[0;32m   1015\u001B[0m     delimiter,\n\u001B[1;32m   (...)\u001B[0m\n\u001B[0;32m   1022\u001B[0m     dtype_backend\u001B[38;5;241m=\u001B[39mdtype_backend,\n\u001B[0;32m   1023\u001B[0m )\n\u001B[0;32m   1024\u001B[0m kwds\u001B[38;5;241m.\u001B[39mupdate(kwds_defaults)\n\u001B[1;32m-> 1026\u001B[0m \u001B[38;5;28;01mreturn\u001B[39;00m \u001B[43m_read\u001B[49m\u001B[43m(\u001B[49m\u001B[43mfilepath_or_buffer\u001B[49m\u001B[43m,\u001B[49m\u001B[43m \u001B[49m\u001B[43mkwds\u001B[49m\u001B[43m)\u001B[49m\n",
      "File \u001B[1;32m~\\AppData\\Local\\Programs\\Python\\Python39\\lib\\site-packages\\pandas\\io\\parsers\\readers.py:620\u001B[0m, in \u001B[0;36m_read\u001B[1;34m(filepath_or_buffer, kwds)\u001B[0m\n\u001B[0;32m    617\u001B[0m _validate_names(kwds\u001B[38;5;241m.\u001B[39mget(\u001B[38;5;124m\"\u001B[39m\u001B[38;5;124mnames\u001B[39m\u001B[38;5;124m\"\u001B[39m, \u001B[38;5;28;01mNone\u001B[39;00m))\n\u001B[0;32m    619\u001B[0m \u001B[38;5;66;03m# Create the parser.\u001B[39;00m\n\u001B[1;32m--> 620\u001B[0m parser \u001B[38;5;241m=\u001B[39m TextFileReader(filepath_or_buffer, \u001B[38;5;241m*\u001B[39m\u001B[38;5;241m*\u001B[39mkwds)\n\u001B[0;32m    622\u001B[0m \u001B[38;5;28;01mif\u001B[39;00m chunksize \u001B[38;5;129;01mor\u001B[39;00m iterator:\n\u001B[0;32m    623\u001B[0m     \u001B[38;5;28;01mreturn\u001B[39;00m parser\n",
      "File \u001B[1;32m~\\AppData\\Local\\Programs\\Python\\Python39\\lib\\site-packages\\pandas\\io\\parsers\\readers.py:1620\u001B[0m, in \u001B[0;36mTextFileReader.__init__\u001B[1;34m(self, f, engine, **kwds)\u001B[0m\n\u001B[0;32m   1617\u001B[0m     \u001B[38;5;28mself\u001B[39m\u001B[38;5;241m.\u001B[39moptions[\u001B[38;5;124m\"\u001B[39m\u001B[38;5;124mhas_index_names\u001B[39m\u001B[38;5;124m\"\u001B[39m] \u001B[38;5;241m=\u001B[39m kwds[\u001B[38;5;124m\"\u001B[39m\u001B[38;5;124mhas_index_names\u001B[39m\u001B[38;5;124m\"\u001B[39m]\n\u001B[0;32m   1619\u001B[0m \u001B[38;5;28mself\u001B[39m\u001B[38;5;241m.\u001B[39mhandles: IOHandles \u001B[38;5;241m|\u001B[39m \u001B[38;5;28;01mNone\u001B[39;00m \u001B[38;5;241m=\u001B[39m \u001B[38;5;28;01mNone\u001B[39;00m\n\u001B[1;32m-> 1620\u001B[0m \u001B[38;5;28mself\u001B[39m\u001B[38;5;241m.\u001B[39m_engine \u001B[38;5;241m=\u001B[39m \u001B[38;5;28;43mself\u001B[39;49m\u001B[38;5;241;43m.\u001B[39;49m\u001B[43m_make_engine\u001B[49m\u001B[43m(\u001B[49m\u001B[43mf\u001B[49m\u001B[43m,\u001B[49m\u001B[43m \u001B[49m\u001B[38;5;28;43mself\u001B[39;49m\u001B[38;5;241;43m.\u001B[39;49m\u001B[43mengine\u001B[49m\u001B[43m)\u001B[49m\n",
      "File \u001B[1;32m~\\AppData\\Local\\Programs\\Python\\Python39\\lib\\site-packages\\pandas\\io\\parsers\\readers.py:1898\u001B[0m, in \u001B[0;36mTextFileReader._make_engine\u001B[1;34m(self, f, engine)\u001B[0m\n\u001B[0;32m   1895\u001B[0m     \u001B[38;5;28;01mraise\u001B[39;00m \u001B[38;5;167;01mValueError\u001B[39;00m(msg)\n\u001B[0;32m   1897\u001B[0m \u001B[38;5;28;01mtry\u001B[39;00m:\n\u001B[1;32m-> 1898\u001B[0m     \u001B[38;5;28;01mreturn\u001B[39;00m mapping[engine](f, \u001B[38;5;241m*\u001B[39m\u001B[38;5;241m*\u001B[39m\u001B[38;5;28mself\u001B[39m\u001B[38;5;241m.\u001B[39moptions)\n\u001B[0;32m   1899\u001B[0m \u001B[38;5;28;01mexcept\u001B[39;00m \u001B[38;5;167;01mException\u001B[39;00m:\n\u001B[0;32m   1900\u001B[0m     \u001B[38;5;28;01mif\u001B[39;00m \u001B[38;5;28mself\u001B[39m\u001B[38;5;241m.\u001B[39mhandles \u001B[38;5;129;01mis\u001B[39;00m \u001B[38;5;129;01mnot\u001B[39;00m \u001B[38;5;28;01mNone\u001B[39;00m:\n",
      "File \u001B[1;32m~\\AppData\\Local\\Programs\\Python\\Python39\\lib\\site-packages\\pandas\\io\\parsers\\c_parser_wrapper.py:161\u001B[0m, in \u001B[0;36mCParserWrapper.__init__\u001B[1;34m(self, src, **kwds)\u001B[0m\n\u001B[0;32m    155\u001B[0m         \u001B[38;5;28mself\u001B[39m\u001B[38;5;241m.\u001B[39m_validate_usecols_names(\n\u001B[0;32m    156\u001B[0m             usecols,\n\u001B[0;32m    157\u001B[0m             \u001B[38;5;28mself\u001B[39m\u001B[38;5;241m.\u001B[39mnames,  \u001B[38;5;66;03m# type: ignore[has-type]\u001B[39;00m\n\u001B[0;32m    158\u001B[0m         )\n\u001B[0;32m    160\u001B[0m \u001B[38;5;66;03m# error: Cannot determine type of 'names'\u001B[39;00m\n\u001B[1;32m--> 161\u001B[0m \u001B[38;5;28;43mself\u001B[39;49m\u001B[38;5;241;43m.\u001B[39;49m\u001B[43m_validate_parse_dates_presence\u001B[49m\u001B[43m(\u001B[49m\u001B[38;5;28;43mself\u001B[39;49m\u001B[38;5;241;43m.\u001B[39;49m\u001B[43mnames\u001B[49m\u001B[43m)\u001B[49m  \u001B[38;5;66;03m# type: ignore[has-type]\u001B[39;00m\n\u001B[0;32m    162\u001B[0m \u001B[38;5;28mself\u001B[39m\u001B[38;5;241m.\u001B[39m_set_noconvert_columns()\n\u001B[0;32m    164\u001B[0m \u001B[38;5;66;03m# error: Cannot determine type of 'names'\u001B[39;00m\n",
      "File \u001B[1;32m~\\AppData\\Local\\Programs\\Python\\Python39\\lib\\site-packages\\pandas\\io\\parsers\\base_parser.py:243\u001B[0m, in \u001B[0;36mParserBase._validate_parse_dates_presence\u001B[1;34m(self, columns)\u001B[0m\n\u001B[0;32m    233\u001B[0m missing_cols \u001B[38;5;241m=\u001B[39m \u001B[38;5;124m\"\u001B[39m\u001B[38;5;124m, \u001B[39m\u001B[38;5;124m\"\u001B[39m\u001B[38;5;241m.\u001B[39mjoin(\n\u001B[0;32m    234\u001B[0m     \u001B[38;5;28msorted\u001B[39m(\n\u001B[0;32m    235\u001B[0m         {\n\u001B[1;32m   (...)\u001B[0m\n\u001B[0;32m    240\u001B[0m     )\n\u001B[0;32m    241\u001B[0m )\n\u001B[0;32m    242\u001B[0m \u001B[38;5;28;01mif\u001B[39;00m missing_cols:\n\u001B[1;32m--> 243\u001B[0m     \u001B[38;5;28;01mraise\u001B[39;00m \u001B[38;5;167;01mValueError\u001B[39;00m(\n\u001B[0;32m    244\u001B[0m         \u001B[38;5;124mf\u001B[39m\u001B[38;5;124m\"\u001B[39m\u001B[38;5;124mMissing column provided to \u001B[39m\u001B[38;5;124m'\u001B[39m\u001B[38;5;124mparse_dates\u001B[39m\u001B[38;5;124m'\u001B[39m\u001B[38;5;124m: \u001B[39m\u001B[38;5;124m'\u001B[39m\u001B[38;5;132;01m{\u001B[39;00mmissing_cols\u001B[38;5;132;01m}\u001B[39;00m\u001B[38;5;124m'\u001B[39m\u001B[38;5;124m\"\u001B[39m\n\u001B[0;32m    245\u001B[0m     )\n\u001B[0;32m    246\u001B[0m \u001B[38;5;66;03m# Convert positions to actual column names\u001B[39;00m\n\u001B[0;32m    247\u001B[0m \u001B[38;5;28;01mreturn\u001B[39;00m [\n\u001B[0;32m    248\u001B[0m     col \u001B[38;5;28;01mif\u001B[39;00m (\u001B[38;5;28misinstance\u001B[39m(col, \u001B[38;5;28mstr\u001B[39m) \u001B[38;5;129;01mor\u001B[39;00m col \u001B[38;5;129;01min\u001B[39;00m columns) \u001B[38;5;28;01melse\u001B[39;00m columns[col]\n\u001B[0;32m    249\u001B[0m     \u001B[38;5;28;01mfor\u001B[39;00m col \u001B[38;5;129;01min\u001B[39;00m cols_needed\n\u001B[0;32m    250\u001B[0m ]\n",
      "\u001B[1;31mValueError\u001B[0m: Missing column provided to 'parse_dates': 'DATE'"
     ]
    }
   ],
   "execution_count": 4
  },
  {
   "metadata": {
    "ExecuteTime": {
     "end_time": "2025-06-02T15:53:48.688407Z",
     "start_time": "2025-06-02T15:53:48.661890Z"
    }
   },
   "cell_type": "code",
   "source": "df",
   "id": "6687004b45a05320",
   "outputs": [
    {
     "ename": "NameError",
     "evalue": "name 'df' is not defined",
     "output_type": "error",
     "traceback": [
      "\u001B[1;31m---------------------------------------------------------------------------\u001B[0m",
      "\u001B[1;31mNameError\u001B[0m                                 Traceback (most recent call last)",
      "Cell \u001B[1;32mIn[6], line 1\u001B[0m\n\u001B[1;32m----> 1\u001B[0m \u001B[43mdf\u001B[49m\n",
      "\u001B[1;31mNameError\u001B[0m: name 'df' is not defined"
     ]
    }
   ],
   "execution_count": 6
  },
  {
   "metadata": {
    "ExecuteTime": {
     "end_time": "2025-06-02T15:54:21.877654Z",
     "start_time": "2025-06-02T15:54:21.543828Z"
    }
   },
   "cell_type": "code",
   "source": "df = fdr.DataReader('T10Y2Y', '2000-01-01', date_info)",
   "id": "a367fddab8c29aac",
   "outputs": [
    {
     "ename": "HTTPError",
     "evalue": "404 Client Error: Not Found for url: https://query2.finance.yahoo.com/v8/finance/chart/T10Y2Y?period1=946652400&period2=1748876400&interval=1d&includeAdjustedClose=true",
     "output_type": "error",
     "traceback": [
      "\u001B[1;31m---------------------------------------------------------------------------\u001B[0m",
      "\u001B[1;31mHTTPError\u001B[0m                                 Traceback (most recent call last)",
      "Cell \u001B[1;32mIn[7], line 1\u001B[0m\n\u001B[1;32m----> 1\u001B[0m df \u001B[38;5;241m=\u001B[39m \u001B[43mfdr\u001B[49m\u001B[38;5;241;43m.\u001B[39;49m\u001B[43mDataReader\u001B[49m\u001B[43m(\u001B[49m\u001B[38;5;124;43m'\u001B[39;49m\u001B[38;5;124;43mT10Y2Y\u001B[39;49m\u001B[38;5;124;43m'\u001B[39;49m\u001B[43m,\u001B[49m\u001B[43m \u001B[49m\u001B[38;5;124;43m'\u001B[39;49m\u001B[38;5;124;43m2000-01-01\u001B[39;49m\u001B[38;5;124;43m'\u001B[39;49m\u001B[43m,\u001B[49m\u001B[43m \u001B[49m\u001B[43mdate_info\u001B[49m\u001B[43m)\u001B[49m\n",
      "File \u001B[1;32m~\\AppData\\Local\\Programs\\Python\\Python39\\lib\\site-packages\\FinanceDataReader\\data.py:92\u001B[0m, in \u001B[0;36mDataReader\u001B[1;34m(symbol, start, end, exchange, data_source)\u001B[0m\n\u001B[0;32m     88\u001B[0m         \u001B[38;5;28;01mreturn\u001B[39;00m NaverDailyReader(codes, start, end)\u001B[38;5;241m.\u001B[39mread()\n\u001B[0;32m     89\u001B[0m     \u001B[38;5;66;03m# 1-4) US and other stocks \u001B[39;00m\n\u001B[0;32m     90\u001B[0m     \u001B[38;5;28;01melse\u001B[39;00m:\n\u001B[0;32m     91\u001B[0m         \u001B[38;5;66;03m# Yahoo is default source for US and other stocks\u001B[39;00m\n\u001B[1;32m---> 92\u001B[0m         \u001B[38;5;28;01mreturn\u001B[39;00m \u001B[43mYahooDailyReader\u001B[49m\u001B[43m(\u001B[49m\u001B[43mcodes\u001B[49m\u001B[43m,\u001B[49m\u001B[43m \u001B[49m\u001B[43mstart\u001B[49m\u001B[43m,\u001B[49m\u001B[43m \u001B[49m\u001B[43mend\u001B[49m\u001B[43m)\u001B[49m\u001B[38;5;241;43m.\u001B[39;49m\u001B[43mread\u001B[49m\u001B[43m(\u001B[49m\u001B[43m)\u001B[49m\n\u001B[0;32m     94\u001B[0m \u001B[38;5;28;01melse\u001B[39;00m:  \u001B[38;5;66;03m# data source specified\u001B[39;00m\n\u001B[0;32m     95\u001B[0m     \u001B[38;5;28;01mif\u001B[39;00m source \u001B[38;5;241m==\u001B[39m \u001B[38;5;124m'\u001B[39m\u001B[38;5;124mKRX\u001B[39m\u001B[38;5;124m'\u001B[39m:\n",
      "File \u001B[1;32m~\\AppData\\Local\\Programs\\Python\\Python39\\lib\\site-packages\\FinanceDataReader\\yahoo\\data.py:61\u001B[0m, in \u001B[0;36mYahooDailyReader.read\u001B[1;34m(self)\u001B[0m\n\u001B[0;32m     58\u001B[0m \u001B[38;5;28;01mdef\u001B[39;00m \u001B[38;5;21mread\u001B[39m(\u001B[38;5;28mself\u001B[39m):\n\u001B[0;32m     59\u001B[0m     \u001B[38;5;66;03m# single symbol\u001B[39;00m\n\u001B[0;32m     60\u001B[0m     \u001B[38;5;28;01mif\u001B[39;00m \u001B[38;5;124m'\u001B[39m\u001B[38;5;124m,\u001B[39m\u001B[38;5;124m'\u001B[39m \u001B[38;5;129;01mnot\u001B[39;00m \u001B[38;5;129;01min\u001B[39;00m \u001B[38;5;28mself\u001B[39m\u001B[38;5;241m.\u001B[39msymbol: \n\u001B[1;32m---> 61\u001B[0m         \u001B[38;5;28;01mreturn\u001B[39;00m \u001B[43m_yahoo_data_reader\u001B[49m\u001B[43m(\u001B[49m\u001B[38;5;28;43mself\u001B[39;49m\u001B[38;5;241;43m.\u001B[39;49m\u001B[43msymbol\u001B[49m\u001B[43m,\u001B[49m\u001B[43m \u001B[49m\u001B[38;5;28;43mself\u001B[39;49m\u001B[38;5;241;43m.\u001B[39;49m\u001B[43mexchange\u001B[49m\u001B[43m,\u001B[49m\u001B[43m \u001B[49m\u001B[38;5;28;43mself\u001B[39;49m\u001B[38;5;241;43m.\u001B[39;49m\u001B[43mstart\u001B[49m\u001B[43m,\u001B[49m\u001B[43m \u001B[49m\u001B[38;5;28;43mself\u001B[39;49m\u001B[38;5;241;43m.\u001B[39;49m\u001B[43mend\u001B[49m\u001B[43m)\u001B[49m\n\u001B[0;32m     63\u001B[0m     \u001B[38;5;66;03m# multiple symbols, merge close price data as columns\u001B[39;00m\n\u001B[0;32m     64\u001B[0m     df_list \u001B[38;5;241m=\u001B[39m []\n",
      "File \u001B[1;32m~\\AppData\\Local\\Programs\\Python\\Python39\\lib\\site-packages\\FinanceDataReader\\yahoo\\data.py:38\u001B[0m, in \u001B[0;36m_yahoo_data_reader\u001B[1;34m(symbol, exchange, start, end)\u001B[0m\n\u001B[0;32m     33\u001B[0m url \u001B[38;5;241m=\u001B[39m (\n\u001B[0;32m     34\u001B[0m     \u001B[38;5;124mf\u001B[39m\u001B[38;5;124m'\u001B[39m\u001B[38;5;124mhttps://query2.finance.yahoo.com/v8/finance/chart/\u001B[39m\u001B[38;5;132;01m{\u001B[39;00m_map_symbol(symbol,\u001B[38;5;250m \u001B[39mexchange)\u001B[38;5;132;01m}\u001B[39;00m\u001B[38;5;124m?\u001B[39m\u001B[38;5;124m'\u001B[39m\n\u001B[0;32m     35\u001B[0m     \u001B[38;5;124mf\u001B[39m\u001B[38;5;124m'\u001B[39m\u001B[38;5;124mperiod1=\u001B[39m\u001B[38;5;132;01m{\u001B[39;00mstart_ts\u001B[38;5;132;01m}\u001B[39;00m\u001B[38;5;124m&period2=\u001B[39m\u001B[38;5;132;01m{\u001B[39;00mend_ts\u001B[38;5;132;01m}\u001B[39;00m\u001B[38;5;124m&interval=1d&includeAdjustedClose=true\u001B[39m\u001B[38;5;124m'\u001B[39m\n\u001B[0;32m     36\u001B[0m )\n\u001B[0;32m     37\u001B[0m r \u001B[38;5;241m=\u001B[39m requests\u001B[38;5;241m.\u001B[39mget(url, headers\u001B[38;5;241m=\u001B[39m{\u001B[38;5;124m'\u001B[39m\u001B[38;5;124muser-agent\u001B[39m\u001B[38;5;124m'\u001B[39m: \u001B[38;5;124m'\u001B[39m\u001B[38;5;124mMozilla/5.0 AppleWebKit/537.36\u001B[39m\u001B[38;5;124m'\u001B[39m})\n\u001B[1;32m---> 38\u001B[0m \u001B[43mr\u001B[49m\u001B[38;5;241;43m.\u001B[39;49m\u001B[43mraise_for_status\u001B[49m\u001B[43m(\u001B[49m\u001B[43m)\u001B[49m\n\u001B[0;32m     39\u001B[0m jo \u001B[38;5;241m=\u001B[39m r\u001B[38;5;241m.\u001B[39mjson()\n\u001B[0;32m     41\u001B[0m index \u001B[38;5;241m=\u001B[39m pd\u001B[38;5;241m.\u001B[39mto_datetime(jo[\u001B[38;5;124m'\u001B[39m\u001B[38;5;124mchart\u001B[39m\u001B[38;5;124m'\u001B[39m][\u001B[38;5;124m'\u001B[39m\u001B[38;5;124mresult\u001B[39m\u001B[38;5;124m'\u001B[39m][\u001B[38;5;241m0\u001B[39m][\u001B[38;5;124m'\u001B[39m\u001B[38;5;124mtimestamp\u001B[39m\u001B[38;5;124m'\u001B[39m], unit\u001B[38;5;241m=\u001B[39m\u001B[38;5;124m'\u001B[39m\u001B[38;5;124ms\u001B[39m\u001B[38;5;124m'\u001B[39m)\u001B[38;5;241m.\u001B[39mnormalize()\n",
      "File \u001B[1;32m~\\AppData\\Local\\Programs\\Python\\Python39\\lib\\site-packages\\requests\\models.py:1024\u001B[0m, in \u001B[0;36mResponse.raise_for_status\u001B[1;34m(self)\u001B[0m\n\u001B[0;32m   1019\u001B[0m     http_error_msg \u001B[38;5;241m=\u001B[39m (\n\u001B[0;32m   1020\u001B[0m         \u001B[38;5;124mf\u001B[39m\u001B[38;5;124m\"\u001B[39m\u001B[38;5;132;01m{\u001B[39;00m\u001B[38;5;28mself\u001B[39m\u001B[38;5;241m.\u001B[39mstatus_code\u001B[38;5;132;01m}\u001B[39;00m\u001B[38;5;124m Server Error: \u001B[39m\u001B[38;5;132;01m{\u001B[39;00mreason\u001B[38;5;132;01m}\u001B[39;00m\u001B[38;5;124m for url: \u001B[39m\u001B[38;5;132;01m{\u001B[39;00m\u001B[38;5;28mself\u001B[39m\u001B[38;5;241m.\u001B[39murl\u001B[38;5;132;01m}\u001B[39;00m\u001B[38;5;124m\"\u001B[39m\n\u001B[0;32m   1021\u001B[0m     )\n\u001B[0;32m   1023\u001B[0m \u001B[38;5;28;01mif\u001B[39;00m http_error_msg:\n\u001B[1;32m-> 1024\u001B[0m     \u001B[38;5;28;01mraise\u001B[39;00m HTTPError(http_error_msg, response\u001B[38;5;241m=\u001B[39m\u001B[38;5;28mself\u001B[39m)\n",
      "\u001B[1;31mHTTPError\u001B[0m: 404 Client Error: Not Found for url: https://query2.finance.yahoo.com/v8/finance/chart/T10Y2Y?period1=946652400&period2=1748876400&interval=1d&includeAdjustedClose=true"
     ]
    }
   ],
   "execution_count": 7
  },
  {
   "metadata": {},
   "cell_type": "code",
   "outputs": [],
   "execution_count": null,
   "source": "",
   "id": "43bcacfc0ea78c98"
  },
  {
   "metadata": {},
   "cell_type": "code",
   "outputs": [],
   "execution_count": null,
   "source": "",
   "id": "7734a90ed8cc0eec"
  }
 ],
 "metadata": {
  "kernelspec": {
   "display_name": "Python 3",
   "language": "python",
   "name": "python3"
  },
  "language_info": {
   "codemirror_mode": {
    "name": "ipython",
    "version": 2
   },
   "file_extension": ".py",
   "mimetype": "text/x-python",
   "name": "python",
   "nbconvert_exporter": "python",
   "pygments_lexer": "ipython2",
   "version": "2.7.6"
  }
 },
 "nbformat": 4,
 "nbformat_minor": 5
}
