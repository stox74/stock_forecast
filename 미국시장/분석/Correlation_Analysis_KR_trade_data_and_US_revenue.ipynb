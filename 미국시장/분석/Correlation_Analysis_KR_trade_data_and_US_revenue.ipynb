{
 "cells": [
  {
   "cell_type": "code",
   "id": "initial_id",
   "metadata": {
    "collapsed": true,
    "ExecuteTime": {
     "end_time": "2025-06-07T08:53:07.645757Z",
     "start_time": "2025-06-07T08:53:06.966927Z"
    }
   },
   "source": [
    "import pandas as pd\n",
    "from sqlalchemy import create_engine\n",
    "from statsmodels.tsa.statespace.sarimax import SARIMAX\n",
    "import matplotlib.pyplot as plt\n",
    "import numpy as np\n",
    "from sqlalchemy import create_engine\n",
    "import platform\n",
    "import matplotlib.pyplot as plt\n",
    "import matplotlib.dates as mdates\n",
    "from tqdm import tqdm\n",
    "import statsmodels.api as sm\n",
    "import ssl\n",
    "import certifi\n",
    "from urllib.request import urlopen\n",
    "import json\n",
    "from DATA.stock_invest_function import fetch_trade_data_multi_hscode"
   ],
   "outputs": [],
   "execution_count": 1
  },
  {
   "metadata": {
    "ExecuteTime": {
     "end_time": "2025-06-07T08:53:51.288185Z",
     "start_time": "2025-06-07T08:53:49.712468Z"
    }
   },
   "cell_type": "code",
   "source": [
    "db_info = {\n",
    "    'host': '192.168.0.230',\n",
    "    'port': 3307,\n",
    "    'user': 'stox7412',\n",
    "    'password': 'Apt106503!~',\n",
    "    'database': 'investar'\n",
    "}\n",
    "\n",
    "# SQLAlchemy 엔진 생성\n",
    "engine = create_engine(\n",
    "    f\"mysql+pymysql://{db_info['user']}:{db_info['password']}@{db_info['host']}:{db_info['port']}/{db_info['database']}\"\n",
    ")\n",
    "\n",
    "# 테이블 이름\n",
    "table_name = 'target_hs_code'\n",
    "\n",
    "# 고유한 hs_code 값 추출 쿼리 실행\n",
    "query = f\"SELECT DISTINCT hs_code FROM {table_name}\"\n",
    "unique_hs_codes_df = pd.read_sql(query, con=engine)\n",
    "hs_codes  = unique_hs_codes_df['hs_code'].unique().tolist()\n",
    "\n",
    "indicator = 'expDlr'\n",
    "\n",
    "df_real = fetch_trade_data_multi_hscode(db_info, hs_codes, indicator)"
   ],
   "id": "539ae3cb61dbaa9",
   "outputs": [],
   "execution_count": 2
  },
  {
   "metadata": {
    "ExecuteTime": {
     "end_time": "2025-06-07T08:54:27.064954Z",
     "start_time": "2025-06-07T08:54:25.995576Z"
    }
   },
   "cell_type": "code",
   "source": [
    "# 분기 정보 추가\n",
    "df_real['quarter'] = df_real['date'].dt.to_period('Q')\n",
    "\n",
    "# 그룹별로 분기별 합산\n",
    "df_quarterly = (\n",
    "    df_real\n",
    "    .groupby(['root_hs_code', 'quarter'])['value']\n",
    "    .sum()\n",
    "    .reset_index()\n",
    ")\n",
    "\n",
    "# 👉 분기 월말로 변환 (예: 2007Q1 → 2007-03-31)\n",
    "df_quarterly['date'] = df_quarterly['quarter'].dt.to_timestamp(how='end')\n",
    "\n",
    "# 👉 'quarter' 컬럼 제거\n",
    "df_quarterly.drop(columns=['quarter'], inplace=True)\n",
    "\n",
    "# 1단계: 문자열로 직접 변환하려면 to_datetime 이후에 바로 strftime\n",
    "df_quarterly['date'] = pd.to_datetime(df_quarterly['date']).dt.strftime('%Y-%m-%d')\n",
    "\n",
    "def create_yoy_growth_pivot(df_quarterly, start_date=None, end_date=None):\n",
    "    \"\"\"\n",
    "    전년 동분기 대비 증가율을 pivot 형태로 변환하고 분석기간을 설정할 수 있는 함수\n",
    "\n",
    "    Parameters:\n",
    "    - df_quarterly (DataFrame): 'root_hs_code', 'date', 'yoy_growth' 포함된 데이터\n",
    "    - start_date (str or None): 분석 시작일 (예: '2015-01-01')\n",
    "    - end_date (str or None): 분석 종료일 (예: '2023-12-31')\n",
    "\n",
    "    Returns:\n",
    "    - pivot_df (DataFrame): 행: date, 열: root_hs_code, 값: yoy_growth\n",
    "    \"\"\"\n",
    "    # Pivot\n",
    "    pivot_df = df_quarterly.pivot(\n",
    "        index='date',\n",
    "        columns='root_hs_code',\n",
    "        values='yoy_growth'\n",
    "    ).sort_index()\n",
    "\n",
    "    # inf 값 NaN 처리\n",
    "    pivot_df.replace([np.inf, -np.inf], np.nan, inplace=True)\n",
    "\n",
    "    # 분석 기간 슬라이싱 (날짜가 문자열이면 datetime으로 변환)\n",
    "    pivot_df.index = pd.to_datetime(pivot_df.index)\n",
    "\n",
    "    if start_date:\n",
    "        pivot_df = pivot_df[pivot_df.index >= pd.to_datetime(start_date)]\n",
    "    if end_date:\n",
    "        pivot_df = pivot_df[pivot_df.index <= pd.to_datetime(end_date)]\n",
    "\n",
    "    return pivot_df\n",
    "\n",
    "\n",
    "# 전년 동분기 값 (4개 분기 전 값) 계산\n",
    "df_quarterly['yoy_value'] = (\n",
    "    df_quarterly\n",
    "    .sort_values(['root_hs_code', 'date'])\n",
    "    .groupby('root_hs_code')['value']\n",
    "    .shift(4)\n",
    ")\n",
    "\n",
    "quarterly_pivot = create_yoy_growth_pivot(df_quarterly, start_date='2008-03', end_date='2025-03')"
   ],
   "id": "a165c726eeca0805",
   "outputs": [
    {
     "ename": "KeyError",
     "evalue": "'yoy_growth'",
     "output_type": "error",
     "traceback": [
      "\u001B[1;31m---------------------------------------------------------------------------\u001B[0m",
      "\u001B[1;31mKeyError\u001B[0m                                  Traceback (most recent call last)",
      "File \u001B[1;32m~\\AppData\\Local\\Programs\\Python\\Python39\\lib\\site-packages\\pandas\\core\\indexes\\base.py:3805\u001B[0m, in \u001B[0;36mIndex.get_loc\u001B[1;34m(self, key)\u001B[0m\n\u001B[0;32m   3804\u001B[0m \u001B[38;5;28;01mtry\u001B[39;00m:\n\u001B[1;32m-> 3805\u001B[0m     \u001B[38;5;28;01mreturn\u001B[39;00m \u001B[38;5;28;43mself\u001B[39;49m\u001B[38;5;241;43m.\u001B[39;49m\u001B[43m_engine\u001B[49m\u001B[38;5;241;43m.\u001B[39;49m\u001B[43mget_loc\u001B[49m\u001B[43m(\u001B[49m\u001B[43mcasted_key\u001B[49m\u001B[43m)\u001B[49m\n\u001B[0;32m   3806\u001B[0m \u001B[38;5;28;01mexcept\u001B[39;00m \u001B[38;5;167;01mKeyError\u001B[39;00m \u001B[38;5;28;01mas\u001B[39;00m err:\n",
      "File \u001B[1;32mindex.pyx:167\u001B[0m, in \u001B[0;36mpandas._libs.index.IndexEngine.get_loc\u001B[1;34m()\u001B[0m\n",
      "File \u001B[1;32mindex.pyx:196\u001B[0m, in \u001B[0;36mpandas._libs.index.IndexEngine.get_loc\u001B[1;34m()\u001B[0m\n",
      "File \u001B[1;32mpandas\\\\_libs\\\\hashtable_class_helper.pxi:7081\u001B[0m, in \u001B[0;36mpandas._libs.hashtable.PyObjectHashTable.get_item\u001B[1;34m()\u001B[0m\n",
      "File \u001B[1;32mpandas\\\\_libs\\\\hashtable_class_helper.pxi:7089\u001B[0m, in \u001B[0;36mpandas._libs.hashtable.PyObjectHashTable.get_item\u001B[1;34m()\u001B[0m\n",
      "\u001B[1;31mKeyError\u001B[0m: 'yoy_growth'",
      "\nThe above exception was the direct cause of the following exception:\n",
      "\u001B[1;31mKeyError\u001B[0m                                  Traceback (most recent call last)",
      "Cell \u001B[1;32mIn[3], line 62\u001B[0m\n\u001B[0;32m     54\u001B[0m \u001B[38;5;66;03m# 전년 동분기 값 (4개 분기 전 값) 계산\u001B[39;00m\n\u001B[0;32m     55\u001B[0m df_quarterly[\u001B[38;5;124m'\u001B[39m\u001B[38;5;124myoy_value\u001B[39m\u001B[38;5;124m'\u001B[39m] \u001B[38;5;241m=\u001B[39m (\n\u001B[0;32m     56\u001B[0m     df_quarterly\n\u001B[0;32m     57\u001B[0m     \u001B[38;5;241m.\u001B[39msort_values([\u001B[38;5;124m'\u001B[39m\u001B[38;5;124mroot_hs_code\u001B[39m\u001B[38;5;124m'\u001B[39m, \u001B[38;5;124m'\u001B[39m\u001B[38;5;124mdate\u001B[39m\u001B[38;5;124m'\u001B[39m])\n\u001B[0;32m     58\u001B[0m     \u001B[38;5;241m.\u001B[39mgroupby(\u001B[38;5;124m'\u001B[39m\u001B[38;5;124mroot_hs_code\u001B[39m\u001B[38;5;124m'\u001B[39m)[\u001B[38;5;124m'\u001B[39m\u001B[38;5;124mvalue\u001B[39m\u001B[38;5;124m'\u001B[39m]\n\u001B[0;32m     59\u001B[0m     \u001B[38;5;241m.\u001B[39mshift(\u001B[38;5;241m4\u001B[39m)\n\u001B[0;32m     60\u001B[0m )\n\u001B[1;32m---> 62\u001B[0m quarterly_pivot \u001B[38;5;241m=\u001B[39m \u001B[43mcreate_yoy_growth_pivot\u001B[49m\u001B[43m(\u001B[49m\u001B[43mdf_quarterly\u001B[49m\u001B[43m,\u001B[49m\u001B[43m \u001B[49m\u001B[43mstart_date\u001B[49m\u001B[38;5;241;43m=\u001B[39;49m\u001B[38;5;124;43m'\u001B[39;49m\u001B[38;5;124;43m2008-03\u001B[39;49m\u001B[38;5;124;43m'\u001B[39;49m\u001B[43m,\u001B[49m\u001B[43m \u001B[49m\u001B[43mend_date\u001B[49m\u001B[38;5;241;43m=\u001B[39;49m\u001B[38;5;124;43m'\u001B[39;49m\u001B[38;5;124;43m2025-03\u001B[39;49m\u001B[38;5;124;43m'\u001B[39;49m\u001B[43m)\u001B[49m\n",
      "Cell \u001B[1;32mIn[3], line 34\u001B[0m, in \u001B[0;36mcreate_yoy_growth_pivot\u001B[1;34m(df_quarterly, start_date, end_date)\u001B[0m\n\u001B[0;32m     22\u001B[0m \u001B[38;5;250m\u001B[39m\u001B[38;5;124;03m\"\"\"\u001B[39;00m\n\u001B[0;32m     23\u001B[0m \u001B[38;5;124;03m전년 동분기 대비 증가율을 pivot 형태로 변환하고 분석기간을 설정할 수 있는 함수\u001B[39;00m\n\u001B[0;32m     24\u001B[0m \n\u001B[1;32m   (...)\u001B[0m\n\u001B[0;32m     31\u001B[0m \u001B[38;5;124;03m- pivot_df (DataFrame): 행: date, 열: root_hs_code, 값: yoy_growth\u001B[39;00m\n\u001B[0;32m     32\u001B[0m \u001B[38;5;124;03m\"\"\"\u001B[39;00m\n\u001B[0;32m     33\u001B[0m \u001B[38;5;66;03m# Pivot\u001B[39;00m\n\u001B[1;32m---> 34\u001B[0m pivot_df \u001B[38;5;241m=\u001B[39m \u001B[43mdf_quarterly\u001B[49m\u001B[38;5;241;43m.\u001B[39;49m\u001B[43mpivot\u001B[49m\u001B[43m(\u001B[49m\n\u001B[0;32m     35\u001B[0m \u001B[43m    \u001B[49m\u001B[43mindex\u001B[49m\u001B[38;5;241;43m=\u001B[39;49m\u001B[38;5;124;43m'\u001B[39;49m\u001B[38;5;124;43mdate\u001B[39;49m\u001B[38;5;124;43m'\u001B[39;49m\u001B[43m,\u001B[49m\n\u001B[0;32m     36\u001B[0m \u001B[43m    \u001B[49m\u001B[43mcolumns\u001B[49m\u001B[38;5;241;43m=\u001B[39;49m\u001B[38;5;124;43m'\u001B[39;49m\u001B[38;5;124;43mroot_hs_code\u001B[39;49m\u001B[38;5;124;43m'\u001B[39;49m\u001B[43m,\u001B[49m\n\u001B[0;32m     37\u001B[0m \u001B[43m    \u001B[49m\u001B[43mvalues\u001B[49m\u001B[38;5;241;43m=\u001B[39;49m\u001B[38;5;124;43m'\u001B[39;49m\u001B[38;5;124;43myoy_growth\u001B[39;49m\u001B[38;5;124;43m'\u001B[39;49m\n\u001B[0;32m     38\u001B[0m \u001B[43m\u001B[49m\u001B[43m)\u001B[49m\u001B[38;5;241m.\u001B[39msort_index()\n\u001B[0;32m     40\u001B[0m \u001B[38;5;66;03m# inf 값 NaN 처리\u001B[39;00m\n\u001B[0;32m     41\u001B[0m pivot_df\u001B[38;5;241m.\u001B[39mreplace([np\u001B[38;5;241m.\u001B[39minf, \u001B[38;5;241m-\u001B[39mnp\u001B[38;5;241m.\u001B[39minf], np\u001B[38;5;241m.\u001B[39mnan, inplace\u001B[38;5;241m=\u001B[39m\u001B[38;5;28;01mTrue\u001B[39;00m)\n",
      "File \u001B[1;32m~\\AppData\\Local\\Programs\\Python\\Python39\\lib\\site-packages\\pandas\\core\\frame.py:9339\u001B[0m, in \u001B[0;36mDataFrame.pivot\u001B[1;34m(self, columns, index, values)\u001B[0m\n\u001B[0;32m   9332\u001B[0m \u001B[38;5;129m@Substitution\u001B[39m(\u001B[38;5;124m\"\u001B[39m\u001B[38;5;124m\"\u001B[39m)\n\u001B[0;32m   9333\u001B[0m \u001B[38;5;129m@Appender\u001B[39m(_shared_docs[\u001B[38;5;124m\"\u001B[39m\u001B[38;5;124mpivot\u001B[39m\u001B[38;5;124m\"\u001B[39m])\n\u001B[0;32m   9334\u001B[0m \u001B[38;5;28;01mdef\u001B[39;00m \u001B[38;5;21mpivot\u001B[39m(\n\u001B[0;32m   9335\u001B[0m     \u001B[38;5;28mself\u001B[39m, \u001B[38;5;241m*\u001B[39m, columns, index\u001B[38;5;241m=\u001B[39mlib\u001B[38;5;241m.\u001B[39mno_default, values\u001B[38;5;241m=\u001B[39mlib\u001B[38;5;241m.\u001B[39mno_default\n\u001B[0;32m   9336\u001B[0m ) \u001B[38;5;241m-\u001B[39m\u001B[38;5;241m>\u001B[39m DataFrame:\n\u001B[0;32m   9337\u001B[0m     \u001B[38;5;28;01mfrom\u001B[39;00m \u001B[38;5;21;01mpandas\u001B[39;00m\u001B[38;5;21;01m.\u001B[39;00m\u001B[38;5;21;01mcore\u001B[39;00m\u001B[38;5;21;01m.\u001B[39;00m\u001B[38;5;21;01mreshape\u001B[39;00m\u001B[38;5;21;01m.\u001B[39;00m\u001B[38;5;21;01mpivot\u001B[39;00m \u001B[38;5;28;01mimport\u001B[39;00m pivot\n\u001B[1;32m-> 9339\u001B[0m     \u001B[38;5;28;01mreturn\u001B[39;00m \u001B[43mpivot\u001B[49m\u001B[43m(\u001B[49m\u001B[38;5;28;43mself\u001B[39;49m\u001B[43m,\u001B[49m\u001B[43m \u001B[49m\u001B[43mindex\u001B[49m\u001B[38;5;241;43m=\u001B[39;49m\u001B[43mindex\u001B[49m\u001B[43m,\u001B[49m\u001B[43m \u001B[49m\u001B[43mcolumns\u001B[49m\u001B[38;5;241;43m=\u001B[39;49m\u001B[43mcolumns\u001B[49m\u001B[43m,\u001B[49m\u001B[43m \u001B[49m\u001B[43mvalues\u001B[49m\u001B[38;5;241;43m=\u001B[39;49m\u001B[43mvalues\u001B[49m\u001B[43m)\u001B[49m\n",
      "File \u001B[1;32m~\\AppData\\Local\\Programs\\Python\\Python39\\lib\\site-packages\\pandas\\core\\reshape\\pivot.py:566\u001B[0m, in \u001B[0;36mpivot\u001B[1;34m(data, columns, index, values)\u001B[0m\n\u001B[0;32m    562\u001B[0m         indexed \u001B[38;5;241m=\u001B[39m data\u001B[38;5;241m.\u001B[39m_constructor(\n\u001B[0;32m    563\u001B[0m             data[values]\u001B[38;5;241m.\u001B[39m_values, index\u001B[38;5;241m=\u001B[39mmultiindex, columns\u001B[38;5;241m=\u001B[39mvalues\n\u001B[0;32m    564\u001B[0m         )\n\u001B[0;32m    565\u001B[0m     \u001B[38;5;28;01melse\u001B[39;00m:\n\u001B[1;32m--> 566\u001B[0m         indexed \u001B[38;5;241m=\u001B[39m data\u001B[38;5;241m.\u001B[39m_constructor_sliced(\u001B[43mdata\u001B[49m\u001B[43m[\u001B[49m\u001B[43mvalues\u001B[49m\u001B[43m]\u001B[49m\u001B[38;5;241m.\u001B[39m_values, index\u001B[38;5;241m=\u001B[39mmultiindex)\n\u001B[0;32m    567\u001B[0m \u001B[38;5;66;03m# error: Argument 1 to \"unstack\" of \"DataFrame\" has incompatible type \"Union\u001B[39;00m\n\u001B[0;32m    568\u001B[0m \u001B[38;5;66;03m# [List[Any], ExtensionArray, ndarray[Any, Any], Index, Series]\"; expected\u001B[39;00m\n\u001B[0;32m    569\u001B[0m \u001B[38;5;66;03m# \"Hashable\"\u001B[39;00m\n\u001B[0;32m    570\u001B[0m result \u001B[38;5;241m=\u001B[39m indexed\u001B[38;5;241m.\u001B[39munstack(columns_listlike)  \u001B[38;5;66;03m# type: ignore[arg-type]\u001B[39;00m\n",
      "File \u001B[1;32m~\\AppData\\Local\\Programs\\Python\\Python39\\lib\\site-packages\\pandas\\core\\frame.py:4102\u001B[0m, in \u001B[0;36mDataFrame.__getitem__\u001B[1;34m(self, key)\u001B[0m\n\u001B[0;32m   4100\u001B[0m \u001B[38;5;28;01mif\u001B[39;00m \u001B[38;5;28mself\u001B[39m\u001B[38;5;241m.\u001B[39mcolumns\u001B[38;5;241m.\u001B[39mnlevels \u001B[38;5;241m>\u001B[39m \u001B[38;5;241m1\u001B[39m:\n\u001B[0;32m   4101\u001B[0m     \u001B[38;5;28;01mreturn\u001B[39;00m \u001B[38;5;28mself\u001B[39m\u001B[38;5;241m.\u001B[39m_getitem_multilevel(key)\n\u001B[1;32m-> 4102\u001B[0m indexer \u001B[38;5;241m=\u001B[39m \u001B[38;5;28;43mself\u001B[39;49m\u001B[38;5;241;43m.\u001B[39;49m\u001B[43mcolumns\u001B[49m\u001B[38;5;241;43m.\u001B[39;49m\u001B[43mget_loc\u001B[49m\u001B[43m(\u001B[49m\u001B[43mkey\u001B[49m\u001B[43m)\u001B[49m\n\u001B[0;32m   4103\u001B[0m \u001B[38;5;28;01mif\u001B[39;00m is_integer(indexer):\n\u001B[0;32m   4104\u001B[0m     indexer \u001B[38;5;241m=\u001B[39m [indexer]\n",
      "File \u001B[1;32m~\\AppData\\Local\\Programs\\Python\\Python39\\lib\\site-packages\\pandas\\core\\indexes\\base.py:3812\u001B[0m, in \u001B[0;36mIndex.get_loc\u001B[1;34m(self, key)\u001B[0m\n\u001B[0;32m   3807\u001B[0m     \u001B[38;5;28;01mif\u001B[39;00m \u001B[38;5;28misinstance\u001B[39m(casted_key, \u001B[38;5;28mslice\u001B[39m) \u001B[38;5;129;01mor\u001B[39;00m (\n\u001B[0;32m   3808\u001B[0m         \u001B[38;5;28misinstance\u001B[39m(casted_key, abc\u001B[38;5;241m.\u001B[39mIterable)\n\u001B[0;32m   3809\u001B[0m         \u001B[38;5;129;01mand\u001B[39;00m \u001B[38;5;28many\u001B[39m(\u001B[38;5;28misinstance\u001B[39m(x, \u001B[38;5;28mslice\u001B[39m) \u001B[38;5;28;01mfor\u001B[39;00m x \u001B[38;5;129;01min\u001B[39;00m casted_key)\n\u001B[0;32m   3810\u001B[0m     ):\n\u001B[0;32m   3811\u001B[0m         \u001B[38;5;28;01mraise\u001B[39;00m InvalidIndexError(key)\n\u001B[1;32m-> 3812\u001B[0m     \u001B[38;5;28;01mraise\u001B[39;00m \u001B[38;5;167;01mKeyError\u001B[39;00m(key) \u001B[38;5;28;01mfrom\u001B[39;00m \u001B[38;5;21;01merr\u001B[39;00m\n\u001B[0;32m   3813\u001B[0m \u001B[38;5;28;01mexcept\u001B[39;00m \u001B[38;5;167;01mTypeError\u001B[39;00m:\n\u001B[0;32m   3814\u001B[0m     \u001B[38;5;66;03m# If we have a listlike key, _check_indexing_error will raise\u001B[39;00m\n\u001B[0;32m   3815\u001B[0m     \u001B[38;5;66;03m#  InvalidIndexError. Otherwise we fall through and re-raise\u001B[39;00m\n\u001B[0;32m   3816\u001B[0m     \u001B[38;5;66;03m#  the TypeError.\u001B[39;00m\n\u001B[0;32m   3817\u001B[0m     \u001B[38;5;28mself\u001B[39m\u001B[38;5;241m.\u001B[39m_check_indexing_error(key)\n",
      "\u001B[1;31mKeyError\u001B[0m: 'yoy_growth'"
     ]
    }
   ],
   "execution_count": 3
  },
  {
   "metadata": {},
   "cell_type": "code",
   "outputs": [],
   "execution_count": null,
   "source": "",
   "id": "aec2351d29a20e0d"
  }
 ],
 "metadata": {
  "kernelspec": {
   "display_name": "Python 3",
   "language": "python",
   "name": "python3"
  },
  "language_info": {
   "codemirror_mode": {
    "name": "ipython",
    "version": 2
   },
   "file_extension": ".py",
   "mimetype": "text/x-python",
   "name": "python",
   "nbconvert_exporter": "python",
   "pygments_lexer": "ipython2",
   "version": "2.7.6"
  }
 },
 "nbformat": 4,
 "nbformat_minor": 5
}
